{
 "cells": [
  {
   "cell_type": "code",
   "execution_count": 1,
   "metadata": {},
   "outputs": [],
   "source": [
    "import pandas as pd\n",
    "import matplotlib.pyplot as plt\n",
    "import seaborn as sns\n",
    "import numpy as np\n",
    "from datetime import date\n",
    "import scipy.stats as st"
   ]
  },
  {
   "cell_type": "markdown",
   "metadata": {},
   "source": [
    "* Lecture du Data frame"
   ]
  },
  {
   "cell_type": "code",
   "execution_count": 2,
   "metadata": {},
   "outputs": [],
   "source": [
    "transaction_df = pd.read_csv('transaction_final.csv')"
   ]
  },
  {
   "cell_type": "markdown",
   "metadata": {},
   "source": [
    "* Decouverte des 5 premières lignes "
   ]
  },
  {
   "cell_type": "code",
   "execution_count": 3,
   "metadata": {},
   "outputs": [
    {
     "data": {
      "text/html": [
       "<div>\n",
       "<style scoped>\n",
       "    .dataframe tbody tr th:only-of-type {\n",
       "        vertical-align: middle;\n",
       "    }\n",
       "\n",
       "    .dataframe tbody tr th {\n",
       "        vertical-align: top;\n",
       "    }\n",
       "\n",
       "    .dataframe thead th {\n",
       "        text-align: right;\n",
       "    }\n",
       "</style>\n",
       "<table border=\"1\" class=\"dataframe\">\n",
       "  <thead>\n",
       "    <tr style=\"text-align: right;\">\n",
       "      <th></th>\n",
       "      <th>date</th>\n",
       "      <th>id_prod</th>\n",
       "      <th>session_id</th>\n",
       "      <th>client_id</th>\n",
       "      <th>price</th>\n",
       "      <th>categ</th>\n",
       "      <th>sex</th>\n",
       "      <th>birth</th>\n",
       "      <th>age</th>\n",
       "      <th>year</th>\n",
       "      <th>month</th>\n",
       "    </tr>\n",
       "  </thead>\n",
       "  <tbody>\n",
       "    <tr>\n",
       "      <th>0</th>\n",
       "      <td>2021-03-01 00:01:07.843138</td>\n",
       "      <td>0_1259</td>\n",
       "      <td>s_1</td>\n",
       "      <td>c_329</td>\n",
       "      <td>11.99</td>\n",
       "      <td>0.0</td>\n",
       "      <td>f</td>\n",
       "      <td>1967</td>\n",
       "      <td>54</td>\n",
       "      <td>2021</td>\n",
       "      <td>3</td>\n",
       "    </tr>\n",
       "    <tr>\n",
       "      <th>1</th>\n",
       "      <td>2021-03-01 00:02:26.047414</td>\n",
       "      <td>0_1390</td>\n",
       "      <td>s_2</td>\n",
       "      <td>c_664</td>\n",
       "      <td>19.37</td>\n",
       "      <td>0.0</td>\n",
       "      <td>m</td>\n",
       "      <td>1960</td>\n",
       "      <td>61</td>\n",
       "      <td>2021</td>\n",
       "      <td>3</td>\n",
       "    </tr>\n",
       "    <tr>\n",
       "      <th>2</th>\n",
       "      <td>2021-03-01 00:02:38.311413</td>\n",
       "      <td>0_1352</td>\n",
       "      <td>s_3</td>\n",
       "      <td>c_580</td>\n",
       "      <td>4.50</td>\n",
       "      <td>0.0</td>\n",
       "      <td>m</td>\n",
       "      <td>1988</td>\n",
       "      <td>33</td>\n",
       "      <td>2021</td>\n",
       "      <td>3</td>\n",
       "    </tr>\n",
       "    <tr>\n",
       "      <th>3</th>\n",
       "      <td>2021-03-01 00:04:54.559692</td>\n",
       "      <td>0_1458</td>\n",
       "      <td>s_4</td>\n",
       "      <td>c_7912</td>\n",
       "      <td>6.55</td>\n",
       "      <td>0.0</td>\n",
       "      <td>f</td>\n",
       "      <td>1989</td>\n",
       "      <td>32</td>\n",
       "      <td>2021</td>\n",
       "      <td>3</td>\n",
       "    </tr>\n",
       "    <tr>\n",
       "      <th>4</th>\n",
       "      <td>2021-03-01 00:05:18.801198</td>\n",
       "      <td>0_1358</td>\n",
       "      <td>s_5</td>\n",
       "      <td>c_2033</td>\n",
       "      <td>16.49</td>\n",
       "      <td>0.0</td>\n",
       "      <td>f</td>\n",
       "      <td>1956</td>\n",
       "      <td>65</td>\n",
       "      <td>2021</td>\n",
       "      <td>3</td>\n",
       "    </tr>\n",
       "  </tbody>\n",
       "</table>\n",
       "</div>"
      ],
      "text/plain": [
       "                         date id_prod session_id client_id  price  categ sex  \\\n",
       "0  2021-03-01 00:01:07.843138  0_1259        s_1     c_329  11.99    0.0   f   \n",
       "1  2021-03-01 00:02:26.047414  0_1390        s_2     c_664  19.37    0.0   m   \n",
       "2  2021-03-01 00:02:38.311413  0_1352        s_3     c_580   4.50    0.0   m   \n",
       "3  2021-03-01 00:04:54.559692  0_1458        s_4    c_7912   6.55    0.0   f   \n",
       "4  2021-03-01 00:05:18.801198  0_1358        s_5    c_2033  16.49    0.0   f   \n",
       "\n",
       "   birth  age  year  month  \n",
       "0   1967   54  2021      3  \n",
       "1   1960   61  2021      3  \n",
       "2   1988   33  2021      3  \n",
       "3   1989   32  2021      3  \n",
       "4   1956   65  2021      3  "
      ]
     },
     "execution_count": 3,
     "metadata": {},
     "output_type": "execute_result"
    }
   ],
   "source": [
    "transaction_df.head()"
   ]
  },
  {
   "cell_type": "markdown",
   "metadata": {},
   "source": [
    "* Vérification de la taille du data frame "
   ]
  },
  {
   "cell_type": "code",
   "execution_count": 4,
   "metadata": {},
   "outputs": [
    {
     "data": {
      "text/plain": [
       "(679332, 11)"
      ]
     },
     "execution_count": 4,
     "metadata": {},
     "output_type": "execute_result"
    }
   ],
   "source": [
    "transaction_df.shape"
   ]
  },
  {
   "cell_type": "markdown",
   "metadata": {},
   "source": [
    "* Vérification des types de données "
   ]
  },
  {
   "cell_type": "code",
   "execution_count": 5,
   "metadata": {},
   "outputs": [
    {
     "data": {
      "text/plain": [
       "date           object\n",
       "id_prod        object\n",
       "session_id     object\n",
       "client_id      object\n",
       "price         float64\n",
       "categ         float64\n",
       "sex            object\n",
       "birth           int64\n",
       "age             int64\n",
       "year            int64\n",
       "month           int64\n",
       "dtype: object"
      ]
     },
     "execution_count": 5,
     "metadata": {},
     "output_type": "execute_result"
    }
   ],
   "source": [
    "transaction_df.dtypes"
   ]
  },
  {
   "cell_type": "markdown",
   "metadata": {},
   "source": [
    "* Vérification des valeurs manquantes "
   ]
  },
  {
   "cell_type": "code",
   "execution_count": 6,
   "metadata": {},
   "outputs": [
    {
     "data": {
      "text/plain": [
       "0"
      ]
     },
     "execution_count": 6,
     "metadata": {},
     "output_type": "execute_result"
    }
   ],
   "source": [
    "transaction_df.isnull().sum().sum()"
   ]
  },
  {
   "cell_type": "markdown",
   "metadata": {},
   "source": [
    "* Date indexing "
   ]
  },
  {
   "cell_type": "code",
   "execution_count": 7,
   "metadata": {},
   "outputs": [],
   "source": [
    "transaction_df['date'] = pd.to_datetime(transaction_df['date'])"
   ]
  },
  {
   "cell_type": "code",
   "execution_count": 8,
   "metadata": {},
   "outputs": [
    {
     "data": {
      "text/plain": [
       "date          datetime64[ns]\n",
       "id_prod               object\n",
       "session_id            object\n",
       "client_id             object\n",
       "price                float64\n",
       "categ                float64\n",
       "sex                   object\n",
       "birth                  int64\n",
       "age                    int64\n",
       "year                   int64\n",
       "month                  int64\n",
       "dtype: object"
      ]
     },
     "execution_count": 8,
     "metadata": {},
     "output_type": "execute_result"
    }
   ],
   "source": [
    "transaction_df.dtypes"
   ]
  },
  {
   "cell_type": "code",
   "execution_count": 9,
   "metadata": {},
   "outputs": [],
   "source": [
    "transaction_df = transaction_df.set_index('date')"
   ]
  },
  {
   "cell_type": "code",
   "execution_count": 10,
   "metadata": {},
   "outputs": [],
   "source": [
    " transaction_df.sort_index(inplace=True)"
   ]
  },
  {
   "cell_type": "code",
   "execution_count": 11,
   "metadata": {},
   "outputs": [
    {
     "data": {
      "text/html": [
       "<div>\n",
       "<style scoped>\n",
       "    .dataframe tbody tr th:only-of-type {\n",
       "        vertical-align: middle;\n",
       "    }\n",
       "\n",
       "    .dataframe tbody tr th {\n",
       "        vertical-align: top;\n",
       "    }\n",
       "\n",
       "    .dataframe thead th {\n",
       "        text-align: right;\n",
       "    }\n",
       "</style>\n",
       "<table border=\"1\" class=\"dataframe\">\n",
       "  <thead>\n",
       "    <tr style=\"text-align: right;\">\n",
       "      <th></th>\n",
       "      <th>id_prod</th>\n",
       "      <th>session_id</th>\n",
       "      <th>client_id</th>\n",
       "      <th>price</th>\n",
       "      <th>categ</th>\n",
       "      <th>sex</th>\n",
       "      <th>birth</th>\n",
       "      <th>age</th>\n",
       "      <th>year</th>\n",
       "      <th>month</th>\n",
       "    </tr>\n",
       "    <tr>\n",
       "      <th>date</th>\n",
       "      <th></th>\n",
       "      <th></th>\n",
       "      <th></th>\n",
       "      <th></th>\n",
       "      <th></th>\n",
       "      <th></th>\n",
       "      <th></th>\n",
       "      <th></th>\n",
       "      <th></th>\n",
       "      <th></th>\n",
       "    </tr>\n",
       "  </thead>\n",
       "  <tbody>\n",
       "    <tr>\n",
       "      <th>2021-03-01 00:01:07.843138</th>\n",
       "      <td>0_1259</td>\n",
       "      <td>s_1</td>\n",
       "      <td>c_329</td>\n",
       "      <td>11.99</td>\n",
       "      <td>0.0</td>\n",
       "      <td>f</td>\n",
       "      <td>1967</td>\n",
       "      <td>54</td>\n",
       "      <td>2021</td>\n",
       "      <td>3</td>\n",
       "    </tr>\n",
       "    <tr>\n",
       "      <th>2021-03-01 00:02:26.047414</th>\n",
       "      <td>0_1390</td>\n",
       "      <td>s_2</td>\n",
       "      <td>c_664</td>\n",
       "      <td>19.37</td>\n",
       "      <td>0.0</td>\n",
       "      <td>m</td>\n",
       "      <td>1960</td>\n",
       "      <td>61</td>\n",
       "      <td>2021</td>\n",
       "      <td>3</td>\n",
       "    </tr>\n",
       "    <tr>\n",
       "      <th>2021-03-01 00:02:38.311413</th>\n",
       "      <td>0_1352</td>\n",
       "      <td>s_3</td>\n",
       "      <td>c_580</td>\n",
       "      <td>4.50</td>\n",
       "      <td>0.0</td>\n",
       "      <td>m</td>\n",
       "      <td>1988</td>\n",
       "      <td>33</td>\n",
       "      <td>2021</td>\n",
       "      <td>3</td>\n",
       "    </tr>\n",
       "    <tr>\n",
       "      <th>2021-03-01 00:04:54.559692</th>\n",
       "      <td>0_1458</td>\n",
       "      <td>s_4</td>\n",
       "      <td>c_7912</td>\n",
       "      <td>6.55</td>\n",
       "      <td>0.0</td>\n",
       "      <td>f</td>\n",
       "      <td>1989</td>\n",
       "      <td>32</td>\n",
       "      <td>2021</td>\n",
       "      <td>3</td>\n",
       "    </tr>\n",
       "    <tr>\n",
       "      <th>2021-03-01 00:05:18.801198</th>\n",
       "      <td>0_1358</td>\n",
       "      <td>s_5</td>\n",
       "      <td>c_2033</td>\n",
       "      <td>16.49</td>\n",
       "      <td>0.0</td>\n",
       "      <td>f</td>\n",
       "      <td>1956</td>\n",
       "      <td>65</td>\n",
       "      <td>2021</td>\n",
       "      <td>3</td>\n",
       "    </tr>\n",
       "  </tbody>\n",
       "</table>\n",
       "</div>"
      ],
      "text/plain": [
       "                           id_prod session_id client_id  price  categ sex  \\\n",
       "date                                                                        \n",
       "2021-03-01 00:01:07.843138  0_1259        s_1     c_329  11.99    0.0   f   \n",
       "2021-03-01 00:02:26.047414  0_1390        s_2     c_664  19.37    0.0   m   \n",
       "2021-03-01 00:02:38.311413  0_1352        s_3     c_580   4.50    0.0   m   \n",
       "2021-03-01 00:04:54.559692  0_1458        s_4    c_7912   6.55    0.0   f   \n",
       "2021-03-01 00:05:18.801198  0_1358        s_5    c_2033  16.49    0.0   f   \n",
       "\n",
       "                            birth  age  year  month  \n",
       "date                                                 \n",
       "2021-03-01 00:01:07.843138   1967   54  2021      3  \n",
       "2021-03-01 00:02:26.047414   1960   61  2021      3  \n",
       "2021-03-01 00:02:38.311413   1988   33  2021      3  \n",
       "2021-03-01 00:04:54.559692   1989   32  2021      3  \n",
       "2021-03-01 00:05:18.801198   1956   65  2021      3  "
      ]
     },
     "execution_count": 11,
     "metadata": {},
     "output_type": "execute_result"
    }
   ],
   "source": [
    "transaction_df.head()"
   ]
  },
  {
   "cell_type": "markdown",
   "metadata": {},
   "source": [
    "# Analyse Univariée et Bivariée"
   ]
  },
  {
   "cell_type": "markdown",
   "metadata": {},
   "source": [
    "## Le Chiffre d'Affaires (CA)"
   ]
  },
  {
   "cell_type": "markdown",
   "metadata": {},
   "source": [
    "Pour analyser les performances commerciales nous allons définir une périodicité. Ainsi donc la première année sera de 2021-03 à 2022-02 et la deuxième année sera de 2022-03 à 2023-02."
   ]
  },
  {
   "cell_type": "markdown",
   "metadata": {},
   "source": [
    "* Calcul du CA de de la première année: de 2021-03 au 2022-02 (CA_an1)"
   ]
  },
  {
   "cell_type": "code",
   "execution_count": 12,
   "metadata": {},
   "outputs": [],
   "source": [
    "CA_an1 = transaction_df.loc['2021-03':'2022-02', 'price'].sum()"
   ]
  },
  {
   "cell_type": "code",
   "execution_count": 13,
   "metadata": {},
   "outputs": [
    {
     "name": "stdout",
     "output_type": "stream",
     "text": [
      "Le chiffre d'affaire de la première année est de:5832832.798 EURO\n"
     ]
    }
   ],
   "source": [
    "print(f'Le chiffre d\\'affaire de la première année est de:{CA_an1.round(3)} EURO')"
   ]
  },
  {
   "cell_type": "markdown",
   "metadata": {},
   "source": [
    "* Calcul du CA de la deuxième année: de 2022-03 au 2023-02 (CA_an2)"
   ]
  },
  {
   "cell_type": "code",
   "execution_count": 14,
   "metadata": {},
   "outputs": [],
   "source": [
    "CA_an2 = transaction_df.loc['2022-03':'2023-02', 'price'].sum()"
   ]
  },
  {
   "cell_type": "code",
   "execution_count": 15,
   "metadata": {},
   "outputs": [
    {
     "name": "stdout",
     "output_type": "stream",
     "text": [
      "Le chiffre d'affaire de la première année est de:6023246.953 EURO\n"
     ]
    }
   ],
   "source": [
    "print(f'Le chiffre d\\'affaire de la première année est de:{CA_an2.round(3)} EURO')"
   ]
  },
  {
   "cell_type": "markdown",
   "metadata": {},
   "source": [
    "* Calcul de la variation du CA"
   ]
  },
  {
   "cell_type": "code",
   "execution_count": 16,
   "metadata": {},
   "outputs": [],
   "source": [
    "variation_CA = ((CA_an2 - CA_an1) / CA_an1) * 100"
   ]
  },
  {
   "cell_type": "code",
   "execution_count": 17,
   "metadata": {},
   "outputs": [
    {
     "data": {
      "text/plain": [
       "3.26"
      ]
     },
     "execution_count": 17,
     "metadata": {},
     "output_type": "execute_result"
    }
   ],
   "source": [
    "variation_CA.round(2)"
   ]
  },
  {
   "cell_type": "markdown",
   "metadata": {},
   "source": [
    "**Conclusion:** Le CA est en croissance de 3.26% par rapport à celui de la première année."
   ]
  },
  {
   "cell_type": "markdown",
   "metadata": {},
   "source": [
    "### Evolution du CA selon la fréquence temporelle "
   ]
  },
  {
   "cell_type": "markdown",
   "metadata": {},
   "source": [
    "* Calcul du CA par mois"
   ]
  },
  {
   "cell_type": "code",
   "execution_count": 18,
   "metadata": {},
   "outputs": [
    {
     "data": {
      "text/html": [
       "<div>\n",
       "<style scoped>\n",
       "    .dataframe tbody tr th:only-of-type {\n",
       "        vertical-align: middle;\n",
       "    }\n",
       "\n",
       "    .dataframe tbody tr th {\n",
       "        vertical-align: top;\n",
       "    }\n",
       "\n",
       "    .dataframe thead th {\n",
       "        text-align: right;\n",
       "    }\n",
       "</style>\n",
       "<table border=\"1\" class=\"dataframe\">\n",
       "  <thead>\n",
       "    <tr style=\"text-align: right;\">\n",
       "      <th></th>\n",
       "      <th>date</th>\n",
       "      <th>price</th>\n",
       "    </tr>\n",
       "  </thead>\n",
       "  <tbody>\n",
       "    <tr>\n",
       "      <th>0</th>\n",
       "      <td>2022-02-28</td>\n",
       "      <td>535688.521627</td>\n",
       "    </tr>\n",
       "    <tr>\n",
       "      <th>1</th>\n",
       "      <td>2021-12-31</td>\n",
       "      <td>525991.748308</td>\n",
       "    </tr>\n",
       "    <tr>\n",
       "      <th>2</th>\n",
       "      <td>2022-01-31</td>\n",
       "      <td>525392.181648</td>\n",
       "    </tr>\n",
       "    <tr>\n",
       "      <th>3</th>\n",
       "      <td>2023-01-31</td>\n",
       "      <td>517615.018308</td>\n",
       "    </tr>\n",
       "    <tr>\n",
       "      <th>4</th>\n",
       "      <td>2022-05-31</td>\n",
       "      <td>517302.813275</td>\n",
       "    </tr>\n",
       "    <tr>\n",
       "      <th>5</th>\n",
       "      <td>2021-11-30</td>\n",
       "      <td>516274.113297</td>\n",
       "    </tr>\n",
       "    <tr>\n",
       "      <th>6</th>\n",
       "      <td>2022-03-31</td>\n",
       "      <td>515573.551627</td>\n",
       "    </tr>\n",
       "    <tr>\n",
       "      <th>7</th>\n",
       "      <td>2022-07-31</td>\n",
       "      <td>510910.779956</td>\n",
       "    </tr>\n",
       "    <tr>\n",
       "      <th>8</th>\n",
       "      <td>2022-12-31</td>\n",
       "      <td>510283.329978</td>\n",
       "    </tr>\n",
       "    <tr>\n",
       "      <th>9</th>\n",
       "      <td>2022-10-31</td>\n",
       "      <td>508024.153297</td>\n",
       "    </tr>\n",
       "    <tr>\n",
       "      <th>10</th>\n",
       "      <td>2021-09-30</td>\n",
       "      <td>507368.339956</td>\n",
       "    </tr>\n",
       "    <tr>\n",
       "      <th>11</th>\n",
       "      <td>2022-08-31</td>\n",
       "      <td>506552.376637</td>\n",
       "    </tr>\n",
       "    <tr>\n",
       "      <th>12</th>\n",
       "      <td>2022-11-30</td>\n",
       "      <td>496781.961627</td>\n",
       "    </tr>\n",
       "    <tr>\n",
       "      <th>13</th>\n",
       "      <td>2022-06-30</td>\n",
       "      <td>496090.588308</td>\n",
       "    </tr>\n",
       "    <tr>\n",
       "      <th>14</th>\n",
       "      <td>2022-09-30</td>\n",
       "      <td>494210.274967</td>\n",
       "    </tr>\n",
       "    <tr>\n",
       "      <th>15</th>\n",
       "      <td>2022-04-30</td>\n",
       "      <td>493147.876616</td>\n",
       "    </tr>\n",
       "    <tr>\n",
       "      <th>16</th>\n",
       "      <td>2021-05-31</td>\n",
       "      <td>493028.576637</td>\n",
       "    </tr>\n",
       "    <tr>\n",
       "      <th>17</th>\n",
       "      <td>2021-06-30</td>\n",
       "      <td>484163.028308</td>\n",
       "    </tr>\n",
       "    <tr>\n",
       "      <th>18</th>\n",
       "      <td>2021-07-31</td>\n",
       "      <td>482877.953319</td>\n",
       "    </tr>\n",
       "    <tr>\n",
       "      <th>19</th>\n",
       "      <td>2021-03-31</td>\n",
       "      <td>482536.354967</td>\n",
       "    </tr>\n",
       "    <tr>\n",
       "      <th>20</th>\n",
       "      <td>2021-08-31</td>\n",
       "      <td>482380.534967</td>\n",
       "    </tr>\n",
       "    <tr>\n",
       "      <th>21</th>\n",
       "      <td>2021-04-30</td>\n",
       "      <td>476258.236616</td>\n",
       "    </tr>\n",
       "    <tr>\n",
       "      <th>22</th>\n",
       "      <td>2023-02-28</td>\n",
       "      <td>456754.228308</td>\n",
       "    </tr>\n",
       "    <tr>\n",
       "      <th>23</th>\n",
       "      <td>2021-10-31</td>\n",
       "      <td>320873.208308</td>\n",
       "    </tr>\n",
       "  </tbody>\n",
       "</table>\n",
       "</div>"
      ],
      "text/plain": [
       "         date          price\n",
       "0  2022-02-28  535688.521627\n",
       "1  2021-12-31  525991.748308\n",
       "2  2022-01-31  525392.181648\n",
       "3  2023-01-31  517615.018308\n",
       "4  2022-05-31  517302.813275\n",
       "5  2021-11-30  516274.113297\n",
       "6  2022-03-31  515573.551627\n",
       "7  2022-07-31  510910.779956\n",
       "8  2022-12-31  510283.329978\n",
       "9  2022-10-31  508024.153297\n",
       "10 2021-09-30  507368.339956\n",
       "11 2022-08-31  506552.376637\n",
       "12 2022-11-30  496781.961627\n",
       "13 2022-06-30  496090.588308\n",
       "14 2022-09-30  494210.274967\n",
       "15 2022-04-30  493147.876616\n",
       "16 2021-05-31  493028.576637\n",
       "17 2021-06-30  484163.028308\n",
       "18 2021-07-31  482877.953319\n",
       "19 2021-03-31  482536.354967\n",
       "20 2021-08-31  482380.534967\n",
       "21 2021-04-30  476258.236616\n",
       "22 2023-02-28  456754.228308\n",
       "23 2021-10-31  320873.208308"
      ]
     },
     "execution_count": 18,
     "metadata": {},
     "output_type": "execute_result"
    }
   ],
   "source": [
    "transaction_df.loc['2021':'2023', 'price'].resample('M').sum().sort_values(ascending=False).reset_index()"
   ]
  },
  {
   "cell_type": "markdown",
   "metadata": {},
   "source": [
    "* Visualisation de l'évolution du CA par mois, par semaine et par jour"
   ]
  },
  {
   "cell_type": "code",
   "execution_count": 19,
   "metadata": {},
   "outputs": [
    {
     "data": {
      "image/png": "[encoded data removed]",
      "text/plain": [
       "<Figure size 864x432 with 1 Axes>"
      ]
     },
     "metadata": {
      "needs_background": "light"
     },
     "output_type": "display_data"
    }
   ],
   "source": [
    "plt.figure(figsize=(12,6))\n",
    "transaction_df.loc['2021':'2023', 'price'].resample('M').sum().plot(kind='line', label='Chiffre d\\'affaires mensuel',style='-o', grid=True)\n",
    "transaction_df.loc['2021':'2023', 'price'].resample('W').sum().plot(kind='line', label='Chiffre d\\'affaires par semaine', lw=2, ls=':', alpha=0.8, grid=True)\n",
    "transaction_df.loc['2021':'2023', 'price'].resample('D').sum().plot(kind='line', label='Chiffre d\\'affaires par jour', lw=3, ls='--', alpha=0.8, grid=True)\n",
    "plt.ylabel('CA')\n",
    "plt.title('Evolution du CA en fonction du temps')\n",
    "plt.legend(loc='center')\n",
    "plt.show()"
   ]
  },
  {
   "cell_type": "markdown",
   "metadata": {},
   "source": [
    "**Conclusion**\n",
    "- De manière général le CA subit une fluctuation.\n",
    "- Le CA chute brusquement dans le mois d'**octobre 2021** passant de 516274 EURO à 320873 EURO puis augmente à partir de novembre 2021. Cette baisse du CA est probablement due à un bug ou à des ventes qui n'ont pas été enregistrées (voir les 21 produits non vendus identifiés pendant le data procesing). \n",
    "- Le mois de **fervier 2022** a enregistré le **CA le plus élévé** par contre celui d'**Octobre 2021** a enregistré le **CA le plus bas**."
   ]
  },
  {
   "cell_type": "markdown",
   "metadata": {},
   "source": [
    "### Evolution du CA moyen par mois (CA_moyen_mois)"
   ]
  },
  {
   "cell_type": "markdown",
   "metadata": {},
   "source": [
    "* Calcul du CA moyen par mois"
   ]
  },
  {
   "cell_type": "code",
   "execution_count": 20,
   "metadata": {},
   "outputs": [],
   "source": [
    "CA_moyen_mensuel = transaction_df.loc['2021':'2023', 'price'].resample('M').mean().round(3)"
   ]
  },
  {
   "cell_type": "code",
   "execution_count": 21,
   "metadata": {},
   "outputs": [
    {
     "data": {
      "text/html": [
       "<div>\n",
       "<style scoped>\n",
       "    .dataframe tbody tr th:only-of-type {\n",
       "        vertical-align: middle;\n",
       "    }\n",
       "\n",
       "    .dataframe tbody tr th {\n",
       "        vertical-align: top;\n",
       "    }\n",
       "\n",
       "    .dataframe thead th {\n",
       "        text-align: right;\n",
       "    }\n",
       "</style>\n",
       "<table border=\"1\" class=\"dataframe\">\n",
       "  <thead>\n",
       "    <tr style=\"text-align: right;\">\n",
       "      <th></th>\n",
       "      <th>date</th>\n",
       "      <th>price</th>\n",
       "    </tr>\n",
       "  </thead>\n",
       "  <tbody>\n",
       "    <tr>\n",
       "      <th>4</th>\n",
       "      <td>2021-07-31</td>\n",
       "      <td>19.517</td>\n",
       "    </tr>\n",
       "    <tr>\n",
       "      <th>5</th>\n",
       "      <td>2021-08-31</td>\n",
       "      <td>18.800</td>\n",
       "    </tr>\n",
       "    <tr>\n",
       "      <th>8</th>\n",
       "      <td>2021-11-30</td>\n",
       "      <td>18.229</td>\n",
       "    </tr>\n",
       "    <tr>\n",
       "      <th>11</th>\n",
       "      <td>2022-02-28</td>\n",
       "      <td>18.095</td>\n",
       "    </tr>\n",
       "    <tr>\n",
       "      <th>3</th>\n",
       "      <td>2021-06-30</td>\n",
       "      <td>18.027</td>\n",
       "    </tr>\n",
       "    <tr>\n",
       "      <th>10</th>\n",
       "      <td>2022-01-31</td>\n",
       "      <td>17.902</td>\n",
       "    </tr>\n",
       "    <tr>\n",
       "      <th>22</th>\n",
       "      <td>2023-01-31</td>\n",
       "      <td>17.883</td>\n",
       "    </tr>\n",
       "    <tr>\n",
       "      <th>23</th>\n",
       "      <td>2023-02-28</td>\n",
       "      <td>17.875</td>\n",
       "    </tr>\n",
       "    <tr>\n",
       "      <th>13</th>\n",
       "      <td>2022-04-30</td>\n",
       "      <td>17.857</td>\n",
       "    </tr>\n",
       "    <tr>\n",
       "      <th>21</th>\n",
       "      <td>2022-12-31</td>\n",
       "      <td>17.826</td>\n",
       "    </tr>\n",
       "    <tr>\n",
       "      <th>16</th>\n",
       "      <td>2022-07-31</td>\n",
       "      <td>17.813</td>\n",
       "    </tr>\n",
       "    <tr>\n",
       "      <th>17</th>\n",
       "      <td>2022-08-31</td>\n",
       "      <td>17.741</td>\n",
       "    </tr>\n",
       "    <tr>\n",
       "      <th>19</th>\n",
       "      <td>2022-10-31</td>\n",
       "      <td>17.534</td>\n",
       "    </tr>\n",
       "    <tr>\n",
       "      <th>18</th>\n",
       "      <td>2022-09-30</td>\n",
       "      <td>17.454</td>\n",
       "    </tr>\n",
       "    <tr>\n",
       "      <th>2</th>\n",
       "      <td>2021-05-31</td>\n",
       "      <td>17.426</td>\n",
       "    </tr>\n",
       "    <tr>\n",
       "      <th>15</th>\n",
       "      <td>2022-06-30</td>\n",
       "      <td>17.400</td>\n",
       "    </tr>\n",
       "    <tr>\n",
       "      <th>20</th>\n",
       "      <td>2022-11-30</td>\n",
       "      <td>17.386</td>\n",
       "    </tr>\n",
       "    <tr>\n",
       "      <th>12</th>\n",
       "      <td>2022-03-31</td>\n",
       "      <td>17.355</td>\n",
       "    </tr>\n",
       "    <tr>\n",
       "      <th>14</th>\n",
       "      <td>2022-05-31</td>\n",
       "      <td>17.249</td>\n",
       "    </tr>\n",
       "    <tr>\n",
       "      <th>0</th>\n",
       "      <td>2021-03-31</td>\n",
       "      <td>16.866</td>\n",
       "    </tr>\n",
       "    <tr>\n",
       "      <th>1</th>\n",
       "      <td>2021-04-30</td>\n",
       "      <td>16.736</td>\n",
       "    </tr>\n",
       "    <tr>\n",
       "      <th>9</th>\n",
       "      <td>2021-12-31</td>\n",
       "      <td>16.202</td>\n",
       "    </tr>\n",
       "    <tr>\n",
       "      <th>6</th>\n",
       "      <td>2021-09-30</td>\n",
       "      <td>15.224</td>\n",
       "    </tr>\n",
       "    <tr>\n",
       "      <th>7</th>\n",
       "      <td>2021-10-31</td>\n",
       "      <td>14.851</td>\n",
       "    </tr>\n",
       "  </tbody>\n",
       "</table>\n",
       "</div>"
      ],
      "text/plain": [
       "         date   price\n",
       "4  2021-07-31  19.517\n",
       "5  2021-08-31  18.800\n",
       "8  2021-11-30  18.229\n",
       "11 2022-02-28  18.095\n",
       "3  2021-06-30  18.027\n",
       "10 2022-01-31  17.902\n",
       "22 2023-01-31  17.883\n",
       "23 2023-02-28  17.875\n",
       "13 2022-04-30  17.857\n",
       "21 2022-12-31  17.826\n",
       "16 2022-07-31  17.813\n",
       "17 2022-08-31  17.741\n",
       "19 2022-10-31  17.534\n",
       "18 2022-09-30  17.454\n",
       "2  2021-05-31  17.426\n",
       "15 2022-06-30  17.400\n",
       "20 2022-11-30  17.386\n",
       "12 2022-03-31  17.355\n",
       "14 2022-05-31  17.249\n",
       "0  2021-03-31  16.866\n",
       "1  2021-04-30  16.736\n",
       "9  2021-12-31  16.202\n",
       "6  2021-09-30  15.224\n",
       "7  2021-10-31  14.851"
      ]
     },
     "execution_count": 21,
     "metadata": {},
     "output_type": "execute_result"
    }
   ],
   "source": [
    "CA_moyen_mensuel.reset_index().sort_values(by='price', ascending=False)"
   ]
  },
  {
   "cell_type": "markdown",
   "metadata": {},
   "source": [
    "* Visualisation "
   ]
  },
  {
   "cell_type": "code",
   "execution_count": 22,
   "metadata": {},
   "outputs": [
    {
     "data": {
      "image/png": "[encoded data removed]",
      "text/plain": [
       "<Figure size 864x432 with 1 Axes>"
      ]
     },
     "metadata": {
      "needs_background": "light"
     },
     "output_type": "display_data"
    }
   ],
   "source": [
    "plt.figure(figsize=(12,6))\n",
    "CA_moyen_mensuel.plot(kind='line', label='CA_moyen_mensuel',style='-o', grid=True)\n",
    "plt.ylabel('CA_moyen')\n",
    "plt.title('Evolution du CA moyen mensuel en fonction du temps')\n",
    "plt.legend(loc='upper center')\n",
    "plt.show()"
   ]
  },
  {
   "cell_type": "markdown",
   "metadata": {},
   "source": [
    "Le CA_moyen_mensuel est généralement compris entre 17 et 18 EURO. Le CA_moyen_mensuel le plus élévé est celui du mois de juillet 2021 et le plus bas est celui du mois d'octobre 2021."
   ]
  },
  {
   "cell_type": "markdown",
   "metadata": {},
   "source": [
    "* Evolution du CA moyen par mois, par semaine et par jour"
   ]
  },
  {
   "cell_type": "code",
   "execution_count": 23,
   "metadata": {},
   "outputs": [
    {
     "data": {
      "image/png": "[encoded data removed]",
      "text/plain": [
       "<Figure size 864x432 with 1 Axes>"
      ]
     },
     "metadata": {
      "needs_background": "light"
     },
     "output_type": "display_data"
    }
   ],
   "source": [
    "plt.figure(figsize=(12,6))\n",
    "transaction_df.loc['2021':'2023', 'price'].resample('M').mean().plot(kind='line', label='CA_moyen par mois',style='-o', grid=True)\n",
    "transaction_df.loc['2021':'2023', 'price'].resample('W').mean().plot(kind='line', label='CA_moyen par semaine', lw=2, ls=':', alpha=0.8, grid=True)\n",
    "transaction_df.loc['2021':'2023', 'price'].resample('D').mean().plot(kind='line', label='CA_moyen par jour', lw=3, ls='--', alpha=0.8, grid=True)\n",
    "plt.ylabel('CA_moyen')\n",
    "plt.title('Evolution du CA moyen en fonction du temps')\n",
    "plt.legend(loc='upper center')\n",
    "plt.show()"
   ]
  },
  {
   "cell_type": "markdown",
   "metadata": {},
   "source": [
    "**Conclusion:**\n",
    "- De manière générale le CA_moyen fluctue entre 17 et 18 EURO\n",
    "- Le mois de **juillet 2021** a enregistré le **CA_moyen_mensuel le plus élévé** (au dessus de 19 EURO) contrairement au mois **d'octobre 2021** le **CA_moyen_mensuel le plus bas(en dessous de 15 EURO)**. \n",
    "- Le mois de **Janvier 2023** enregistre le **CA_moyen journalier le plus élévé (21 EURO)**. "
   ]
  },
  {
   "cell_type": "markdown",
   "metadata": {},
   "source": [
    "## Analyse des KPI autour du CA"
   ]
  },
  {
   "cell_type": "markdown",
   "metadata": {},
   "source": [
    "Les KPI autour du CA permettent d'analyser les performances commerciales. "
   ]
  },
  {
   "cell_type": "markdown",
   "metadata": {},
   "source": [
    "### Le nombre de commandes "
   ]
  },
  {
   "cell_type": "markdown",
   "metadata": {},
   "source": [
    "* Calcul du nombre de commandes de la première année: de 2021-03 au 2022-02"
   ]
  },
  {
   "cell_type": "code",
   "execution_count": 24,
   "metadata": {},
   "outputs": [],
   "source": [
    "nb_command_an1 = transaction_df.loc['2021-03':'2022-02', 'session_id'].nunique()"
   ]
  },
  {
   "cell_type": "code",
   "execution_count": 25,
   "metadata": {},
   "outputs": [
    {
     "name": "stdout",
     "output_type": "stream",
     "text": [
      "Le nombre de commandes de la première année est de: 169194\n"
     ]
    }
   ],
   "source": [
    "print(f\"Le nombre de commandes de la première année est de: {nb_command_an1}\")"
   ]
  },
  {
   "cell_type": "markdown",
   "metadata": {},
   "source": [
    "* Calcul du nombre de commande de la deuxième année: de 2022-03 au 2023-02"
   ]
  },
  {
   "cell_type": "code",
   "execution_count": 26,
   "metadata": {},
   "outputs": [],
   "source": [
    "nb_command_an2 = transaction_df.loc['2022-03':'2023-02', 'session_id'].nunique()"
   ]
  },
  {
   "cell_type": "code",
   "execution_count": 27,
   "metadata": {},
   "outputs": [
    {
     "name": "stdout",
     "output_type": "stream",
     "text": [
      "Le nombre de commande de la deuxième année est de: 173121\n"
     ]
    }
   ],
   "source": [
    "print(f\"Le nombre de commande de la deuxième année est de: {nb_command_an2}\")"
   ]
  },
  {
   "cell_type": "markdown",
   "metadata": {},
   "source": [
    "* Le pourcentage d'evolution du nombre de commandes"
   ]
  },
  {
   "cell_type": "code",
   "execution_count": 28,
   "metadata": {},
   "outputs": [],
   "source": [
    "Evolution_nb_command = ((nb_command_an2-nb_command_an1)/nb_command_an1)*100"
   ]
  },
  {
   "cell_type": "code",
   "execution_count": 29,
   "metadata": {},
   "outputs": [
    {
     "data": {
      "text/plain": [
       "2.3210042909323025"
      ]
     },
     "execution_count": 29,
     "metadata": {},
     "output_type": "execute_result"
    }
   ],
   "source": [
    "Evolution_nb_command"
   ]
  },
  {
   "cell_type": "markdown",
   "metadata": {},
   "source": [
    "**Conclusion**: Le nombre de commandes **a augmenté de 2.3%** de la première année à la deuxième année"
   ]
  },
  {
   "cell_type": "markdown",
   "metadata": {},
   "source": [
    "### Le nombre d'articles vendus"
   ]
  },
  {
   "cell_type": "markdown",
   "metadata": {},
   "source": [
    "* Le nombre d'articles par an "
   ]
  },
  {
   "cell_type": "code",
   "execution_count": 30,
   "metadata": {},
   "outputs": [],
   "source": [
    "nb_art_an1 = transaction_df.loc['2021-03':'2022-02', 'id_prod'].count()"
   ]
  },
  {
   "cell_type": "code",
   "execution_count": 31,
   "metadata": {},
   "outputs": [
    {
     "name": "stdout",
     "output_type": "stream",
     "text": [
      "Le nombre d'articles vendus de la première année est de:337288\n"
     ]
    }
   ],
   "source": [
    "print(f\"Le nombre d'articles vendus de la première année est de:{nb_art_an1}\")"
   ]
  },
  {
   "cell_type": "code",
   "execution_count": 32,
   "metadata": {},
   "outputs": [],
   "source": [
    "nb_art_an2 = transaction_df.loc['2022-03':'2023-02', 'id_prod'].count()"
   ]
  },
  {
   "cell_type": "code",
   "execution_count": 33,
   "metadata": {},
   "outputs": [
    {
     "name": "stdout",
     "output_type": "stream",
     "text": [
      "Le nombre d'articles vendus de la deuxième année est de:342044\n"
     ]
    }
   ],
   "source": [
    "print(f\"Le nombre d'articles vendus de la deuxième année est de:{nb_art_an2}\")"
   ]
  },
  {
   "cell_type": "markdown",
   "metadata": {},
   "source": [
    "* Le pourcentage d'évolution du nombre d'articles vendus"
   ]
  },
  {
   "cell_type": "code",
   "execution_count": 34,
   "metadata": {},
   "outputs": [],
   "source": [
    "evolution_nb_article = ((nb_art_an2 - nb_art_an1) / nb_art_an1)*100"
   ]
  },
  {
   "cell_type": "code",
   "execution_count": 35,
   "metadata": {},
   "outputs": [
    {
     "data": {
      "text/plain": [
       "1.4100709186214748"
      ]
     },
     "execution_count": 35,
     "metadata": {},
     "output_type": "execute_result"
    }
   ],
   "source": [
    "evolution_nb_article"
   ]
  },
  {
   "cell_type": "markdown",
   "metadata": {},
   "source": [
    "**Conclusion:** Le nombre d'articles vendus **a augmenté de plus de 1.4%** de la première année à la deuxième année."
   ]
  },
  {
   "cell_type": "markdown",
   "metadata": {},
   "source": [
    "### Le nombre de sessions"
   ]
  },
  {
   "cell_type": "markdown",
   "metadata": {},
   "source": [
    "* Le nombre de sessions par an"
   ]
  },
  {
   "cell_type": "code",
   "execution_count": 36,
   "metadata": {},
   "outputs": [],
   "source": [
    "nb_session_an1 = transaction_df.loc['2021-03':'2022-02', 'session_id'].nunique()"
   ]
  },
  {
   "cell_type": "code",
   "execution_count": 37,
   "metadata": {},
   "outputs": [
    {
     "name": "stdout",
     "output_type": "stream",
     "text": [
      "Le nombre de session de la première année est de:169194\n"
     ]
    }
   ],
   "source": [
    "print(f\"Le nombre de session de la première année est de:{nb_session_an1}\")"
   ]
  },
  {
   "cell_type": "code",
   "execution_count": 38,
   "metadata": {},
   "outputs": [],
   "source": [
    "nb_session_an2 = transaction_df.loc['2022-03':'2023-02', 'session_id'].nunique()"
   ]
  },
  {
   "cell_type": "code",
   "execution_count": 39,
   "metadata": {},
   "outputs": [
    {
     "name": "stdout",
     "output_type": "stream",
     "text": [
      "Le nombre de session de la deuxième année est de:173121\n"
     ]
    }
   ],
   "source": [
    "print(f\"Le nombre de session de la deuxième année est de:{nb_session_an2}\")"
   ]
  },
  {
   "cell_type": "markdown",
   "metadata": {},
   "source": [
    "* Le pourcentage d'evolution du nombre de sessions"
   ]
  },
  {
   "cell_type": "code",
   "execution_count": 40,
   "metadata": {},
   "outputs": [],
   "source": [
    "evolution_session = ((nb_session_an2 - nb_session_an1) / nb_session_an1)*100"
   ]
  },
  {
   "cell_type": "code",
   "execution_count": 41,
   "metadata": {},
   "outputs": [
    {
     "data": {
      "text/plain": [
       "2.3210042909323025"
      ]
     },
     "execution_count": 41,
     "metadata": {},
     "output_type": "execute_result"
    }
   ],
   "source": [
    "evolution_session"
   ]
  },
  {
   "cell_type": "markdown",
   "metadata": {},
   "source": [
    "**Conclusion:** Le nombre de sessions **a augmenté de 2.32%** par rapport à la première année."
   ]
  },
  {
   "cell_type": "markdown",
   "metadata": {},
   "source": [
    "### Calcul de l'indice de vente (IDV) "
   ]
  },
  {
   "cell_type": "markdown",
   "metadata": {},
   "source": [
    "L’Indice de Vente (IDV) est un indicateur qui mesure le nombre moyen d’articles achetés lors d’une transaction.\n",
    "\n",
    "C’est le nombre de produits contenus en moyenne dans une commande sur un e-shop. Il est intéressant à surveiller car c’est un moyen de valoriser le Panier Moyen et d’augmenter votre Chiffre d’Affaires.\n",
    "sa formule est la suivante:\n",
    "\n",
    "**Indice De Vente = Nombre d’articles vendus / Nombre de Commandes**"
   ]
  },
  {
   "cell_type": "markdown",
   "metadata": {},
   "source": [
    "* Calcul de l'IDV par an"
   ]
  },
  {
   "cell_type": "code",
   "execution_count": 42,
   "metadata": {},
   "outputs": [],
   "source": [
    "IDV_an1 = nb_art_an1 / nb_command_an1"
   ]
  },
  {
   "cell_type": "code",
   "execution_count": 43,
   "metadata": {},
   "outputs": [
    {
     "data": {
      "text/plain": [
       "2.0"
      ]
     },
     "execution_count": 43,
     "metadata": {},
     "output_type": "execute_result"
    }
   ],
   "source": [
    "IDV_an1.round(1)"
   ]
  },
  {
   "cell_type": "code",
   "execution_count": 44,
   "metadata": {},
   "outputs": [],
   "source": [
    "IDV_an2 = nb_art_an2 / nb_command_an2"
   ]
  },
  {
   "cell_type": "code",
   "execution_count": 45,
   "metadata": {},
   "outputs": [
    {
     "data": {
      "text/plain": [
       "2.0"
      ]
     },
     "execution_count": 45,
     "metadata": {},
     "output_type": "execute_result"
    }
   ],
   "source": [
    "IDV_an2.round(1)"
   ]
  },
  {
   "cell_type": "markdown",
   "metadata": {},
   "source": [
    "**Conclusion:** En moyenne, les clients achètent 2 articles par session sur la période d'un an."
   ]
  },
  {
   "cell_type": "markdown",
   "metadata": {},
   "source": [
    "### Les flops et les top des références des produits vendus "
   ]
  },
  {
   "cell_type": "code",
   "execution_count": 46,
   "metadata": {},
   "outputs": [
    {
     "name": "stdout",
     "output_type": "stream",
     "text": [
      "Voici la liste des 5 top et flop des références des produits vendus\n"
     ]
    },
    {
     "data": {
      "text/html": [
       "<div>\n",
       "<style scoped>\n",
       "    .dataframe tbody tr th:only-of-type {\n",
       "        vertical-align: middle;\n",
       "    }\n",
       "\n",
       "    .dataframe tbody tr th {\n",
       "        vertical-align: top;\n",
       "    }\n",
       "\n",
       "    .dataframe thead th {\n",
       "        text-align: right;\n",
       "    }\n",
       "</style>\n",
       "<table border=\"1\" class=\"dataframe\">\n",
       "  <thead>\n",
       "    <tr style=\"text-align: right;\">\n",
       "      <th></th>\n",
       "      <th>price</th>\n",
       "    </tr>\n",
       "    <tr>\n",
       "      <th>id_prod</th>\n",
       "      <th></th>\n",
       "    </tr>\n",
       "  </thead>\n",
       "  <tbody>\n",
       "    <tr>\n",
       "      <th>1_369</th>\n",
       "      <td>2252</td>\n",
       "    </tr>\n",
       "    <tr>\n",
       "      <th>1_417</th>\n",
       "      <td>2189</td>\n",
       "    </tr>\n",
       "    <tr>\n",
       "      <th>1_414</th>\n",
       "      <td>2180</td>\n",
       "    </tr>\n",
       "    <tr>\n",
       "      <th>1_498</th>\n",
       "      <td>2128</td>\n",
       "    </tr>\n",
       "    <tr>\n",
       "      <th>1_425</th>\n",
       "      <td>2096</td>\n",
       "    </tr>\n",
       "    <tr>\n",
       "      <th>...</th>\n",
       "      <td>...</td>\n",
       "    </tr>\n",
       "    <tr>\n",
       "      <th>0_1284</th>\n",
       "      <td>1</td>\n",
       "    </tr>\n",
       "    <tr>\n",
       "      <th>0_549</th>\n",
       "      <td>1</td>\n",
       "    </tr>\n",
       "    <tr>\n",
       "      <th>0_1498</th>\n",
       "      <td>1</td>\n",
       "    </tr>\n",
       "    <tr>\n",
       "      <th>0_541</th>\n",
       "      <td>1</td>\n",
       "    </tr>\n",
       "    <tr>\n",
       "      <th>0_886</th>\n",
       "      <td>1</td>\n",
       "    </tr>\n",
       "  </tbody>\n",
       "</table>\n",
       "<p>3266 rows × 1 columns</p>\n",
       "</div>"
      ],
      "text/plain": [
       "         price\n",
       "id_prod       \n",
       "1_369     2252\n",
       "1_417     2189\n",
       "1_414     2180\n",
       "1_498     2128\n",
       "1_425     2096\n",
       "...        ...\n",
       "0_1284       1\n",
       "0_549        1\n",
       "0_1498       1\n",
       "0_541        1\n",
       "0_886        1\n",
       "\n",
       "[3266 rows x 1 columns]"
      ]
     },
     "execution_count": 46,
     "metadata": {},
     "output_type": "execute_result"
    }
   ],
   "source": [
    "print(f'Voici la liste des 5 top et flop des références des produits vendus')\n",
    "transaction_df[['id_prod','price']].groupby(['id_prod']).count().sort_values(by='price', ascending=False)"
   ]
  },
  {
   "cell_type": "markdown",
   "metadata": {},
   "source": [
    "**Conclusion**:\n",
    "Les **5 top**  des références des produits vendus sont de la **catég_1**, par contre les **5 flop** sont de la **catego_O.**"
   ]
  },
  {
   "cell_type": "markdown",
   "metadata": {},
   "source": [
    "### Repartition des prix des produits par catégorie"
   ]
  },
  {
   "cell_type": "code",
   "execution_count": 47,
   "metadata": {},
   "outputs": [
    {
     "name": "stdout",
     "output_type": "stream",
     "text": [
      "--------------------------------------------------\n",
      "0.0\n",
      "moy:\n",
      " 10.638188127612253\n",
      "med:\n",
      " 9.99\n",
      "mod:\n",
      " 0    4.99\n",
      "dtype: float64\n",
      "var:\n",
      " 24.32669270515606\n",
      "ect;\n",
      " 4.9322097182861215\n",
      "skw:\n",
      " 0.42247859770094814\n",
      "kur:\n",
      " -0.3861652324758609\n"
     ]
    },
    {
     "data": {
      "image/png": "[encoded data removed]",
      "text/plain": [
       "<Figure size 432x288 with 1 Axes>"
      ]
     },
     "metadata": {
      "needs_background": "light"
     },
     "output_type": "display_data"
    },
    {
     "data": {
      "image/png": "[encoded data removed]",
      "text/plain": [
       "<Figure size 432x288 with 1 Axes>"
      ]
     },
     "metadata": {
      "needs_background": "light"
     },
     "output_type": "display_data"
    },
    {
     "name": "stdout",
     "output_type": "stream",
     "text": [
      "--------------------------------------------------\n",
      "1.0\n",
      "moy:\n",
      " 20.4857295230179\n",
      "med:\n",
      " 19.08\n",
      "mod:\n",
      " 0    15.99\n",
      "dtype: float64\n",
      "var:\n",
      " 57.53035707569349\n",
      "ect;\n",
      " 7.584876866218297\n",
      "skw:\n",
      " 1.734237258116213\n",
      "kur:\n",
      " 8.164115605848043\n"
     ]
    },
    {
     "data": {
      "image/png": "[encoded data removed]",
      "text/plain": [
       "<Figure size 432x288 with 1 Axes>"
      ]
     },
     "metadata": {
      "needs_background": "light"
     },
     "output_type": "display_data"
    },
    {
     "data": {
      "image/png": "[encoded data removed]",
      "text/plain": [
       "<Figure size 432x288 with 1 Axes>"
      ]
     },
     "metadata": {
      "needs_background": "light"
     },
     "output_type": "display_data"
    },
    {
     "name": "stdout",
     "output_type": "stream",
     "text": [
      "--------------------------------------------------\n",
      "2.0\n",
      "moy:\n",
      " 76.20741221941681\n",
      "med:\n",
      " 62.83\n",
      "mod:\n",
      " 0    68.99\n",
      "dtype: float64\n",
      "var:\n",
      " 1579.9408534984402\n",
      "ect;\n",
      " 39.74846982587431\n",
      "skw:\n",
      " 2.1835172974115067\n",
      "kur:\n",
      " 4.817061548670198\n"
     ]
    },
    {
     "data": {
      "image/png": "[encoded data removed]",
      "text/plain": [
       "<Figure size 432x288 with 1 Axes>"
      ]
     },
     "metadata": {
      "needs_background": "light"
     },
     "output_type": "display_data"
    },
    {
     "data": {
      "image/png": "[encoded data removed]",
      "text/plain": [
       "<Figure size 432x288 with 1 Axes>"
      ]
     },
     "metadata": {
      "needs_background": "light"
     },
     "output_type": "display_data"
    }
   ],
   "source": [
    "for cat in transaction_df['categ'].unique():\n",
    "    subset = transaction_df[transaction_df['categ']==cat]\n",
    "    print('-'*50)\n",
    "    print(cat)\n",
    "    print('moy:\\n', subset['price'].mean())\n",
    "    print('med:\\n', subset['price'].median())\n",
    "    print('mod:\\n', subset['price'].mode())\n",
    "    print('var:\\n', subset['price'].var(ddof=0))\n",
    "    print('ect;\\n', subset['price'].std(ddof=0))\n",
    "    print('skw:\\n', subset['price'].skew())\n",
    "    print('kur:\\n', subset['price'].kurtosis())\n",
    "    subset['price'].hist()\n",
    "    plt.show()\n",
    "    subset.boxplot(column='price', vert=False)\n",
    "    plt.show()"
   ]
  },
  {
   "cell_type": "markdown",
   "metadata": {},
   "source": [
    "**Analyse:**\n",
    "\n",
    "**Les messures de tendance centrale:**\n",
    "- Le mode de la catégorie est **0** car c'est la valeur la plus fréquente\n",
    "- La moyenne et la médiane du CA les plus élévées sont celle de la **categ 2** par contre la catég 0 a la moyenne et la mediane les plus faibles. Donc la **catégorie 2 possède les prix des produits les plus élévés contrairement à la catégorie 0 qui possède des prix trés faibles**\n",
    "\n",
    "**Les mesures de dispersion**\n",
    "- La variance et l'écart type les plus élévées correspondent à celle de la catégorie 2, alors que les plus faibles sont celle de la catégorie 0. Donc **les prix au niveau de la catégorie 2 s'écartent beaucoup de la moyenne, alors que ceux de la catégorie 0 sont très serrés autour de la moyenne.**\n",
    "- Produits de catég 0, la médiane est égale à la moyenne, donc la répartition des prix est symétrique donc suit une loi normale. Par contre les prix des catég 1 et 2 ont répartis de manière asymétrique. \n",
    "\n",
    "**Les mesures de forme**\n",
    "- La categ 0 a un skewness qui tend à zéro, donc la répartition des prix est symétrique et un kustosis négatif donc les prix sont moins concentrés et la distribution est aplatie. Les catég 1 et 2 ont un skewness supérieur à zéro, cela confirme la répartition asymétrique des prix et une distribution étalée à droite.  "
   ]
  },
  {
   "cell_type": "markdown",
   "metadata": {},
   "source": [
    "### Repartition du CA annuel par catégorie "
   ]
  },
  {
   "cell_type": "code",
   "execution_count": 48,
   "metadata": {},
   "outputs": [],
   "source": [
    "CA_annuel_par_categ = transaction_df[['year','categ','price']].groupby(['year','categ']).sum().reset_index()"
   ]
  },
  {
   "cell_type": "code",
   "execution_count": 49,
   "metadata": {},
   "outputs": [
    {
     "data": {
      "text/html": [
       "<div>\n",
       "<style scoped>\n",
       "    .dataframe tbody tr th:only-of-type {\n",
       "        vertical-align: middle;\n",
       "    }\n",
       "\n",
       "    .dataframe tbody tr th {\n",
       "        vertical-align: top;\n",
       "    }\n",
       "\n",
       "    .dataframe thead th {\n",
       "        text-align: right;\n",
       "    }\n",
       "</style>\n",
       "<table border=\"1\" class=\"dataframe\">\n",
       "  <thead>\n",
       "    <tr style=\"text-align: right;\">\n",
       "      <th></th>\n",
       "      <th>year</th>\n",
       "      <th>categ</th>\n",
       "      <th>price</th>\n",
       "    </tr>\n",
       "  </thead>\n",
       "  <tbody>\n",
       "    <tr>\n",
       "      <th>0</th>\n",
       "      <td>2021</td>\n",
       "      <td>0.0</td>\n",
       "      <td>1.883946e+06</td>\n",
       "    </tr>\n",
       "    <tr>\n",
       "      <th>1</th>\n",
       "      <td>2021</td>\n",
       "      <td>1.0</td>\n",
       "      <td>1.777996e+06</td>\n",
       "    </tr>\n",
       "    <tr>\n",
       "      <th>2</th>\n",
       "      <td>2021</td>\n",
       "      <td>2.0</td>\n",
       "      <td>1.109810e+06</td>\n",
       "    </tr>\n",
       "    <tr>\n",
       "      <th>3</th>\n",
       "      <td>2022</td>\n",
       "      <td>0.0</td>\n",
       "      <td>2.194247e+06</td>\n",
       "    </tr>\n",
       "    <tr>\n",
       "      <th>4</th>\n",
       "      <td>2022</td>\n",
       "      <td>1.0</td>\n",
       "      <td>2.485275e+06</td>\n",
       "    </tr>\n",
       "    <tr>\n",
       "      <th>5</th>\n",
       "      <td>2022</td>\n",
       "      <td>2.0</td>\n",
       "      <td>1.430436e+06</td>\n",
       "    </tr>\n",
       "    <tr>\n",
       "      <th>6</th>\n",
       "      <td>2023</td>\n",
       "      <td>0.0</td>\n",
       "      <td>3.438890e+05</td>\n",
       "    </tr>\n",
       "    <tr>\n",
       "      <th>7</th>\n",
       "      <td>2023</td>\n",
       "      <td>1.0</td>\n",
       "      <td>3.904516e+05</td>\n",
       "    </tr>\n",
       "    <tr>\n",
       "      <th>8</th>\n",
       "      <td>2023</td>\n",
       "      <td>2.0</td>\n",
       "      <td>2.400286e+05</td>\n",
       "    </tr>\n",
       "  </tbody>\n",
       "</table>\n",
       "</div>"
      ],
      "text/plain": [
       "   year  categ         price\n",
       "0  2021    0.0  1.883946e+06\n",
       "1  2021    1.0  1.777996e+06\n",
       "2  2021    2.0  1.109810e+06\n",
       "3  2022    0.0  2.194247e+06\n",
       "4  2022    1.0  2.485275e+06\n",
       "5  2022    2.0  1.430436e+06\n",
       "6  2023    0.0  3.438890e+05\n",
       "7  2023    1.0  3.904516e+05\n",
       "8  2023    2.0  2.400286e+05"
      ]
     },
     "execution_count": 49,
     "metadata": {},
     "output_type": "execute_result"
    }
   ],
   "source": [
    "CA_annuel_par_categ"
   ]
  },
  {
   "cell_type": "code",
   "execution_count": 50,
   "metadata": {},
   "outputs": [
    {
     "data": {
      "text/html": [
       "<div>\n",
       "<style scoped>\n",
       "    .dataframe tbody tr th:only-of-type {\n",
       "        vertical-align: middle;\n",
       "    }\n",
       "\n",
       "    .dataframe tbody tr th {\n",
       "        vertical-align: top;\n",
       "    }\n",
       "\n",
       "    .dataframe thead th {\n",
       "        text-align: right;\n",
       "    }\n",
       "</style>\n",
       "<table border=\"1\" class=\"dataframe\">\n",
       "  <thead>\n",
       "    <tr style=\"text-align: right;\">\n",
       "      <th>categ</th>\n",
       "      <th>0.0</th>\n",
       "      <th>1.0</th>\n",
       "      <th>2.0</th>\n",
       "    </tr>\n",
       "    <tr>\n",
       "      <th>year</th>\n",
       "      <th></th>\n",
       "      <th></th>\n",
       "      <th></th>\n",
       "    </tr>\n",
       "  </thead>\n",
       "  <tbody>\n",
       "    <tr>\n",
       "      <th>2021</th>\n",
       "      <td>1.883946e+06</td>\n",
       "      <td>1.777996e+06</td>\n",
       "      <td>1109810.26</td>\n",
       "    </tr>\n",
       "    <tr>\n",
       "      <th>2022</th>\n",
       "      <td>2.194247e+06</td>\n",
       "      <td>2.485275e+06</td>\n",
       "      <td>1430436.16</td>\n",
       "    </tr>\n",
       "    <tr>\n",
       "      <th>2023</th>\n",
       "      <td>3.438890e+05</td>\n",
       "      <td>3.904516e+05</td>\n",
       "      <td>240028.60</td>\n",
       "    </tr>\n",
       "  </tbody>\n",
       "</table>\n",
       "</div>"
      ],
      "text/plain": [
       "categ           0.0           1.0         2.0\n",
       "year                                         \n",
       "2021   1.883946e+06  1.777996e+06  1109810.26\n",
       "2022   2.194247e+06  2.485275e+06  1430436.16\n",
       "2023   3.438890e+05  3.904516e+05   240028.60"
      ]
     },
     "execution_count": 50,
     "metadata": {},
     "output_type": "execute_result"
    }
   ],
   "source": [
    "CA_annuel_par_categ.pivot(index='year', columns='categ', values='price')"
   ]
  },
  {
   "cell_type": "markdown",
   "metadata": {},
   "source": [
    "* Visualisation "
   ]
  },
  {
   "cell_type": "code",
   "execution_count": 51,
   "metadata": {},
   "outputs": [
    {
     "data": {
      "image/png": "[encoded data removed]",
      "text/plain": [
       "<Figure size 432x288 with 1 Axes>"
      ]
     },
     "metadata": {
      "needs_background": "light"
     },
     "output_type": "display_data"
    }
   ],
   "source": [
    "CA_annuel_par_categ.pivot(index='year', columns='categ', values='price').plot.bar()\n",
    "plt.xlabel('year')\n",
    "plt.ylabel('CA')\n",
    "plt.title('CA annuel par categorie')\n",
    "plt.legend(loc='upper right')\n",
    "plt.show()"
   ]
  },
  {
   "cell_type": "markdown",
   "metadata": {},
   "source": [
    "Le CA le plus élévé est celui des produits de la **catégorie 1.0 de l'année 2022** par contre le CA le plus bas est celui la catégorie 2.0 de l'année 2023. "
   ]
  },
  {
   "cell_type": "markdown",
   "metadata": {},
   "source": [
    "### Repartition du Chiffre d'affaires annuel par genre "
   ]
  },
  {
   "cell_type": "code",
   "execution_count": 52,
   "metadata": {},
   "outputs": [],
   "source": [
    "CA_annuel_par_genre = transaction_df[['year','sex','price']].groupby(['year','sex']).sum().reset_index()"
   ]
  },
  {
   "cell_type": "code",
   "execution_count": 53,
   "metadata": {},
   "outputs": [
    {
     "data": {
      "text/html": [
       "<div>\n",
       "<style scoped>\n",
       "    .dataframe tbody tr th:only-of-type {\n",
       "        vertical-align: middle;\n",
       "    }\n",
       "\n",
       "    .dataframe tbody tr th {\n",
       "        vertical-align: top;\n",
       "    }\n",
       "\n",
       "    .dataframe thead th {\n",
       "        text-align: right;\n",
       "    }\n",
       "</style>\n",
       "<table border=\"1\" class=\"dataframe\">\n",
       "  <thead>\n",
       "    <tr style=\"text-align: right;\">\n",
       "      <th></th>\n",
       "      <th>year</th>\n",
       "      <th>sex</th>\n",
       "      <th>price</th>\n",
       "    </tr>\n",
       "  </thead>\n",
       "  <tbody>\n",
       "    <tr>\n",
       "      <th>3</th>\n",
       "      <td>2022</td>\n",
       "      <td>m</td>\n",
       "      <td>3.088256e+06</td>\n",
       "    </tr>\n",
       "    <tr>\n",
       "      <th>2</th>\n",
       "      <td>2022</td>\n",
       "      <td>f</td>\n",
       "      <td>3.021703e+06</td>\n",
       "    </tr>\n",
       "    <tr>\n",
       "      <th>1</th>\n",
       "      <td>2021</td>\n",
       "      <td>m</td>\n",
       "      <td>2.420242e+06</td>\n",
       "    </tr>\n",
       "    <tr>\n",
       "      <th>0</th>\n",
       "      <td>2021</td>\n",
       "      <td>f</td>\n",
       "      <td>2.351510e+06</td>\n",
       "    </tr>\n",
       "    <tr>\n",
       "      <th>4</th>\n",
       "      <td>2023</td>\n",
       "      <td>f</td>\n",
       "      <td>4.877147e+05</td>\n",
       "    </tr>\n",
       "    <tr>\n",
       "      <th>5</th>\n",
       "      <td>2023</td>\n",
       "      <td>m</td>\n",
       "      <td>4.866546e+05</td>\n",
       "    </tr>\n",
       "  </tbody>\n",
       "</table>\n",
       "</div>"
      ],
      "text/plain": [
       "   year sex         price\n",
       "3  2022   m  3.088256e+06\n",
       "2  2022   f  3.021703e+06\n",
       "1  2021   m  2.420242e+06\n",
       "0  2021   f  2.351510e+06\n",
       "4  2023   f  4.877147e+05\n",
       "5  2023   m  4.866546e+05"
      ]
     },
     "execution_count": 53,
     "metadata": {},
     "output_type": "execute_result"
    }
   ],
   "source": [
    "CA_annuel_par_genre.sort_values(by='price', ascending=False)"
   ]
  },
  {
   "cell_type": "code",
   "execution_count": 54,
   "metadata": {},
   "outputs": [
    {
     "data": {
      "text/html": [
       "<div>\n",
       "<style scoped>\n",
       "    .dataframe tbody tr th:only-of-type {\n",
       "        vertical-align: middle;\n",
       "    }\n",
       "\n",
       "    .dataframe tbody tr th {\n",
       "        vertical-align: top;\n",
       "    }\n",
       "\n",
       "    .dataframe thead th {\n",
       "        text-align: right;\n",
       "    }\n",
       "</style>\n",
       "<table border=\"1\" class=\"dataframe\">\n",
       "  <thead>\n",
       "    <tr style=\"text-align: right;\">\n",
       "      <th>sex</th>\n",
       "      <th>f</th>\n",
       "      <th>m</th>\n",
       "    </tr>\n",
       "    <tr>\n",
       "      <th>year</th>\n",
       "      <th></th>\n",
       "      <th></th>\n",
       "    </tr>\n",
       "  </thead>\n",
       "  <tbody>\n",
       "    <tr>\n",
       "      <th>2021</th>\n",
       "      <td>2.351510e+06</td>\n",
       "      <td>2.420242e+06</td>\n",
       "    </tr>\n",
       "    <tr>\n",
       "      <th>2022</th>\n",
       "      <td>3.021703e+06</td>\n",
       "      <td>3.088256e+06</td>\n",
       "    </tr>\n",
       "    <tr>\n",
       "      <th>2023</th>\n",
       "      <td>4.877147e+05</td>\n",
       "      <td>4.866546e+05</td>\n",
       "    </tr>\n",
       "  </tbody>\n",
       "</table>\n",
       "</div>"
      ],
      "text/plain": [
       "sex              f             m\n",
       "year                            \n",
       "2021  2.351510e+06  2.420242e+06\n",
       "2022  3.021703e+06  3.088256e+06\n",
       "2023  4.877147e+05  4.866546e+05"
      ]
     },
     "execution_count": 54,
     "metadata": {},
     "output_type": "execute_result"
    }
   ],
   "source": [
    "CA_annuel_par_genre.pivot(index='year', columns='sex', values='price')"
   ]
  },
  {
   "cell_type": "markdown",
   "metadata": {},
   "source": [
    "* Visualisation"
   ]
  },
  {
   "cell_type": "code",
   "execution_count": 55,
   "metadata": {},
   "outputs": [
    {
     "data": {
      "image/png": "[encoded data removed]",
      "text/plain": [
       "<Figure size 432x288 with 1 Axes>"
      ]
     },
     "metadata": {
      "needs_background": "light"
     },
     "output_type": "display_data"
    }
   ],
   "source": [
    "CA_annuel_par_genre.pivot(index='year', columns='sex', values='price').plot.bar()\n",
    "plt.xlabel('year')\n",
    "plt.ylabel('CA')\n",
    "plt.title('CA annuel par genre')\n",
    "plt.legend(loc='upper right')\n",
    "plt.show()"
   ]
  },
  {
   "cell_type": "markdown",
   "metadata": {},
   "source": [
    "**Conclusion:** \n",
    "- La repartition du CA annuel des clients au niveau du sexe est presque égalitaire chaque année. \n",
    "- Les clients ont effectué plus d'achat au cours de l'année 2022 et moins d'achats pendant l'année 2023."
   ]
  },
  {
   "cell_type": "markdown",
   "metadata": {},
   "source": [
    "### Profil des clients et repartition du chiffre d'affaires entre eux"
   ]
  },
  {
   "cell_type": "markdown",
   "metadata": {},
   "source": [
    "#### Profil des clients en fonction de leur depense"
   ]
  },
  {
   "cell_type": "code",
   "execution_count": 56,
   "metadata": {},
   "outputs": [
    {
     "name": "stdout",
     "output_type": "stream",
     "text": [
      "Voici la liste du profil des 5 top et les flop des clients en fonction de leur dépense\n"
     ]
    },
    {
     "data": {
      "text/html": [
       "<div>\n",
       "<style scoped>\n",
       "    .dataframe tbody tr th:only-of-type {\n",
       "        vertical-align: middle;\n",
       "    }\n",
       "\n",
       "    .dataframe tbody tr th {\n",
       "        vertical-align: top;\n",
       "    }\n",
       "\n",
       "    .dataframe thead th {\n",
       "        text-align: right;\n",
       "    }\n",
       "</style>\n",
       "<table border=\"1\" class=\"dataframe\">\n",
       "  <thead>\n",
       "    <tr style=\"text-align: right;\">\n",
       "      <th></th>\n",
       "      <th></th>\n",
       "      <th></th>\n",
       "      <th>price</th>\n",
       "    </tr>\n",
       "    <tr>\n",
       "      <th>client_id</th>\n",
       "      <th>sex</th>\n",
       "      <th>age</th>\n",
       "      <th></th>\n",
       "    </tr>\n",
       "  </thead>\n",
       "  <tbody>\n",
       "    <tr>\n",
       "      <th>c_1609</th>\n",
       "      <th>m</th>\n",
       "      <th>41</th>\n",
       "      <td>324033.350</td>\n",
       "    </tr>\n",
       "    <tr>\n",
       "      <th>c_4958</th>\n",
       "      <th>m</th>\n",
       "      <th>22</th>\n",
       "      <td>289760.340</td>\n",
       "    </tr>\n",
       "    <tr>\n",
       "      <th>c_6714</th>\n",
       "      <th>f</th>\n",
       "      <th>53</th>\n",
       "      <td>153662.750</td>\n",
       "    </tr>\n",
       "    <tr>\n",
       "      <th>c_3454</th>\n",
       "      <th>m</th>\n",
       "      <th>52</th>\n",
       "      <td>113669.845</td>\n",
       "    </tr>\n",
       "    <tr>\n",
       "      <th>c_3263</th>\n",
       "      <th>f</th>\n",
       "      <th>36</th>\n",
       "      <td>5276.870</td>\n",
       "    </tr>\n",
       "    <tr>\n",
       "      <th>...</th>\n",
       "      <th>...</th>\n",
       "      <th>...</th>\n",
       "      <td>...</td>\n",
       "    </tr>\n",
       "    <tr>\n",
       "      <th>c_4648</th>\n",
       "      <th>m</th>\n",
       "      <th>17</th>\n",
       "      <td>11.200</td>\n",
       "    </tr>\n",
       "    <tr>\n",
       "      <th>c_240</th>\n",
       "      <th>m</th>\n",
       "      <th>23</th>\n",
       "      <td>11.060</td>\n",
       "    </tr>\n",
       "    <tr>\n",
       "      <th>c_8114</th>\n",
       "      <th>m</th>\n",
       "      <th>59</th>\n",
       "      <td>9.980</td>\n",
       "    </tr>\n",
       "    <tr>\n",
       "      <th>c_8140</th>\n",
       "      <th>m</th>\n",
       "      <th>50</th>\n",
       "      <td>8.300</td>\n",
       "    </tr>\n",
       "    <tr>\n",
       "      <th>c_8351</th>\n",
       "      <th>f</th>\n",
       "      <th>53</th>\n",
       "      <td>6.310</td>\n",
       "    </tr>\n",
       "  </tbody>\n",
       "</table>\n",
       "<p>8600 rows × 1 columns</p>\n",
       "</div>"
      ],
      "text/plain": [
       "                        price\n",
       "client_id sex age            \n",
       "c_1609    m   41   324033.350\n",
       "c_4958    m   22   289760.340\n",
       "c_6714    f   53   153662.750\n",
       "c_3454    m   52   113669.845\n",
       "c_3263    f   36     5276.870\n",
       "...                       ...\n",
       "c_4648    m   17       11.200\n",
       "c_240     m   23       11.060\n",
       "c_8114    m   59        9.980\n",
       "c_8140    m   50        8.300\n",
       "c_8351    f   53        6.310\n",
       "\n",
       "[8600 rows x 1 columns]"
      ]
     },
     "execution_count": 56,
     "metadata": {},
     "output_type": "execute_result"
    }
   ],
   "source": [
    "print(f'Voici la liste du profil des 5 top et les flop des clients en fonction de leur dépense')\n",
    "df_profil = transaction_df[['client_id', 'age','sex','price']].groupby(['client_id', 'sex','age']).sum().round(3).sort_values(by='price', ascending=False)\n",
    "df_profil"
   ]
  },
  {
   "cell_type": "markdown",
   "metadata": {},
   "source": [
    "* VIsualisation"
   ]
  },
  {
   "cell_type": "code",
   "execution_count": 57,
   "metadata": {},
   "outputs": [
    {
     "data": {
      "text/plain": [
       "Text(0.5, 1.0, 'Profil des clients')"
      ]
     },
     "execution_count": 57,
     "metadata": {},
     "output_type": "execute_result"
    },
    {
     "data": {
      "image/png": "[encoded data removed]",
      "text/plain": [
       "<Figure size 864x432 with 1 Axes>"
      ]
     },
     "metadata": {
      "needs_background": "light"
     },
     "output_type": "display_data"
    }
   ],
   "source": [
    "df_profil.boxplot(column='price', figsize=(12,6))\n",
    "plt.title('Profil des clients')"
   ]
  },
  {
   "cell_type": "markdown",
   "metadata": {},
   "source": [
    "**Conclusion:**\n",
    "Les 4 premiers clients **c_1609, c_4958, c_6714 et c_3454** sur la liste ont un pouvoir d'achat très élévé par rapport aux autres clients."
   ]
  },
  {
   "cell_type": "markdown",
   "metadata": {},
   "source": [
    "#### Repartition du chiffre d'affaires entre eux"
   ]
  },
  {
   "cell_type": "markdown",
   "metadata": {},
   "source": [
    "* Courbe de Lorenz"
   ]
  },
  {
   "cell_type": "markdown",
   "metadata": {},
   "source": [
    "La courbe de Lorenz illustre la concentration des prix des produits au sein de la population clientèle.\n",
    "En ordonnée nous avons le pourcentage cummulé des prix des produits et en abscisse la pourcentage cumulé des clients.\n",
    "Plus la courbe séloigne de la bissectrice plus les inégalités sont fortes."
   ]
  },
  {
   "cell_type": "code",
   "execution_count": 58,
   "metadata": {},
   "outputs": [
    {
     "data": {
      "image/png": "[encoded data removed]",
      "text/plain": [
       "<Figure size 576x576 with 1 Axes>"
      ]
     },
     "metadata": {
      "needs_background": "light"
     },
     "output_type": "display_data"
    }
   ],
   "source": [
    "trans = transaction_df['price'].values\n",
    "n = len(trans)\n",
    "lorenz = np.cumsum(np.sort(trans)) / trans.sum()\n",
    "lorenz = np.append([0], lorenz)\n",
    "\n",
    "plt.figure(figsize=(8,8))\n",
    "plt.axes().axis('equal')\n",
    "xaxis = np.linspace(0-1/n, 1+1/n,n+1)\n",
    "plt.plot(xaxis, lorenz, drawstyle='steps-post')\n",
    "plt.plot(lorenz, lorenz, drawstyle='steps-post')\n",
    "plt.xlabel('pourcentage cumulé des clients')\n",
    "plt.ylabel('pourcentage cumulé des prix')\n",
    "plt.title('Courbe de Lorenz')\n",
    "plt.show()"
   ]
  },
  {
   "cell_type": "markdown",
   "metadata": {},
   "source": [
    "La courbe de Lorenz est éloignée de la première bissectrice donc les inégalités des clients au sein du CA cumulé sont fortes."
   ]
  },
  {
   "cell_type": "markdown",
   "metadata": {},
   "source": [
    "* L'indice de gini "
   ]
  },
  {
   "cell_type": "markdown",
   "metadata": {},
   "source": [
    "L'indice de gini mesure les inégalités clients au sein du CA cumulé. \n",
    "Il se calcule en rapportant l'aire du triangle formé par la bissectrice sur l'aire de la zone delimité par la courbe des prix des produits. Plus il est proche de 1, plus la repartition des clients est inégalitaire.\n",
    "gini = 0 alors la repartition est égalitaire\n",
    "gini > 0 alors la repartition est inégalitaire"
   ]
  },
  {
   "cell_type": "code",
   "execution_count": 59,
   "metadata": {},
   "outputs": [
    {
     "data": {
      "text/plain": [
       "0.3954386163239504"
      ]
     },
     "execution_count": 59,
     "metadata": {},
     "output_type": "execute_result"
    }
   ],
   "source": [
    "AUC = (lorenz.sum()-lorenz[-1]/2 - lorenz[0]/2)/n\n",
    "S = 0.5 - AUC\n",
    "gini = 2*S\n",
    "gini"
   ]
  },
  {
   "cell_type": "markdown",
   "metadata": {},
   "source": [
    "gini > 0, donc La repartition des clients au sein du CA cumulé est inégalitaire."
   ]
  },
  {
   "cell_type": "markdown",
   "metadata": {},
   "source": [
    "**Conclusion:** La répartition des clients au niveau du CA cumulé est inégalitaire"
   ]
  },
  {
   "cell_type": "markdown",
   "metadata": {},
   "source": [
    "### Le montant du panier moyen (PM)"
   ]
  },
  {
   "cell_type": "markdown",
   "metadata": {},
   "source": [
    "Le panier moyen (“average basket” ou “average order value” en anglais) correspond au montant dépensé par un client dans votre boutique physique ou en ligne. \n",
    "Le panier moyen peut être calculé sur un jour, une semaine, un mois voire un an. Il permet de comparer la performance de vos ventes. Comme la fréquentation, il s’agit d’un indicateur basique qui mesure l’évolution du chiffre d’affaires des différents points de vente et favorise ainsi les comparaisons de rentabilité entre ces derniers. Sa formule est la suivante:\n",
    "\n",
    "**Panier moyen = Chiffre d’affaires généré / Nombre total de sessions uniques**"
   ]
  },
  {
   "cell_type": "markdown",
   "metadata": {},
   "source": [
    "#### Calcul du montant Panier Moyen annuel"
   ]
  },
  {
   "cell_type": "markdown",
   "metadata": {},
   "source": [
    "* Calcul du panier moyen par an (PM)"
   ]
  },
  {
   "cell_type": "code",
   "execution_count": 60,
   "metadata": {},
   "outputs": [],
   "source": [
    "PM_an1 = CA_an1 / nb_command_an1"
   ]
  },
  {
   "cell_type": "code",
   "execution_count": 61,
   "metadata": {},
   "outputs": [
    {
     "data": {
      "text/plain": [
       "34.474"
      ]
     },
     "execution_count": 61,
     "metadata": {},
     "output_type": "execute_result"
    }
   ],
   "source": [
    "PM_an1.round(3)"
   ]
  },
  {
   "cell_type": "code",
   "execution_count": 62,
   "metadata": {},
   "outputs": [],
   "source": [
    "PM_an2 = CA_an2 / nb_command_an2"
   ]
  },
  {
   "cell_type": "code",
   "execution_count": 63,
   "metadata": {},
   "outputs": [
    {
     "data": {
      "text/plain": [
       "34.792"
      ]
     },
     "execution_count": 63,
     "metadata": {},
     "output_type": "execute_result"
    }
   ],
   "source": [
    "PM_an2.round(3)"
   ]
  },
  {
   "cell_type": "code",
   "execution_count": 64,
   "metadata": {},
   "outputs": [],
   "source": [
    "evolution_PM = ((PM_an2 - PM_an1)/ PM_an1)*100"
   ]
  },
  {
   "cell_type": "code",
   "execution_count": 65,
   "metadata": {},
   "outputs": [
    {
     "data": {
      "text/plain": [
       "0.922"
      ]
     },
     "execution_count": 65,
     "metadata": {},
     "output_type": "execute_result"
    }
   ],
   "source": [
    "evolution_PM.round(3)"
   ]
  },
  {
   "cell_type": "markdown",
   "metadata": {},
   "source": [
    "**Conclusion**: Le PM a augmenté de **0.92%** par rapport à la première année.Donc le panier moyen n'a presque pas changé."
   ]
  },
  {
   "cell_type": "markdown",
   "metadata": {},
   "source": [
    "#### Calcul du panier moyen par session par mois"
   ]
  },
  {
   "cell_type": "markdown",
   "metadata": {},
   "source": [
    "* Determinons le nombre de sessions uniques ou de paniers par mois "
   ]
  },
  {
   "cell_type": "code",
   "execution_count": 66,
   "metadata": {},
   "outputs": [],
   "source": [
    "nb_panier = transaction_df.loc['2021':'2023','session_id'].resample('M').nunique()"
   ]
  },
  {
   "cell_type": "code",
   "execution_count": 67,
   "metadata": {},
   "outputs": [
    {
     "data": {
      "text/html": [
       "<div>\n",
       "<style scoped>\n",
       "    .dataframe tbody tr th:only-of-type {\n",
       "        vertical-align: middle;\n",
       "    }\n",
       "\n",
       "    .dataframe tbody tr th {\n",
       "        vertical-align: top;\n",
       "    }\n",
       "\n",
       "    .dataframe thead th {\n",
       "        text-align: right;\n",
       "    }\n",
       "</style>\n",
       "<table border=\"1\" class=\"dataframe\">\n",
       "  <thead>\n",
       "    <tr style=\"text-align: right;\">\n",
       "      <th></th>\n",
       "      <th>date</th>\n",
       "      <th>session_id</th>\n",
       "    </tr>\n",
       "  </thead>\n",
       "  <tbody>\n",
       "    <tr>\n",
       "      <th>9</th>\n",
       "      <td>2021-12-31</td>\n",
       "      <td>15567</td>\n",
       "    </tr>\n",
       "    <tr>\n",
       "      <th>10</th>\n",
       "      <td>2022-01-31</td>\n",
       "      <td>14979</td>\n",
       "    </tr>\n",
       "    <tr>\n",
       "      <th>14</th>\n",
       "      <td>2022-05-31</td>\n",
       "      <td>14960</td>\n",
       "    </tr>\n",
       "    <tr>\n",
       "      <th>6</th>\n",
       "      <td>2021-09-30</td>\n",
       "      <td>14850</td>\n",
       "    </tr>\n",
       "    <tr>\n",
       "      <th>12</th>\n",
       "      <td>2022-03-31</td>\n",
       "      <td>14827</td>\n",
       "    </tr>\n",
       "    <tr>\n",
       "      <th>22</th>\n",
       "      <td>2023-01-31</td>\n",
       "      <td>14758</td>\n",
       "    </tr>\n",
       "    <tr>\n",
       "      <th>19</th>\n",
       "      <td>2022-10-31</td>\n",
       "      <td>14660</td>\n",
       "    </tr>\n",
       "    <tr>\n",
       "      <th>16</th>\n",
       "      <td>2022-07-31</td>\n",
       "      <td>14653</td>\n",
       "    </tr>\n",
       "    <tr>\n",
       "      <th>21</th>\n",
       "      <td>2022-12-31</td>\n",
       "      <td>14635</td>\n",
       "    </tr>\n",
       "    <tr>\n",
       "      <th>8</th>\n",
       "      <td>2021-11-30</td>\n",
       "      <td>14608</td>\n",
       "    </tr>\n",
       "    <tr>\n",
       "      <th>17</th>\n",
       "      <td>2022-08-31</td>\n",
       "      <td>14587</td>\n",
       "    </tr>\n",
       "    <tr>\n",
       "      <th>15</th>\n",
       "      <td>2022-06-30</td>\n",
       "      <td>14391</td>\n",
       "    </tr>\n",
       "    <tr>\n",
       "      <th>11</th>\n",
       "      <td>2022-02-28</td>\n",
       "      <td>14339</td>\n",
       "    </tr>\n",
       "    <tr>\n",
       "      <th>18</th>\n",
       "      <td>2022-09-30</td>\n",
       "      <td>14264</td>\n",
       "    </tr>\n",
       "    <tr>\n",
       "      <th>20</th>\n",
       "      <td>2022-11-30</td>\n",
       "      <td>14226</td>\n",
       "    </tr>\n",
       "    <tr>\n",
       "      <th>0</th>\n",
       "      <td>2021-03-31</td>\n",
       "      <td>14203</td>\n",
       "    </tr>\n",
       "    <tr>\n",
       "      <th>2</th>\n",
       "      <td>2021-05-31</td>\n",
       "      <td>14169</td>\n",
       "    </tr>\n",
       "    <tr>\n",
       "      <th>13</th>\n",
       "      <td>2022-04-30</td>\n",
       "      <td>14086</td>\n",
       "    </tr>\n",
       "    <tr>\n",
       "      <th>1</th>\n",
       "      <td>2021-04-30</td>\n",
       "      <td>13972</td>\n",
       "    </tr>\n",
       "    <tr>\n",
       "      <th>3</th>\n",
       "      <td>2021-06-30</td>\n",
       "      <td>13839</td>\n",
       "    </tr>\n",
       "    <tr>\n",
       "      <th>5</th>\n",
       "      <td>2021-08-31</td>\n",
       "      <td>13593</td>\n",
       "    </tr>\n",
       "    <tr>\n",
       "      <th>4</th>\n",
       "      <td>2021-07-31</td>\n",
       "      <td>13573</td>\n",
       "    </tr>\n",
       "    <tr>\n",
       "      <th>23</th>\n",
       "      <td>2023-02-28</td>\n",
       "      <td>13074</td>\n",
       "    </tr>\n",
       "    <tr>\n",
       "      <th>7</th>\n",
       "      <td>2021-10-31</td>\n",
       "      <td>11553</td>\n",
       "    </tr>\n",
       "  </tbody>\n",
       "</table>\n",
       "</div>"
      ],
      "text/plain": [
       "         date  session_id\n",
       "9  2021-12-31       15567\n",
       "10 2022-01-31       14979\n",
       "14 2022-05-31       14960\n",
       "6  2021-09-30       14850\n",
       "12 2022-03-31       14827\n",
       "22 2023-01-31       14758\n",
       "19 2022-10-31       14660\n",
       "16 2022-07-31       14653\n",
       "21 2022-12-31       14635\n",
       "8  2021-11-30       14608\n",
       "17 2022-08-31       14587\n",
       "15 2022-06-30       14391\n",
       "11 2022-02-28       14339\n",
       "18 2022-09-30       14264\n",
       "20 2022-11-30       14226\n",
       "0  2021-03-31       14203\n",
       "2  2021-05-31       14169\n",
       "13 2022-04-30       14086\n",
       "1  2021-04-30       13972\n",
       "3  2021-06-30       13839\n",
       "5  2021-08-31       13593\n",
       "4  2021-07-31       13573\n",
       "23 2023-02-28       13074\n",
       "7  2021-10-31       11553"
      ]
     },
     "execution_count": 67,
     "metadata": {},
     "output_type": "execute_result"
    }
   ],
   "source": [
    "nb_panier.reset_index().sort_values(by='session_id', ascending=False)"
   ]
  },
  {
   "cell_type": "code",
   "execution_count": 68,
   "metadata": {},
   "outputs": [
    {
     "data": {
      "image/png": "[encoded data removed]",
      "text/plain": [
       "<Figure size 864x432 with 1 Axes>"
      ]
     },
     "metadata": {
      "needs_background": "light"
     },
     "output_type": "display_data"
    }
   ],
   "source": [
    "nb_panier.plot(figsize=(12,6))\n",
    "plt.title('Evolution du nombre de parniers en fonction du temps')\n",
    "plt.show()"
   ]
  },
  {
   "cell_type": "markdown",
   "metadata": {},
   "source": [
    "* Le prix du panier par mois"
   ]
  },
  {
   "cell_type": "code",
   "execution_count": 69,
   "metadata": {},
   "outputs": [],
   "source": [
    "price_panier = transaction_df.loc['2021':'2023','price'].resample('M').sum()"
   ]
  },
  {
   "cell_type": "code",
   "execution_count": 70,
   "metadata": {},
   "outputs": [
    {
     "data": {
      "text/html": [
       "<div>\n",
       "<style scoped>\n",
       "    .dataframe tbody tr th:only-of-type {\n",
       "        vertical-align: middle;\n",
       "    }\n",
       "\n",
       "    .dataframe tbody tr th {\n",
       "        vertical-align: top;\n",
       "    }\n",
       "\n",
       "    .dataframe thead th {\n",
       "        text-align: right;\n",
       "    }\n",
       "</style>\n",
       "<table border=\"1\" class=\"dataframe\">\n",
       "  <thead>\n",
       "    <tr style=\"text-align: right;\">\n",
       "      <th></th>\n",
       "      <th>date</th>\n",
       "      <th>price</th>\n",
       "    </tr>\n",
       "  </thead>\n",
       "  <tbody>\n",
       "    <tr>\n",
       "      <th>7</th>\n",
       "      <td>2021-10-31</td>\n",
       "      <td>320873.208308</td>\n",
       "    </tr>\n",
       "    <tr>\n",
       "      <th>23</th>\n",
       "      <td>2023-02-28</td>\n",
       "      <td>456754.228308</td>\n",
       "    </tr>\n",
       "    <tr>\n",
       "      <th>1</th>\n",
       "      <td>2021-04-30</td>\n",
       "      <td>476258.236616</td>\n",
       "    </tr>\n",
       "    <tr>\n",
       "      <th>5</th>\n",
       "      <td>2021-08-31</td>\n",
       "      <td>482380.534967</td>\n",
       "    </tr>\n",
       "    <tr>\n",
       "      <th>0</th>\n",
       "      <td>2021-03-31</td>\n",
       "      <td>482536.354967</td>\n",
       "    </tr>\n",
       "    <tr>\n",
       "      <th>4</th>\n",
       "      <td>2021-07-31</td>\n",
       "      <td>482877.953319</td>\n",
       "    </tr>\n",
       "    <tr>\n",
       "      <th>3</th>\n",
       "      <td>2021-06-30</td>\n",
       "      <td>484163.028308</td>\n",
       "    </tr>\n",
       "    <tr>\n",
       "      <th>2</th>\n",
       "      <td>2021-05-31</td>\n",
       "      <td>493028.576637</td>\n",
       "    </tr>\n",
       "    <tr>\n",
       "      <th>13</th>\n",
       "      <td>2022-04-30</td>\n",
       "      <td>493147.876616</td>\n",
       "    </tr>\n",
       "    <tr>\n",
       "      <th>18</th>\n",
       "      <td>2022-09-30</td>\n",
       "      <td>494210.274967</td>\n",
       "    </tr>\n",
       "    <tr>\n",
       "      <th>15</th>\n",
       "      <td>2022-06-30</td>\n",
       "      <td>496090.588308</td>\n",
       "    </tr>\n",
       "    <tr>\n",
       "      <th>20</th>\n",
       "      <td>2022-11-30</td>\n",
       "      <td>496781.961627</td>\n",
       "    </tr>\n",
       "    <tr>\n",
       "      <th>17</th>\n",
       "      <td>2022-08-31</td>\n",
       "      <td>506552.376637</td>\n",
       "    </tr>\n",
       "    <tr>\n",
       "      <th>6</th>\n",
       "      <td>2021-09-30</td>\n",
       "      <td>507368.339956</td>\n",
       "    </tr>\n",
       "    <tr>\n",
       "      <th>19</th>\n",
       "      <td>2022-10-31</td>\n",
       "      <td>508024.153297</td>\n",
       "    </tr>\n",
       "    <tr>\n",
       "      <th>21</th>\n",
       "      <td>2022-12-31</td>\n",
       "      <td>510283.329978</td>\n",
       "    </tr>\n",
       "    <tr>\n",
       "      <th>16</th>\n",
       "      <td>2022-07-31</td>\n",
       "      <td>510910.779956</td>\n",
       "    </tr>\n",
       "    <tr>\n",
       "      <th>12</th>\n",
       "      <td>2022-03-31</td>\n",
       "      <td>515573.551627</td>\n",
       "    </tr>\n",
       "    <tr>\n",
       "      <th>8</th>\n",
       "      <td>2021-11-30</td>\n",
       "      <td>516274.113297</td>\n",
       "    </tr>\n",
       "    <tr>\n",
       "      <th>14</th>\n",
       "      <td>2022-05-31</td>\n",
       "      <td>517302.813275</td>\n",
       "    </tr>\n",
       "    <tr>\n",
       "      <th>22</th>\n",
       "      <td>2023-01-31</td>\n",
       "      <td>517615.018308</td>\n",
       "    </tr>\n",
       "    <tr>\n",
       "      <th>10</th>\n",
       "      <td>2022-01-31</td>\n",
       "      <td>525392.181648</td>\n",
       "    </tr>\n",
       "    <tr>\n",
       "      <th>9</th>\n",
       "      <td>2021-12-31</td>\n",
       "      <td>525991.748308</td>\n",
       "    </tr>\n",
       "    <tr>\n",
       "      <th>11</th>\n",
       "      <td>2022-02-28</td>\n",
       "      <td>535688.521627</td>\n",
       "    </tr>\n",
       "  </tbody>\n",
       "</table>\n",
       "</div>"
      ],
      "text/plain": [
       "         date          price\n",
       "7  2021-10-31  320873.208308\n",
       "23 2023-02-28  456754.228308\n",
       "1  2021-04-30  476258.236616\n",
       "5  2021-08-31  482380.534967\n",
       "0  2021-03-31  482536.354967\n",
       "4  2021-07-31  482877.953319\n",
       "3  2021-06-30  484163.028308\n",
       "2  2021-05-31  493028.576637\n",
       "13 2022-04-30  493147.876616\n",
       "18 2022-09-30  494210.274967\n",
       "15 2022-06-30  496090.588308\n",
       "20 2022-11-30  496781.961627\n",
       "17 2022-08-31  506552.376637\n",
       "6  2021-09-30  507368.339956\n",
       "19 2022-10-31  508024.153297\n",
       "21 2022-12-31  510283.329978\n",
       "16 2022-07-31  510910.779956\n",
       "12 2022-03-31  515573.551627\n",
       "8  2021-11-30  516274.113297\n",
       "14 2022-05-31  517302.813275\n",
       "22 2023-01-31  517615.018308\n",
       "10 2022-01-31  525392.181648\n",
       "9  2021-12-31  525991.748308\n",
       "11 2022-02-28  535688.521627"
      ]
     },
     "execution_count": 70,
     "metadata": {},
     "output_type": "execute_result"
    }
   ],
   "source": [
    "price_panier.reset_index().sort_values( by='price',ascending=True)"
   ]
  },
  {
   "cell_type": "code",
   "execution_count": 71,
   "metadata": {},
   "outputs": [
    {
     "data": {
      "image/png": "[encoded data removed]",
      "text/plain": [
       "<Figure size 864x432 with 1 Axes>"
      ]
     },
     "metadata": {
      "needs_background": "light"
     },
     "output_type": "display_data"
    }
   ],
   "source": [
    "price_panier.plot(figsize=(12,6))\n",
    "plt.title('Evollution du prix du panier en fonction du temps')\n",
    "plt.show()"
   ]
  },
  {
   "cell_type": "markdown",
   "metadata": {},
   "source": [
    "* Jointure"
   ]
  },
  {
   "cell_type": "code",
   "execution_count": 72,
   "metadata": {},
   "outputs": [],
   "source": [
    "data = nb_panier.reset_index().merge(price_panier.reset_index(), on=['date'], how='inner')\n",
    "data = data.set_index('date') "
   ]
  },
  {
   "cell_type": "markdown",
   "metadata": {},
   "source": [
    "* Calcul du panier moyen "
   ]
  },
  {
   "cell_type": "code",
   "execution_count": 73,
   "metadata": {},
   "outputs": [],
   "source": [
    "data['PM']  = (data['price'] / data['session_id']).round(3)"
   ]
  },
  {
   "cell_type": "code",
   "execution_count": 74,
   "metadata": {},
   "outputs": [
    {
     "data": {
      "text/html": [
       "<div>\n",
       "<style scoped>\n",
       "    .dataframe tbody tr th:only-of-type {\n",
       "        vertical-align: middle;\n",
       "    }\n",
       "\n",
       "    .dataframe tbody tr th {\n",
       "        vertical-align: top;\n",
       "    }\n",
       "\n",
       "    .dataframe thead th {\n",
       "        text-align: right;\n",
       "    }\n",
       "</style>\n",
       "<table border=\"1\" class=\"dataframe\">\n",
       "  <thead>\n",
       "    <tr style=\"text-align: right;\">\n",
       "      <th></th>\n",
       "      <th>session_id</th>\n",
       "      <th>price</th>\n",
       "      <th>PM</th>\n",
       "    </tr>\n",
       "    <tr>\n",
       "      <th>date</th>\n",
       "      <th></th>\n",
       "      <th></th>\n",
       "      <th></th>\n",
       "    </tr>\n",
       "  </thead>\n",
       "  <tbody>\n",
       "    <tr>\n",
       "      <th>2022-02-28</th>\n",
       "      <td>14339</td>\n",
       "      <td>535688.521627</td>\n",
       "      <td>37.359</td>\n",
       "    </tr>\n",
       "    <tr>\n",
       "      <th>2021-07-31</th>\n",
       "      <td>13573</td>\n",
       "      <td>482877.953319</td>\n",
       "      <td>35.576</td>\n",
       "    </tr>\n",
       "    <tr>\n",
       "      <th>2021-08-31</th>\n",
       "      <td>13593</td>\n",
       "      <td>482380.534967</td>\n",
       "      <td>35.487</td>\n",
       "    </tr>\n",
       "    <tr>\n",
       "      <th>2021-11-30</th>\n",
       "      <td>14608</td>\n",
       "      <td>516274.113297</td>\n",
       "      <td>35.342</td>\n",
       "    </tr>\n",
       "    <tr>\n",
       "      <th>2022-01-31</th>\n",
       "      <td>14979</td>\n",
       "      <td>525392.181648</td>\n",
       "      <td>35.075</td>\n",
       "    </tr>\n",
       "    <tr>\n",
       "      <th>2023-01-31</th>\n",
       "      <td>14758</td>\n",
       "      <td>517615.018308</td>\n",
       "      <td>35.074</td>\n",
       "    </tr>\n",
       "    <tr>\n",
       "      <th>2022-04-30</th>\n",
       "      <td>14086</td>\n",
       "      <td>493147.876616</td>\n",
       "      <td>35.010</td>\n",
       "    </tr>\n",
       "    <tr>\n",
       "      <th>2021-06-30</th>\n",
       "      <td>13839</td>\n",
       "      <td>484163.028308</td>\n",
       "      <td>34.985</td>\n",
       "    </tr>\n",
       "    <tr>\n",
       "      <th>2023-02-28</th>\n",
       "      <td>13074</td>\n",
       "      <td>456754.228308</td>\n",
       "      <td>34.936</td>\n",
       "    </tr>\n",
       "    <tr>\n",
       "      <th>2022-11-30</th>\n",
       "      <td>14226</td>\n",
       "      <td>496781.961627</td>\n",
       "      <td>34.921</td>\n",
       "    </tr>\n",
       "    <tr>\n",
       "      <th>2022-12-31</th>\n",
       "      <td>14635</td>\n",
       "      <td>510283.329978</td>\n",
       "      <td>34.867</td>\n",
       "    </tr>\n",
       "    <tr>\n",
       "      <th>2022-07-31</th>\n",
       "      <td>14653</td>\n",
       "      <td>510910.779956</td>\n",
       "      <td>34.867</td>\n",
       "    </tr>\n",
       "    <tr>\n",
       "      <th>2021-05-31</th>\n",
       "      <td>14169</td>\n",
       "      <td>493028.576637</td>\n",
       "      <td>34.796</td>\n",
       "    </tr>\n",
       "    <tr>\n",
       "      <th>2022-03-31</th>\n",
       "      <td>14827</td>\n",
       "      <td>515573.551627</td>\n",
       "      <td>34.773</td>\n",
       "    </tr>\n",
       "    <tr>\n",
       "      <th>2022-08-31</th>\n",
       "      <td>14587</td>\n",
       "      <td>506552.376637</td>\n",
       "      <td>34.726</td>\n",
       "    </tr>\n",
       "    <tr>\n",
       "      <th>2022-10-31</th>\n",
       "      <td>14660</td>\n",
       "      <td>508024.153297</td>\n",
       "      <td>34.654</td>\n",
       "    </tr>\n",
       "    <tr>\n",
       "      <th>2022-09-30</th>\n",
       "      <td>14264</td>\n",
       "      <td>494210.274967</td>\n",
       "      <td>34.647</td>\n",
       "    </tr>\n",
       "    <tr>\n",
       "      <th>2022-05-31</th>\n",
       "      <td>14960</td>\n",
       "      <td>517302.813275</td>\n",
       "      <td>34.579</td>\n",
       "    </tr>\n",
       "    <tr>\n",
       "      <th>2022-06-30</th>\n",
       "      <td>14391</td>\n",
       "      <td>496090.588308</td>\n",
       "      <td>34.472</td>\n",
       "    </tr>\n",
       "    <tr>\n",
       "      <th>2021-09-30</th>\n",
       "      <td>14850</td>\n",
       "      <td>507368.339956</td>\n",
       "      <td>34.166</td>\n",
       "    </tr>\n",
       "    <tr>\n",
       "      <th>2021-04-30</th>\n",
       "      <td>13972</td>\n",
       "      <td>476258.236616</td>\n",
       "      <td>34.087</td>\n",
       "    </tr>\n",
       "    <tr>\n",
       "      <th>2021-03-31</th>\n",
       "      <td>14203</td>\n",
       "      <td>482536.354967</td>\n",
       "      <td>33.974</td>\n",
       "    </tr>\n",
       "    <tr>\n",
       "      <th>2021-12-31</th>\n",
       "      <td>15567</td>\n",
       "      <td>525991.748308</td>\n",
       "      <td>33.789</td>\n",
       "    </tr>\n",
       "    <tr>\n",
       "      <th>2021-10-31</th>\n",
       "      <td>11553</td>\n",
       "      <td>320873.208308</td>\n",
       "      <td>27.774</td>\n",
       "    </tr>\n",
       "  </tbody>\n",
       "</table>\n",
       "</div>"
      ],
      "text/plain": [
       "            session_id          price      PM\n",
       "date                                         \n",
       "2022-02-28       14339  535688.521627  37.359\n",
       "2021-07-31       13573  482877.953319  35.576\n",
       "2021-08-31       13593  482380.534967  35.487\n",
       "2021-11-30       14608  516274.113297  35.342\n",
       "2022-01-31       14979  525392.181648  35.075\n",
       "2023-01-31       14758  517615.018308  35.074\n",
       "2022-04-30       14086  493147.876616  35.010\n",
       "2021-06-30       13839  484163.028308  34.985\n",
       "2023-02-28       13074  456754.228308  34.936\n",
       "2022-11-30       14226  496781.961627  34.921\n",
       "2022-12-31       14635  510283.329978  34.867\n",
       "2022-07-31       14653  510910.779956  34.867\n",
       "2021-05-31       14169  493028.576637  34.796\n",
       "2022-03-31       14827  515573.551627  34.773\n",
       "2022-08-31       14587  506552.376637  34.726\n",
       "2022-10-31       14660  508024.153297  34.654\n",
       "2022-09-30       14264  494210.274967  34.647\n",
       "2022-05-31       14960  517302.813275  34.579\n",
       "2022-06-30       14391  496090.588308  34.472\n",
       "2021-09-30       14850  507368.339956  34.166\n",
       "2021-04-30       13972  476258.236616  34.087\n",
       "2021-03-31       14203  482536.354967  33.974\n",
       "2021-12-31       15567  525991.748308  33.789\n",
       "2021-10-31       11553  320873.208308  27.774"
      ]
     },
     "execution_count": 74,
     "metadata": {},
     "output_type": "execute_result"
    }
   ],
   "source": [
    "data.sort_values(by='PM',ascending=False)"
   ]
  },
  {
   "cell_type": "code",
   "execution_count": 75,
   "metadata": {},
   "outputs": [
    {
     "data": {
      "image/png": "[encoded data removed]",
      "text/plain": [
       "<Figure size 864x432 with 1 Axes>"
      ]
     },
     "metadata": {
      "needs_background": "light"
     },
     "output_type": "display_data"
    }
   ],
   "source": [
    "data['PM'].plot(figsize=(12,6))\n",
    "plt.title('Evolution du PM en fonction du temps')\n",
    "plt.show()"
   ]
  },
  {
   "cell_type": "markdown",
   "metadata": {},
   "source": [
    "**Conclusion:** Le nombre de paniers a chuté brusquement dans le mois **d'otobre 2021**. Cela confirme que les ventes n'ont pas été enregistées ou à un bug pendant ce mois. Le mois de **fevrier 2022** a enregistré le nombre de panier le plus élévé.  "
   ]
  },
  {
   "cell_type": "markdown",
   "metadata": {},
   "source": [
    "### Lien entre le CA et le nombre sessions"
   ]
  },
  {
   "cell_type": "code",
   "execution_count": 76,
   "metadata": {},
   "outputs": [
    {
     "data": {
      "text/plain": [
       "<Figure size 864x432 with 0 Axes>"
      ]
     },
     "metadata": {},
     "output_type": "display_data"
    },
    {
     "data": {
      "image/png": "[encoded data removed]",
      "text/plain": [
       "<Figure size 432x288 with 1 Axes>"
      ]
     },
     "metadata": {
      "needs_background": "light"
     },
     "output_type": "display_data"
    }
   ],
   "source": [
    "plt.figure(figsize=(12,6))\n",
    "data.plot(kind='scatter', x='session_id',y='price')\n",
    "plt.title('CA en fonction du nombre de sessions par mois')\n",
    "plt.show()"
   ]
  },
  {
   "cell_type": "markdown",
   "metadata": {},
   "source": [
    "**Conclusion:** Il ya une correlation linéaire entre le nombre de panier et le CA. Plus Le nombre de session augmente plus le PM augmente."
   ]
  },
  {
   "cell_type": "markdown",
   "metadata": {},
   "source": [
    "### Le nombre de ventes par session "
   ]
  },
  {
   "cell_type": "code",
   "execution_count": 77,
   "metadata": {},
   "outputs": [
    {
     "name": "stdout",
     "output_type": "stream",
     "text": [
      "Voici la liste du nombre de ventes par session\n"
     ]
    },
    {
     "data": {
      "text/html": [
       "<div>\n",
       "<style scoped>\n",
       "    .dataframe tbody tr th:only-of-type {\n",
       "        vertical-align: middle;\n",
       "    }\n",
       "\n",
       "    .dataframe tbody tr th {\n",
       "        vertical-align: top;\n",
       "    }\n",
       "\n",
       "    .dataframe thead th {\n",
       "        text-align: right;\n",
       "    }\n",
       "</style>\n",
       "<table border=\"1\" class=\"dataframe\">\n",
       "  <thead>\n",
       "    <tr style=\"text-align: right;\">\n",
       "      <th></th>\n",
       "      <th>session_id</th>\n",
       "      <th>nb_vente</th>\n",
       "    </tr>\n",
       "  </thead>\n",
       "  <tbody>\n",
       "    <tr>\n",
       "      <th>0</th>\n",
       "      <td>s_1</td>\n",
       "      <td>1</td>\n",
       "    </tr>\n",
       "    <tr>\n",
       "      <th>1</th>\n",
       "      <td>s_10</td>\n",
       "      <td>1</td>\n",
       "    </tr>\n",
       "    <tr>\n",
       "      <th>2</th>\n",
       "      <td>s_100</td>\n",
       "      <td>2</td>\n",
       "    </tr>\n",
       "    <tr>\n",
       "      <th>3</th>\n",
       "      <td>s_1000</td>\n",
       "      <td>4</td>\n",
       "    </tr>\n",
       "    <tr>\n",
       "      <th>4</th>\n",
       "      <td>s_10000</td>\n",
       "      <td>3</td>\n",
       "    </tr>\n",
       "    <tr>\n",
       "      <th>...</th>\n",
       "      <td>...</td>\n",
       "      <td>...</td>\n",
       "    </tr>\n",
       "    <tr>\n",
       "      <th>342310</th>\n",
       "      <td>s_99994</td>\n",
       "      <td>3</td>\n",
       "    </tr>\n",
       "    <tr>\n",
       "      <th>342311</th>\n",
       "      <td>s_99995</td>\n",
       "      <td>1</td>\n",
       "    </tr>\n",
       "    <tr>\n",
       "      <th>342312</th>\n",
       "      <td>s_99996</td>\n",
       "      <td>4</td>\n",
       "    </tr>\n",
       "    <tr>\n",
       "      <th>342313</th>\n",
       "      <td>s_99997</td>\n",
       "      <td>1</td>\n",
       "    </tr>\n",
       "    <tr>\n",
       "      <th>342314</th>\n",
       "      <td>s_99998</td>\n",
       "      <td>3</td>\n",
       "    </tr>\n",
       "  </tbody>\n",
       "</table>\n",
       "<p>342315 rows × 2 columns</p>\n",
       "</div>"
      ],
      "text/plain": [
       "       session_id  nb_vente\n",
       "0             s_1         1\n",
       "1            s_10         1\n",
       "2           s_100         2\n",
       "3          s_1000         4\n",
       "4         s_10000         3\n",
       "...           ...       ...\n",
       "342310    s_99994         3\n",
       "342311    s_99995         1\n",
       "342312    s_99996         4\n",
       "342313    s_99997         1\n",
       "342314    s_99998         3\n",
       "\n",
       "[342315 rows x 2 columns]"
      ]
     },
     "execution_count": 77,
     "metadata": {},
     "output_type": "execute_result"
    }
   ],
   "source": [
    "nb_vente_session = transaction_df[['id_prod','session_id']].groupby(['session_id']).count().reset_index().rename(columns={'id_prod':'nb_vente'})\n",
    "print(f\"Voici la liste du nombre de ventes par session\")\n",
    "nb_vente_session"
   ]
  },
  {
   "cell_type": "markdown",
   "metadata": {},
   "source": [
    "### Le lien entre chiffre d'affaires et la durée de sessions "
   ]
  },
  {
   "cell_type": "markdown",
   "metadata": {},
   "source": [
    "#### Le CA par vente et par session "
   ]
  },
  {
   "cell_type": "markdown",
   "metadata": {},
   "source": [
    "* CA par session"
   ]
  },
  {
   "cell_type": "code",
   "execution_count": 78,
   "metadata": {},
   "outputs": [
    {
     "data": {
      "text/html": [
       "<div>\n",
       "<style scoped>\n",
       "    .dataframe tbody tr th:only-of-type {\n",
       "        vertical-align: middle;\n",
       "    }\n",
       "\n",
       "    .dataframe tbody tr th {\n",
       "        vertical-align: top;\n",
       "    }\n",
       "\n",
       "    .dataframe thead th {\n",
       "        text-align: right;\n",
       "    }\n",
       "</style>\n",
       "<table border=\"1\" class=\"dataframe\">\n",
       "  <thead>\n",
       "    <tr style=\"text-align: right;\">\n",
       "      <th></th>\n",
       "      <th>session_id</th>\n",
       "      <th>CA</th>\n",
       "    </tr>\n",
       "  </thead>\n",
       "  <tbody>\n",
       "    <tr>\n",
       "      <th>0</th>\n",
       "      <td>s_1</td>\n",
       "      <td>11.99</td>\n",
       "    </tr>\n",
       "    <tr>\n",
       "      <th>1</th>\n",
       "      <td>s_10</td>\n",
       "      <td>26.99</td>\n",
       "    </tr>\n",
       "    <tr>\n",
       "      <th>2</th>\n",
       "      <td>s_100</td>\n",
       "      <td>33.72</td>\n",
       "    </tr>\n",
       "    <tr>\n",
       "      <th>3</th>\n",
       "      <td>s_1000</td>\n",
       "      <td>39.22</td>\n",
       "    </tr>\n",
       "    <tr>\n",
       "      <th>4</th>\n",
       "      <td>s_10000</td>\n",
       "      <td>41.49</td>\n",
       "    </tr>\n",
       "  </tbody>\n",
       "</table>\n",
       "</div>"
      ],
      "text/plain": [
       "  session_id     CA\n",
       "0        s_1  11.99\n",
       "1       s_10  26.99\n",
       "2      s_100  33.72\n",
       "3     s_1000  39.22\n",
       "4    s_10000  41.49"
      ]
     },
     "execution_count": 78,
     "metadata": {},
     "output_type": "execute_result"
    }
   ],
   "source": [
    "CA_session = transaction_df[['session_id','price']].groupby(['session_id']).sum().reset_index().rename(columns={'price':'CA'})\n",
    "CA_session.head()"
   ]
  },
  {
   "cell_type": "markdown",
   "metadata": {},
   "source": [
    "* Jointure"
   ]
  },
  {
   "cell_type": "code",
   "execution_count": 79,
   "metadata": {},
   "outputs": [
    {
     "data": {
      "text/html": [
       "<div>\n",
       "<style scoped>\n",
       "    .dataframe tbody tr th:only-of-type {\n",
       "        vertical-align: middle;\n",
       "    }\n",
       "\n",
       "    .dataframe tbody tr th {\n",
       "        vertical-align: top;\n",
       "    }\n",
       "\n",
       "    .dataframe thead th {\n",
       "        text-align: right;\n",
       "    }\n",
       "</style>\n",
       "<table border=\"1\" class=\"dataframe\">\n",
       "  <thead>\n",
       "    <tr style=\"text-align: right;\">\n",
       "      <th></th>\n",
       "      <th>session_id</th>\n",
       "      <th>nb_vente</th>\n",
       "      <th>CA</th>\n",
       "    </tr>\n",
       "  </thead>\n",
       "  <tbody>\n",
       "    <tr>\n",
       "      <th>0</th>\n",
       "      <td>s_1</td>\n",
       "      <td>1</td>\n",
       "      <td>11.99</td>\n",
       "    </tr>\n",
       "    <tr>\n",
       "      <th>1</th>\n",
       "      <td>s_10</td>\n",
       "      <td>1</td>\n",
       "      <td>26.99</td>\n",
       "    </tr>\n",
       "    <tr>\n",
       "      <th>2</th>\n",
       "      <td>s_100</td>\n",
       "      <td>2</td>\n",
       "      <td>33.72</td>\n",
       "    </tr>\n",
       "    <tr>\n",
       "      <th>3</th>\n",
       "      <td>s_1000</td>\n",
       "      <td>4</td>\n",
       "      <td>39.22</td>\n",
       "    </tr>\n",
       "    <tr>\n",
       "      <th>4</th>\n",
       "      <td>s_10000</td>\n",
       "      <td>3</td>\n",
       "      <td>41.49</td>\n",
       "    </tr>\n",
       "  </tbody>\n",
       "</table>\n",
       "</div>"
      ],
      "text/plain": [
       "  session_id  nb_vente     CA\n",
       "0        s_1         1  11.99\n",
       "1       s_10         1  26.99\n",
       "2      s_100         2  33.72\n",
       "3     s_1000         4  39.22\n",
       "4    s_10000         3  41.49"
      ]
     },
     "execution_count": 79,
     "metadata": {},
     "output_type": "execute_result"
    }
   ],
   "source": [
    "df_vente = nb_vente_session.merge(CA_session, on=['session_id'], how='inner')\n",
    "df_vente.head()"
   ]
  },
  {
   "cell_type": "markdown",
   "metadata": {},
   "source": [
    "#### Le temps mis par session"
   ]
  },
  {
   "cell_type": "code",
   "execution_count": 80,
   "metadata": {},
   "outputs": [
    {
     "data": {
      "text/plain": [
       "date          datetime64[ns]\n",
       "id_prod               object\n",
       "session_id            object\n",
       "client_id             object\n",
       "price                float64\n",
       "categ                float64\n",
       "sex                   object\n",
       "birth                  int64\n",
       "age                    int64\n",
       "year                   int64\n",
       "month                  int64\n",
       "dtype: object"
      ]
     },
     "execution_count": 80,
     "metadata": {},
     "output_type": "execute_result"
    }
   ],
   "source": [
    "transaction_df2 = transaction_df.reset_index()\n",
    "transaction_df2.dtypes"
   ]
  },
  {
   "cell_type": "code",
   "execution_count": 81,
   "metadata": {},
   "outputs": [],
   "source": [
    "df_session = transaction_df2.groupby(['session_id','client_id','age'])['date'].agg(['min','max']).rename(columns={'min':'start_date', 'max':'end_date'}).reset_index()"
   ]
  },
  {
   "cell_type": "code",
   "execution_count": 82,
   "metadata": {},
   "outputs": [
    {
     "data": {
      "text/html": [
       "<div>\n",
       "<style scoped>\n",
       "    .dataframe tbody tr th:only-of-type {\n",
       "        vertical-align: middle;\n",
       "    }\n",
       "\n",
       "    .dataframe tbody tr th {\n",
       "        vertical-align: top;\n",
       "    }\n",
       "\n",
       "    .dataframe thead th {\n",
       "        text-align: right;\n",
       "    }\n",
       "</style>\n",
       "<table border=\"1\" class=\"dataframe\">\n",
       "  <thead>\n",
       "    <tr style=\"text-align: right;\">\n",
       "      <th></th>\n",
       "      <th>session_id</th>\n",
       "      <th>client_id</th>\n",
       "      <th>age</th>\n",
       "      <th>start_date</th>\n",
       "      <th>end_date</th>\n",
       "    </tr>\n",
       "  </thead>\n",
       "  <tbody>\n",
       "    <tr>\n",
       "      <th>0</th>\n",
       "      <td>s_1</td>\n",
       "      <td>c_329</td>\n",
       "      <td>54</td>\n",
       "      <td>2021-03-01 00:01:07.843138</td>\n",
       "      <td>2021-03-01 00:01:07.843138</td>\n",
       "    </tr>\n",
       "    <tr>\n",
       "      <th>1</th>\n",
       "      <td>s_10</td>\n",
       "      <td>c_2218</td>\n",
       "      <td>51</td>\n",
       "      <td>2021-03-01 00:10:33.163037</td>\n",
       "      <td>2021-03-01 00:10:33.163037</td>\n",
       "    </tr>\n",
       "    <tr>\n",
       "      <th>2</th>\n",
       "      <td>s_100</td>\n",
       "      <td>c_3854</td>\n",
       "      <td>43</td>\n",
       "      <td>2021-03-01 04:12:43.572994</td>\n",
       "      <td>2021-03-01 04:43:58.025677</td>\n",
       "    </tr>\n",
       "    <tr>\n",
       "      <th>3</th>\n",
       "      <td>s_1000</td>\n",
       "      <td>c_1014</td>\n",
       "      <td>32</td>\n",
       "      <td>2021-03-03 02:38:09.568389</td>\n",
       "      <td>2021-03-03 03:25:12.320225</td>\n",
       "    </tr>\n",
       "    <tr>\n",
       "      <th>4</th>\n",
       "      <td>s_10000</td>\n",
       "      <td>c_476</td>\n",
       "      <td>32</td>\n",
       "      <td>2021-03-22 17:46:05.819130</td>\n",
       "      <td>2021-03-22 18:15:03.831240</td>\n",
       "    </tr>\n",
       "  </tbody>\n",
       "</table>\n",
       "</div>"
      ],
      "text/plain": [
       "  session_id client_id  age                 start_date  \\\n",
       "0        s_1     c_329   54 2021-03-01 00:01:07.843138   \n",
       "1       s_10    c_2218   51 2021-03-01 00:10:33.163037   \n",
       "2      s_100    c_3854   43 2021-03-01 04:12:43.572994   \n",
       "3     s_1000    c_1014   32 2021-03-03 02:38:09.568389   \n",
       "4    s_10000     c_476   32 2021-03-22 17:46:05.819130   \n",
       "\n",
       "                    end_date  \n",
       "0 2021-03-01 00:01:07.843138  \n",
       "1 2021-03-01 00:10:33.163037  \n",
       "2 2021-03-01 04:43:58.025677  \n",
       "3 2021-03-03 03:25:12.320225  \n",
       "4 2021-03-22 18:15:03.831240  "
      ]
     },
     "execution_count": 82,
     "metadata": {},
     "output_type": "execute_result"
    }
   ],
   "source": [
    "df_session.head()"
   ]
  },
  {
   "cell_type": "code",
   "execution_count": 83,
   "metadata": {},
   "outputs": [
    {
     "data": {
      "text/html": [
       "<div>\n",
       "<style scoped>\n",
       "    .dataframe tbody tr th:only-of-type {\n",
       "        vertical-align: middle;\n",
       "    }\n",
       "\n",
       "    .dataframe tbody tr th {\n",
       "        vertical-align: top;\n",
       "    }\n",
       "\n",
       "    .dataframe thead th {\n",
       "        text-align: right;\n",
       "    }\n",
       "</style>\n",
       "<table border=\"1\" class=\"dataframe\">\n",
       "  <thead>\n",
       "    <tr style=\"text-align: right;\">\n",
       "      <th></th>\n",
       "      <th>session_id</th>\n",
       "      <th>client_id</th>\n",
       "      <th>age</th>\n",
       "      <th>start_date</th>\n",
       "      <th>end_date</th>\n",
       "      <th>duree</th>\n",
       "    </tr>\n",
       "  </thead>\n",
       "  <tbody>\n",
       "    <tr>\n",
       "      <th>0</th>\n",
       "      <td>s_1</td>\n",
       "      <td>c_329</td>\n",
       "      <td>54</td>\n",
       "      <td>2021-03-01 00:01:07.843138</td>\n",
       "      <td>2021-03-01 00:01:07.843138</td>\n",
       "      <td>0.000000</td>\n",
       "    </tr>\n",
       "    <tr>\n",
       "      <th>1</th>\n",
       "      <td>s_10</td>\n",
       "      <td>c_2218</td>\n",
       "      <td>51</td>\n",
       "      <td>2021-03-01 00:10:33.163037</td>\n",
       "      <td>2021-03-01 00:10:33.163037</td>\n",
       "      <td>0.000000</td>\n",
       "    </tr>\n",
       "    <tr>\n",
       "      <th>2</th>\n",
       "      <td>s_100</td>\n",
       "      <td>c_3854</td>\n",
       "      <td>43</td>\n",
       "      <td>2021-03-01 04:12:43.572994</td>\n",
       "      <td>2021-03-01 04:43:58.025677</td>\n",
       "      <td>31.233333</td>\n",
       "    </tr>\n",
       "    <tr>\n",
       "      <th>3</th>\n",
       "      <td>s_1000</td>\n",
       "      <td>c_1014</td>\n",
       "      <td>32</td>\n",
       "      <td>2021-03-03 02:38:09.568389</td>\n",
       "      <td>2021-03-03 03:25:12.320225</td>\n",
       "      <td>47.033333</td>\n",
       "    </tr>\n",
       "    <tr>\n",
       "      <th>4</th>\n",
       "      <td>s_10000</td>\n",
       "      <td>c_476</td>\n",
       "      <td>32</td>\n",
       "      <td>2021-03-22 17:46:05.819130</td>\n",
       "      <td>2021-03-22 18:15:03.831240</td>\n",
       "      <td>28.966667</td>\n",
       "    </tr>\n",
       "  </tbody>\n",
       "</table>\n",
       "</div>"
      ],
      "text/plain": [
       "  session_id client_id  age                 start_date  \\\n",
       "0        s_1     c_329   54 2021-03-01 00:01:07.843138   \n",
       "1       s_10    c_2218   51 2021-03-01 00:10:33.163037   \n",
       "2      s_100    c_3854   43 2021-03-01 04:12:43.572994   \n",
       "3     s_1000    c_1014   32 2021-03-03 02:38:09.568389   \n",
       "4    s_10000     c_476   32 2021-03-22 17:46:05.819130   \n",
       "\n",
       "                    end_date      duree  \n",
       "0 2021-03-01 00:01:07.843138   0.000000  \n",
       "1 2021-03-01 00:10:33.163037   0.000000  \n",
       "2 2021-03-01 04:43:58.025677  31.233333  \n",
       "3 2021-03-03 03:25:12.320225  47.033333  \n",
       "4 2021-03-22 18:15:03.831240  28.966667  "
      ]
     },
     "execution_count": 83,
     "metadata": {},
     "output_type": "execute_result"
    }
   ],
   "source": [
    "df_session['duree'] = df_session['end_date'] - df_session['start_date']\n",
    "df_session['duree'] = df_session['duree'].apply(lambda t: t.seconds/60)\n",
    "df_session.head()"
   ]
  },
  {
   "cell_type": "markdown",
   "metadata": {},
   "source": [
    "#### Nombre de ventes en fonction du temps passé sur le site"
   ]
  },
  {
   "cell_type": "markdown",
   "metadata": {},
   "source": [
    "* Jointure"
   ]
  },
  {
   "cell_type": "code",
   "execution_count": 84,
   "metadata": {},
   "outputs": [
    {
     "data": {
      "text/html": [
       "<div>\n",
       "<style scoped>\n",
       "    .dataframe tbody tr th:only-of-type {\n",
       "        vertical-align: middle;\n",
       "    }\n",
       "\n",
       "    .dataframe tbody tr th {\n",
       "        vertical-align: top;\n",
       "    }\n",
       "\n",
       "    .dataframe thead th {\n",
       "        text-align: right;\n",
       "    }\n",
       "</style>\n",
       "<table border=\"1\" class=\"dataframe\">\n",
       "  <thead>\n",
       "    <tr style=\"text-align: right;\">\n",
       "      <th></th>\n",
       "      <th>session_id</th>\n",
       "      <th>nb_vente</th>\n",
       "      <th>CA</th>\n",
       "      <th>client_id</th>\n",
       "      <th>age</th>\n",
       "      <th>start_date</th>\n",
       "      <th>end_date</th>\n",
       "      <th>duree</th>\n",
       "    </tr>\n",
       "  </thead>\n",
       "  <tbody>\n",
       "    <tr>\n",
       "      <th>144168</th>\n",
       "      <td>s_233267</td>\n",
       "      <td>7</td>\n",
       "      <td>130.35</td>\n",
       "      <td>c_6042</td>\n",
       "      <td>59</td>\n",
       "      <td>2022-07-04 04:16:28.766274</td>\n",
       "      <td>2022-07-04 06:17:39.332469</td>\n",
       "      <td>121.166667</td>\n",
       "    </tr>\n",
       "    <tr>\n",
       "      <th>63434</th>\n",
       "      <td>s_159693</td>\n",
       "      <td>7</td>\n",
       "      <td>130.35</td>\n",
       "      <td>c_6042</td>\n",
       "      <td>59</td>\n",
       "      <td>2022-02-04 04:16:28.766274</td>\n",
       "      <td>2022-02-04 06:17:39.332469</td>\n",
       "      <td>121.166667</td>\n",
       "    </tr>\n",
       "    <tr>\n",
       "      <th>24315</th>\n",
       "      <td>s_124485</td>\n",
       "      <td>6</td>\n",
       "      <td>88.68</td>\n",
       "      <td>c_7082</td>\n",
       "      <td>65</td>\n",
       "      <td>2021-11-24 17:57:40.877210</td>\n",
       "      <td>2021-11-24 19:58:07.513663</td>\n",
       "      <td>120.433333</td>\n",
       "    </tr>\n",
       "    <tr>\n",
       "      <th>171107</th>\n",
       "      <td>s_257911</td>\n",
       "      <td>6</td>\n",
       "      <td>88.68</td>\n",
       "      <td>c_7082</td>\n",
       "      <td>65</td>\n",
       "      <td>2022-08-24 17:57:40.877210</td>\n",
       "      <td>2022-08-24 19:58:07.513663</td>\n",
       "      <td>120.433333</td>\n",
       "    </tr>\n",
       "    <tr>\n",
       "      <th>109783</th>\n",
       "      <td>s_201844</td>\n",
       "      <td>7</td>\n",
       "      <td>88.07</td>\n",
       "      <td>c_3152</td>\n",
       "      <td>49</td>\n",
       "      <td>2022-05-01 00:54:39.481387</td>\n",
       "      <td>2022-05-01 02:52:14.935196</td>\n",
       "      <td>117.583333</td>\n",
       "    </tr>\n",
       "    <tr>\n",
       "      <th>...</th>\n",
       "      <td>...</td>\n",
       "      <td>...</td>\n",
       "      <td>...</td>\n",
       "      <td>...</td>\n",
       "      <td>...</td>\n",
       "      <td>...</td>\n",
       "      <td>...</td>\n",
       "      <td>...</td>\n",
       "    </tr>\n",
       "    <tr>\n",
       "      <th>207860</th>\n",
       "      <td>s_291518</td>\n",
       "      <td>1</td>\n",
       "      <td>56.99</td>\n",
       "      <td>c_718</td>\n",
       "      <td>17</td>\n",
       "      <td>2022-11-02 06:13:12.712710</td>\n",
       "      <td>2022-11-02 06:13:12.712710</td>\n",
       "      <td>0.000000</td>\n",
       "    </tr>\n",
       "    <tr>\n",
       "      <th>78324</th>\n",
       "      <td>s_173108</td>\n",
       "      <td>1</td>\n",
       "      <td>5.16</td>\n",
       "      <td>c_3049</td>\n",
       "      <td>53</td>\n",
       "      <td>2022-03-02 07:45:12.700777</td>\n",
       "      <td>2022-03-02 07:45:12.700777</td>\n",
       "      <td>0.000000</td>\n",
       "    </tr>\n",
       "    <tr>\n",
       "      <th>78322</th>\n",
       "      <td>s_173106</td>\n",
       "      <td>1</td>\n",
       "      <td>41.31</td>\n",
       "      <td>c_5084</td>\n",
       "      <td>17</td>\n",
       "      <td>2022-03-02 07:43:45.004319</td>\n",
       "      <td>2022-03-02 07:43:45.004319</td>\n",
       "      <td>0.000000</td>\n",
       "    </tr>\n",
       "    <tr>\n",
       "      <th>207865</th>\n",
       "      <td>s_291522</td>\n",
       "      <td>1</td>\n",
       "      <td>4.99</td>\n",
       "      <td>c_7016</td>\n",
       "      <td>39</td>\n",
       "      <td>2022-11-02 06:29:06.022951</td>\n",
       "      <td>2022-11-02 06:29:06.022951</td>\n",
       "      <td>0.000000</td>\n",
       "    </tr>\n",
       "    <tr>\n",
       "      <th>0</th>\n",
       "      <td>s_1</td>\n",
       "      <td>1</td>\n",
       "      <td>11.99</td>\n",
       "      <td>c_329</td>\n",
       "      <td>54</td>\n",
       "      <td>2021-03-01 00:01:07.843138</td>\n",
       "      <td>2021-03-01 00:01:07.843138</td>\n",
       "      <td>0.000000</td>\n",
       "    </tr>\n",
       "  </tbody>\n",
       "</table>\n",
       "<p>342315 rows × 8 columns</p>\n",
       "</div>"
      ],
      "text/plain": [
       "       session_id  nb_vente      CA client_id  age                 start_date  \\\n",
       "144168   s_233267         7  130.35    c_6042   59 2022-07-04 04:16:28.766274   \n",
       "63434    s_159693         7  130.35    c_6042   59 2022-02-04 04:16:28.766274   \n",
       "24315    s_124485         6   88.68    c_7082   65 2021-11-24 17:57:40.877210   \n",
       "171107   s_257911         6   88.68    c_7082   65 2022-08-24 17:57:40.877210   \n",
       "109783   s_201844         7   88.07    c_3152   49 2022-05-01 00:54:39.481387   \n",
       "...           ...       ...     ...       ...  ...                        ...   \n",
       "207860   s_291518         1   56.99     c_718   17 2022-11-02 06:13:12.712710   \n",
       "78324    s_173108         1    5.16    c_3049   53 2022-03-02 07:45:12.700777   \n",
       "78322    s_173106         1   41.31    c_5084   17 2022-03-02 07:43:45.004319   \n",
       "207865   s_291522         1    4.99    c_7016   39 2022-11-02 06:29:06.022951   \n",
       "0             s_1         1   11.99     c_329   54 2021-03-01 00:01:07.843138   \n",
       "\n",
       "                         end_date       duree  \n",
       "144168 2022-07-04 06:17:39.332469  121.166667  \n",
       "63434  2022-02-04 06:17:39.332469  121.166667  \n",
       "24315  2021-11-24 19:58:07.513663  120.433333  \n",
       "171107 2022-08-24 19:58:07.513663  120.433333  \n",
       "109783 2022-05-01 02:52:14.935196  117.583333  \n",
       "...                           ...         ...  \n",
       "207860 2022-11-02 06:13:12.712710    0.000000  \n",
       "78324  2022-03-02 07:45:12.700777    0.000000  \n",
       "78322  2022-03-02 07:43:45.004319    0.000000  \n",
       "207865 2022-11-02 06:29:06.022951    0.000000  \n",
       "0      2021-03-01 00:01:07.843138    0.000000  \n",
       "\n",
       "[342315 rows x 8 columns]"
      ]
     },
     "execution_count": 84,
     "metadata": {},
     "output_type": "execute_result"
    }
   ],
   "source": [
    "df_achat_minute = df_vente.merge(df_session, on='session_id', how='inner')\n",
    "df_achat_minute.sort_values(by='duree',ascending=False)"
   ]
  },
  {
   "cell_type": "code",
   "execution_count": 85,
   "metadata": {},
   "outputs": [
    {
     "data": {
      "text/plain": [
       "session_id            object\n",
       "nb_vente               int64\n",
       "CA                   float64\n",
       "client_id             object\n",
       "age                    int64\n",
       "start_date    datetime64[ns]\n",
       "end_date      datetime64[ns]\n",
       "duree                float64\n",
       "dtype: object"
      ]
     },
     "execution_count": 85,
     "metadata": {},
     "output_type": "execute_result"
    }
   ],
   "source": [
    "df_achat_minute.dtypes"
   ]
  },
  {
   "cell_type": "markdown",
   "metadata": {},
   "source": [
    "* Visualisation "
   ]
  },
  {
   "cell_type": "code",
   "execution_count": 86,
   "metadata": {},
   "outputs": [
    {
     "data": {
      "text/plain": [
       "<Figure size 864x432 with 0 Axes>"
      ]
     },
     "metadata": {},
     "output_type": "display_data"
    },
    {
     "data": {
      "image/png": "[encoded data removed]",
      "text/plain": [
       "<Figure size 432x288 with 1 Axes>"
      ]
     },
     "metadata": {
      "needs_background": "light"
     },
     "output_type": "display_data"
    }
   ],
   "source": [
    "plt.figure(figsize=(12,6))\n",
    "df_achat_minute.plot(kind='scatter', x='duree',y='nb_vente')\n",
    "plt.title('Nombre de ventes en fonction du temps passé sur le site')\n",
    "plt.show()"
   ]
  },
  {
   "cell_type": "markdown",
   "metadata": {},
   "source": [
    "* Calcul du coefficient de pearson et la covariance"
   ]
  },
  {
   "cell_type": "code",
   "execution_count": 87,
   "metadata": {},
   "outputs": [
    {
     "name": "stdout",
     "output_type": "stream",
     "text": [
      "0.7547495177728917\n",
      "17.531803695301818\n"
     ]
    }
   ],
   "source": [
    "print(st.pearsonr(df_achat_minute['duree'], df_achat_minute['nb_vente'])[0])\n",
    "print(np.cov(df_achat_minute['duree'], df_achat_minute['nb_vente'], ddof=0)[1,0])"
   ]
  },
  {
   "cell_type": "markdown",
   "metadata": {},
   "source": [
    "Le coefficient de correlation est 0.75. Il ya une correlation linéaire entre la durée et le nombre de ventes. "
   ]
  },
  {
   "cell_type": "markdown",
   "metadata": {},
   "source": [
    "####  La regression linéeaire "
   ]
  },
  {
   "cell_type": "code",
   "execution_count": 88,
   "metadata": {},
   "outputs": [],
   "source": [
    "import statsmodels.api as sm\n",
    "\n",
    "Y = df_achat_minute['nb_vente'] # premier argument\n",
    "X = df_achat_minute[['duree']] # deuxième argument\n",
    "X = X.copy() # On modifiera X, on en crée donc une copie\n",
    "X['intercept'] = 1.\n",
    "result = sm.OLS(Y, X).fit() # OLS = Ordinary Least Square (Moindres Carrés Ordinaire)\n",
    "a,b = result.params['duree'],result.params['intercept']"
   ]
  },
  {
   "cell_type": "code",
   "execution_count": 89,
   "metadata": {},
   "outputs": [
    {
     "data": {
      "text/plain": [
       "(0.052604110697849996, 1.2674173762603287)"
      ]
     },
     "execution_count": 89,
     "metadata": {},
     "output_type": "execute_result"
    }
   ],
   "source": [
    "a,b = result.params['duree'],result.params['intercept']\n",
    "a,b"
   ]
  },
  {
   "cell_type": "markdown",
   "metadata": {},
   "source": [
    "* Visualisation "
   ]
  },
  {
   "cell_type": "code",
   "execution_count": 90,
   "metadata": {},
   "outputs": [
    {
     "data": {
      "image/png": "[encoded data removed]",
      "text/plain": [
       "<Figure size 432x288 with 1 Axes>"
      ]
     },
     "metadata": {
      "needs_background": "light"
     },
     "output_type": "display_data"
    }
   ],
   "source": [
    "plt.plot(df_achat_minute.duree,df_achat_minute.nb_vente, \"o\")\n",
    "plt.plot(np.arange(125),[a*x+b for x in np.arange(125)])\n",
    "plt.xlabel(\"duree\")\n",
    "plt.ylabel(\"nb_vente\")\n",
    "plt.show()"
   ]
  },
  {
   "cell_type": "markdown",
   "metadata": {},
   "source": [
    "La droite de regression est de la forme: **y = 0.052604110697849996 x +  1.2674173762603287**"
   ]
  },
  {
   "cell_type": "markdown",
   "metadata": {},
   "source": [
    "**Conclusion**:Il existe une corrélation linéaire positive entre la durée de sessions et le nombre de ventes. Plus la durée de session augmente plus le nombre de ventes augmente. "
   ]
  },
  {
   "cell_type": "markdown",
   "metadata": {},
   "source": [
    "### La fréquence d'achat  "
   ]
  },
  {
   "cell_type": "markdown",
   "metadata": {},
   "source": [
    "La fréquence d’achat et le taux de clients récurrents/d’achats répétés se calculent de façon comparable. Il vous suffit de sélectionner la même période d’analyse définie pour le calcul du taux de clients récurrents, et de diviser le nombre total de commandes par le nombre de clients uniques.\n",
    "\n",
    "**Fréquence d’achat = Nombre total de commandes / Nombre de clients uniques**"
   ]
  },
  {
   "cell_type": "markdown",
   "metadata": {},
   "source": [
    "#### Le nombre total de commandes"
   ]
  },
  {
   "cell_type": "code",
   "execution_count": 91,
   "metadata": {},
   "outputs": [],
   "source": [
    "nb_total_command_mois = transaction_df[['year','month','session_id']].groupby(['year','month']).count().reset_index()"
   ]
  },
  {
   "cell_type": "code",
   "execution_count": 92,
   "metadata": {},
   "outputs": [
    {
     "data": {
      "text/html": [
       "<div>\n",
       "<style scoped>\n",
       "    .dataframe tbody tr th:only-of-type {\n",
       "        vertical-align: middle;\n",
       "    }\n",
       "\n",
       "    .dataframe tbody tr th {\n",
       "        vertical-align: top;\n",
       "    }\n",
       "\n",
       "    .dataframe thead th {\n",
       "        text-align: right;\n",
       "    }\n",
       "</style>\n",
       "<table border=\"1\" class=\"dataframe\">\n",
       "  <thead>\n",
       "    <tr style=\"text-align: right;\">\n",
       "      <th></th>\n",
       "      <th>year</th>\n",
       "      <th>month</th>\n",
       "      <th>session_id</th>\n",
       "    </tr>\n",
       "  </thead>\n",
       "  <tbody>\n",
       "    <tr>\n",
       "      <th>0</th>\n",
       "      <td>2021</td>\n",
       "      <td>3</td>\n",
       "      <td>28610</td>\n",
       "    </tr>\n",
       "    <tr>\n",
       "      <th>1</th>\n",
       "      <td>2021</td>\n",
       "      <td>4</td>\n",
       "      <td>28457</td>\n",
       "    </tr>\n",
       "    <tr>\n",
       "      <th>2</th>\n",
       "      <td>2021</td>\n",
       "      <td>5</td>\n",
       "      <td>28293</td>\n",
       "    </tr>\n",
       "    <tr>\n",
       "      <th>3</th>\n",
       "      <td>2021</td>\n",
       "      <td>6</td>\n",
       "      <td>26857</td>\n",
       "    </tr>\n",
       "    <tr>\n",
       "      <th>4</th>\n",
       "      <td>2021</td>\n",
       "      <td>7</td>\n",
       "      <td>24742</td>\n",
       "    </tr>\n",
       "    <tr>\n",
       "      <th>5</th>\n",
       "      <td>2021</td>\n",
       "      <td>8</td>\n",
       "      <td>25659</td>\n",
       "    </tr>\n",
       "    <tr>\n",
       "      <th>6</th>\n",
       "      <td>2021</td>\n",
       "      <td>9</td>\n",
       "      <td>33326</td>\n",
       "    </tr>\n",
       "    <tr>\n",
       "      <th>7</th>\n",
       "      <td>2021</td>\n",
       "      <td>10</td>\n",
       "      <td>21606</td>\n",
       "    </tr>\n",
       "    <tr>\n",
       "      <th>8</th>\n",
       "      <td>2021</td>\n",
       "      <td>11</td>\n",
       "      <td>28321</td>\n",
       "    </tr>\n",
       "    <tr>\n",
       "      <th>9</th>\n",
       "      <td>2021</td>\n",
       "      <td>12</td>\n",
       "      <td>32464</td>\n",
       "    </tr>\n",
       "    <tr>\n",
       "      <th>10</th>\n",
       "      <td>2022</td>\n",
       "      <td>1</td>\n",
       "      <td>29348</td>\n",
       "    </tr>\n",
       "    <tr>\n",
       "      <th>11</th>\n",
       "      <td>2022</td>\n",
       "      <td>2</td>\n",
       "      <td>29605</td>\n",
       "    </tr>\n",
       "    <tr>\n",
       "      <th>12</th>\n",
       "      <td>2022</td>\n",
       "      <td>3</td>\n",
       "      <td>29707</td>\n",
       "    </tr>\n",
       "    <tr>\n",
       "      <th>13</th>\n",
       "      <td>2022</td>\n",
       "      <td>4</td>\n",
       "      <td>27616</td>\n",
       "    </tr>\n",
       "    <tr>\n",
       "      <th>14</th>\n",
       "      <td>2022</td>\n",
       "      <td>5</td>\n",
       "      <td>29991</td>\n",
       "    </tr>\n",
       "    <tr>\n",
       "      <th>15</th>\n",
       "      <td>2022</td>\n",
       "      <td>6</td>\n",
       "      <td>28511</td>\n",
       "    </tr>\n",
       "    <tr>\n",
       "      <th>16</th>\n",
       "      <td>2022</td>\n",
       "      <td>7</td>\n",
       "      <td>28682</td>\n",
       "    </tr>\n",
       "    <tr>\n",
       "      <th>17</th>\n",
       "      <td>2022</td>\n",
       "      <td>8</td>\n",
       "      <td>28552</td>\n",
       "    </tr>\n",
       "    <tr>\n",
       "      <th>18</th>\n",
       "      <td>2022</td>\n",
       "      <td>9</td>\n",
       "      <td>28315</td>\n",
       "    </tr>\n",
       "    <tr>\n",
       "      <th>19</th>\n",
       "      <td>2022</td>\n",
       "      <td>10</td>\n",
       "      <td>28974</td>\n",
       "    </tr>\n",
       "    <tr>\n",
       "      <th>20</th>\n",
       "      <td>2022</td>\n",
       "      <td>11</td>\n",
       "      <td>28574</td>\n",
       "    </tr>\n",
       "    <tr>\n",
       "      <th>21</th>\n",
       "      <td>2022</td>\n",
       "      <td>12</td>\n",
       "      <td>28625</td>\n",
       "    </tr>\n",
       "    <tr>\n",
       "      <th>22</th>\n",
       "      <td>2023</td>\n",
       "      <td>1</td>\n",
       "      <td>28945</td>\n",
       "    </tr>\n",
       "    <tr>\n",
       "      <th>23</th>\n",
       "      <td>2023</td>\n",
       "      <td>2</td>\n",
       "      <td>25552</td>\n",
       "    </tr>\n",
       "  </tbody>\n",
       "</table>\n",
       "</div>"
      ],
      "text/plain": [
       "    year  month  session_id\n",
       "0   2021      3       28610\n",
       "1   2021      4       28457\n",
       "2   2021      5       28293\n",
       "3   2021      6       26857\n",
       "4   2021      7       24742\n",
       "5   2021      8       25659\n",
       "6   2021      9       33326\n",
       "7   2021     10       21606\n",
       "8   2021     11       28321\n",
       "9   2021     12       32464\n",
       "10  2022      1       29348\n",
       "11  2022      2       29605\n",
       "12  2022      3       29707\n",
       "13  2022      4       27616\n",
       "14  2022      5       29991\n",
       "15  2022      6       28511\n",
       "16  2022      7       28682\n",
       "17  2022      8       28552\n",
       "18  2022      9       28315\n",
       "19  2022     10       28974\n",
       "20  2022     11       28574\n",
       "21  2022     12       28625\n",
       "22  2023      1       28945\n",
       "23  2023      2       25552"
      ]
     },
     "execution_count": 92,
     "metadata": {},
     "output_type": "execute_result"
    }
   ],
   "source": [
    "nb_total_command_mois"
   ]
  },
  {
   "cell_type": "markdown",
   "metadata": {},
   "source": [
    "#### Le nombre de clients uniques par mois"
   ]
  },
  {
   "cell_type": "code",
   "execution_count": 93,
   "metadata": {},
   "outputs": [],
   "source": [
    "nb_client_mois = transaction_df[['year','month','client_id']].groupby(['year','month']).nunique()['client_id'].reset_index()"
   ]
  },
  {
   "cell_type": "code",
   "execution_count": 94,
   "metadata": {},
   "outputs": [
    {
     "data": {
      "text/html": [
       "<div>\n",
       "<style scoped>\n",
       "    .dataframe tbody tr th:only-of-type {\n",
       "        vertical-align: middle;\n",
       "    }\n",
       "\n",
       "    .dataframe tbody tr th {\n",
       "        vertical-align: top;\n",
       "    }\n",
       "\n",
       "    .dataframe thead th {\n",
       "        text-align: right;\n",
       "    }\n",
       "</style>\n",
       "<table border=\"1\" class=\"dataframe\">\n",
       "  <thead>\n",
       "    <tr style=\"text-align: right;\">\n",
       "      <th></th>\n",
       "      <th>year</th>\n",
       "      <th>month</th>\n",
       "      <th>client_id</th>\n",
       "    </tr>\n",
       "  </thead>\n",
       "  <tbody>\n",
       "    <tr>\n",
       "      <th>0</th>\n",
       "      <td>2021</td>\n",
       "      <td>3</td>\n",
       "      <td>5676</td>\n",
       "    </tr>\n",
       "    <tr>\n",
       "      <th>1</th>\n",
       "      <td>2021</td>\n",
       "      <td>4</td>\n",
       "      <td>5674</td>\n",
       "    </tr>\n",
       "    <tr>\n",
       "      <th>2</th>\n",
       "      <td>2021</td>\n",
       "      <td>5</td>\n",
       "      <td>5644</td>\n",
       "    </tr>\n",
       "    <tr>\n",
       "      <th>3</th>\n",
       "      <td>2021</td>\n",
       "      <td>6</td>\n",
       "      <td>5659</td>\n",
       "    </tr>\n",
       "    <tr>\n",
       "      <th>4</th>\n",
       "      <td>2021</td>\n",
       "      <td>7</td>\n",
       "      <td>5672</td>\n",
       "    </tr>\n",
       "    <tr>\n",
       "      <th>5</th>\n",
       "      <td>2021</td>\n",
       "      <td>8</td>\n",
       "      <td>5642</td>\n",
       "    </tr>\n",
       "    <tr>\n",
       "      <th>6</th>\n",
       "      <td>2021</td>\n",
       "      <td>9</td>\n",
       "      <td>5693</td>\n",
       "    </tr>\n",
       "    <tr>\n",
       "      <th>7</th>\n",
       "      <td>2021</td>\n",
       "      <td>10</td>\n",
       "      <td>5094</td>\n",
       "    </tr>\n",
       "    <tr>\n",
       "      <th>8</th>\n",
       "      <td>2021</td>\n",
       "      <td>11</td>\n",
       "      <td>5875</td>\n",
       "    </tr>\n",
       "    <tr>\n",
       "      <th>9</th>\n",
       "      <td>2021</td>\n",
       "      <td>12</td>\n",
       "      <td>5867</td>\n",
       "    </tr>\n",
       "    <tr>\n",
       "      <th>10</th>\n",
       "      <td>2022</td>\n",
       "      <td>1</td>\n",
       "      <td>5809</td>\n",
       "    </tr>\n",
       "    <tr>\n",
       "      <th>11</th>\n",
       "      <td>2022</td>\n",
       "      <td>2</td>\n",
       "      <td>5729</td>\n",
       "    </tr>\n",
       "    <tr>\n",
       "      <th>12</th>\n",
       "      <td>2022</td>\n",
       "      <td>3</td>\n",
       "      <td>5835</td>\n",
       "    </tr>\n",
       "    <tr>\n",
       "      <th>13</th>\n",
       "      <td>2022</td>\n",
       "      <td>4</td>\n",
       "      <td>5695</td>\n",
       "    </tr>\n",
       "    <tr>\n",
       "      <th>14</th>\n",
       "      <td>2022</td>\n",
       "      <td>5</td>\n",
       "      <td>5845</td>\n",
       "    </tr>\n",
       "    <tr>\n",
       "      <th>15</th>\n",
       "      <td>2022</td>\n",
       "      <td>6</td>\n",
       "      <td>5717</td>\n",
       "    </tr>\n",
       "    <tr>\n",
       "      <th>16</th>\n",
       "      <td>2022</td>\n",
       "      <td>7</td>\n",
       "      <td>5779</td>\n",
       "    </tr>\n",
       "    <tr>\n",
       "      <th>17</th>\n",
       "      <td>2022</td>\n",
       "      <td>8</td>\n",
       "      <td>5805</td>\n",
       "    </tr>\n",
       "    <tr>\n",
       "      <th>18</th>\n",
       "      <td>2022</td>\n",
       "      <td>9</td>\n",
       "      <td>5738</td>\n",
       "    </tr>\n",
       "    <tr>\n",
       "      <th>19</th>\n",
       "      <td>2022</td>\n",
       "      <td>10</td>\n",
       "      <td>5755</td>\n",
       "    </tr>\n",
       "    <tr>\n",
       "      <th>20</th>\n",
       "      <td>2022</td>\n",
       "      <td>11</td>\n",
       "      <td>5749</td>\n",
       "    </tr>\n",
       "    <tr>\n",
       "      <th>21</th>\n",
       "      <td>2022</td>\n",
       "      <td>12</td>\n",
       "      <td>5766</td>\n",
       "    </tr>\n",
       "    <tr>\n",
       "      <th>22</th>\n",
       "      <td>2023</td>\n",
       "      <td>1</td>\n",
       "      <td>5828</td>\n",
       "    </tr>\n",
       "    <tr>\n",
       "      <th>23</th>\n",
       "      <td>2023</td>\n",
       "      <td>2</td>\n",
       "      <td>5588</td>\n",
       "    </tr>\n",
       "  </tbody>\n",
       "</table>\n",
       "</div>"
      ],
      "text/plain": [
       "    year  month  client_id\n",
       "0   2021      3       5676\n",
       "1   2021      4       5674\n",
       "2   2021      5       5644\n",
       "3   2021      6       5659\n",
       "4   2021      7       5672\n",
       "5   2021      8       5642\n",
       "6   2021      9       5693\n",
       "7   2021     10       5094\n",
       "8   2021     11       5875\n",
       "9   2021     12       5867\n",
       "10  2022      1       5809\n",
       "11  2022      2       5729\n",
       "12  2022      3       5835\n",
       "13  2022      4       5695\n",
       "14  2022      5       5845\n",
       "15  2022      6       5717\n",
       "16  2022      7       5779\n",
       "17  2022      8       5805\n",
       "18  2022      9       5738\n",
       "19  2022     10       5755\n",
       "20  2022     11       5749\n",
       "21  2022     12       5766\n",
       "22  2023      1       5828\n",
       "23  2023      2       5588"
      ]
     },
     "execution_count": 94,
     "metadata": {},
     "output_type": "execute_result"
    }
   ],
   "source": [
    "nb_client_mois"
   ]
  },
  {
   "cell_type": "markdown",
   "metadata": {},
   "source": [
    "* Jointure des dataframes"
   ]
  },
  {
   "cell_type": "code",
   "execution_count": 95,
   "metadata": {},
   "outputs": [],
   "source": [
    "data_client = nb_total_command_mois.merge(nb_client_mois)"
   ]
  },
  {
   "cell_type": "code",
   "execution_count": 96,
   "metadata": {},
   "outputs": [
    {
     "data": {
      "text/html": [
       "<div>\n",
       "<style scoped>\n",
       "    .dataframe tbody tr th:only-of-type {\n",
       "        vertical-align: middle;\n",
       "    }\n",
       "\n",
       "    .dataframe tbody tr th {\n",
       "        vertical-align: top;\n",
       "    }\n",
       "\n",
       "    .dataframe thead th {\n",
       "        text-align: right;\n",
       "    }\n",
       "</style>\n",
       "<table border=\"1\" class=\"dataframe\">\n",
       "  <thead>\n",
       "    <tr style=\"text-align: right;\">\n",
       "      <th></th>\n",
       "      <th>year</th>\n",
       "      <th>month</th>\n",
       "      <th>session_id</th>\n",
       "      <th>client_id</th>\n",
       "    </tr>\n",
       "  </thead>\n",
       "  <tbody>\n",
       "    <tr>\n",
       "      <th>0</th>\n",
       "      <td>2021</td>\n",
       "      <td>3</td>\n",
       "      <td>28610</td>\n",
       "      <td>5676</td>\n",
       "    </tr>\n",
       "    <tr>\n",
       "      <th>1</th>\n",
       "      <td>2021</td>\n",
       "      <td>4</td>\n",
       "      <td>28457</td>\n",
       "      <td>5674</td>\n",
       "    </tr>\n",
       "    <tr>\n",
       "      <th>2</th>\n",
       "      <td>2021</td>\n",
       "      <td>5</td>\n",
       "      <td>28293</td>\n",
       "      <td>5644</td>\n",
       "    </tr>\n",
       "    <tr>\n",
       "      <th>3</th>\n",
       "      <td>2021</td>\n",
       "      <td>6</td>\n",
       "      <td>26857</td>\n",
       "      <td>5659</td>\n",
       "    </tr>\n",
       "    <tr>\n",
       "      <th>4</th>\n",
       "      <td>2021</td>\n",
       "      <td>7</td>\n",
       "      <td>24742</td>\n",
       "      <td>5672</td>\n",
       "    </tr>\n",
       "    <tr>\n",
       "      <th>5</th>\n",
       "      <td>2021</td>\n",
       "      <td>8</td>\n",
       "      <td>25659</td>\n",
       "      <td>5642</td>\n",
       "    </tr>\n",
       "    <tr>\n",
       "      <th>6</th>\n",
       "      <td>2021</td>\n",
       "      <td>9</td>\n",
       "      <td>33326</td>\n",
       "      <td>5693</td>\n",
       "    </tr>\n",
       "    <tr>\n",
       "      <th>7</th>\n",
       "      <td>2021</td>\n",
       "      <td>10</td>\n",
       "      <td>21606</td>\n",
       "      <td>5094</td>\n",
       "    </tr>\n",
       "    <tr>\n",
       "      <th>8</th>\n",
       "      <td>2021</td>\n",
       "      <td>11</td>\n",
       "      <td>28321</td>\n",
       "      <td>5875</td>\n",
       "    </tr>\n",
       "    <tr>\n",
       "      <th>9</th>\n",
       "      <td>2021</td>\n",
       "      <td>12</td>\n",
       "      <td>32464</td>\n",
       "      <td>5867</td>\n",
       "    </tr>\n",
       "    <tr>\n",
       "      <th>10</th>\n",
       "      <td>2022</td>\n",
       "      <td>1</td>\n",
       "      <td>29348</td>\n",
       "      <td>5809</td>\n",
       "    </tr>\n",
       "    <tr>\n",
       "      <th>11</th>\n",
       "      <td>2022</td>\n",
       "      <td>2</td>\n",
       "      <td>29605</td>\n",
       "      <td>5729</td>\n",
       "    </tr>\n",
       "    <tr>\n",
       "      <th>12</th>\n",
       "      <td>2022</td>\n",
       "      <td>3</td>\n",
       "      <td>29707</td>\n",
       "      <td>5835</td>\n",
       "    </tr>\n",
       "    <tr>\n",
       "      <th>13</th>\n",
       "      <td>2022</td>\n",
       "      <td>4</td>\n",
       "      <td>27616</td>\n",
       "      <td>5695</td>\n",
       "    </tr>\n",
       "    <tr>\n",
       "      <th>14</th>\n",
       "      <td>2022</td>\n",
       "      <td>5</td>\n",
       "      <td>29991</td>\n",
       "      <td>5845</td>\n",
       "    </tr>\n",
       "    <tr>\n",
       "      <th>15</th>\n",
       "      <td>2022</td>\n",
       "      <td>6</td>\n",
       "      <td>28511</td>\n",
       "      <td>5717</td>\n",
       "    </tr>\n",
       "    <tr>\n",
       "      <th>16</th>\n",
       "      <td>2022</td>\n",
       "      <td>7</td>\n",
       "      <td>28682</td>\n",
       "      <td>5779</td>\n",
       "    </tr>\n",
       "    <tr>\n",
       "      <th>17</th>\n",
       "      <td>2022</td>\n",
       "      <td>8</td>\n",
       "      <td>28552</td>\n",
       "      <td>5805</td>\n",
       "    </tr>\n",
       "    <tr>\n",
       "      <th>18</th>\n",
       "      <td>2022</td>\n",
       "      <td>9</td>\n",
       "      <td>28315</td>\n",
       "      <td>5738</td>\n",
       "    </tr>\n",
       "    <tr>\n",
       "      <th>19</th>\n",
       "      <td>2022</td>\n",
       "      <td>10</td>\n",
       "      <td>28974</td>\n",
       "      <td>5755</td>\n",
       "    </tr>\n",
       "    <tr>\n",
       "      <th>20</th>\n",
       "      <td>2022</td>\n",
       "      <td>11</td>\n",
       "      <td>28574</td>\n",
       "      <td>5749</td>\n",
       "    </tr>\n",
       "    <tr>\n",
       "      <th>21</th>\n",
       "      <td>2022</td>\n",
       "      <td>12</td>\n",
       "      <td>28625</td>\n",
       "      <td>5766</td>\n",
       "    </tr>\n",
       "    <tr>\n",
       "      <th>22</th>\n",
       "      <td>2023</td>\n",
       "      <td>1</td>\n",
       "      <td>28945</td>\n",
       "      <td>5828</td>\n",
       "    </tr>\n",
       "    <tr>\n",
       "      <th>23</th>\n",
       "      <td>2023</td>\n",
       "      <td>2</td>\n",
       "      <td>25552</td>\n",
       "      <td>5588</td>\n",
       "    </tr>\n",
       "  </tbody>\n",
       "</table>\n",
       "</div>"
      ],
      "text/plain": [
       "    year  month  session_id  client_id\n",
       "0   2021      3       28610       5676\n",
       "1   2021      4       28457       5674\n",
       "2   2021      5       28293       5644\n",
       "3   2021      6       26857       5659\n",
       "4   2021      7       24742       5672\n",
       "5   2021      8       25659       5642\n",
       "6   2021      9       33326       5693\n",
       "7   2021     10       21606       5094\n",
       "8   2021     11       28321       5875\n",
       "9   2021     12       32464       5867\n",
       "10  2022      1       29348       5809\n",
       "11  2022      2       29605       5729\n",
       "12  2022      3       29707       5835\n",
       "13  2022      4       27616       5695\n",
       "14  2022      5       29991       5845\n",
       "15  2022      6       28511       5717\n",
       "16  2022      7       28682       5779\n",
       "17  2022      8       28552       5805\n",
       "18  2022      9       28315       5738\n",
       "19  2022     10       28974       5755\n",
       "20  2022     11       28574       5749\n",
       "21  2022     12       28625       5766\n",
       "22  2023      1       28945       5828\n",
       "23  2023      2       25552       5588"
      ]
     },
     "execution_count": 96,
     "metadata": {},
     "output_type": "execute_result"
    }
   ],
   "source": [
    "data_client"
   ]
  },
  {
   "cell_type": "code",
   "execution_count": 97,
   "metadata": {},
   "outputs": [],
   "source": [
    "data_client['frequence_achat'] = data_client['session_id'] / data_client['client_id']"
   ]
  },
  {
   "cell_type": "code",
   "execution_count": 98,
   "metadata": {},
   "outputs": [
    {
     "data": {
      "text/plain": [
       "0     5.040521\n",
       "1     5.015333\n",
       "2     5.012934\n",
       "3     4.745892\n",
       "4     4.362130\n",
       "5     4.547855\n",
       "6     5.853856\n",
       "7     4.241461\n",
       "8     4.820596\n",
       "9     5.533322\n",
       "10    5.052160\n",
       "11    5.167569\n",
       "12    5.091174\n",
       "13    4.849166\n",
       "14    5.131052\n",
       "15    4.987056\n",
       "16    4.963142\n",
       "17    4.918519\n",
       "18    4.934646\n",
       "19    5.034579\n",
       "20    4.970256\n",
       "21    4.964447\n",
       "22    4.966541\n",
       "23    4.572656\n",
       "Name: frequence_achat, dtype: float64"
      ]
     },
     "execution_count": 98,
     "metadata": {},
     "output_type": "execute_result"
    }
   ],
   "source": [
    "data_client['frequence_achat']"
   ]
  },
  {
   "cell_type": "code",
   "execution_count": 99,
   "metadata": {},
   "outputs": [
    {
     "data": {
      "text/html": [
       "<div>\n",
       "<style scoped>\n",
       "    .dataframe tbody tr th:only-of-type {\n",
       "        vertical-align: middle;\n",
       "    }\n",
       "\n",
       "    .dataframe tbody tr th {\n",
       "        vertical-align: top;\n",
       "    }\n",
       "\n",
       "    .dataframe thead th {\n",
       "        text-align: right;\n",
       "    }\n",
       "</style>\n",
       "<table border=\"1\" class=\"dataframe\">\n",
       "  <thead>\n",
       "    <tr style=\"text-align: right;\">\n",
       "      <th></th>\n",
       "      <th>year</th>\n",
       "      <th>month</th>\n",
       "      <th>session_id</th>\n",
       "      <th>client_id</th>\n",
       "      <th>frequence_achat</th>\n",
       "    </tr>\n",
       "  </thead>\n",
       "  <tbody>\n",
       "    <tr>\n",
       "      <th>0</th>\n",
       "      <td>2021</td>\n",
       "      <td>3</td>\n",
       "      <td>28610</td>\n",
       "      <td>5676</td>\n",
       "      <td>5.040521</td>\n",
       "    </tr>\n",
       "    <tr>\n",
       "      <th>1</th>\n",
       "      <td>2021</td>\n",
       "      <td>4</td>\n",
       "      <td>28457</td>\n",
       "      <td>5674</td>\n",
       "      <td>5.015333</td>\n",
       "    </tr>\n",
       "    <tr>\n",
       "      <th>2</th>\n",
       "      <td>2021</td>\n",
       "      <td>5</td>\n",
       "      <td>28293</td>\n",
       "      <td>5644</td>\n",
       "      <td>5.012934</td>\n",
       "    </tr>\n",
       "    <tr>\n",
       "      <th>3</th>\n",
       "      <td>2021</td>\n",
       "      <td>6</td>\n",
       "      <td>26857</td>\n",
       "      <td>5659</td>\n",
       "      <td>4.745892</td>\n",
       "    </tr>\n",
       "    <tr>\n",
       "      <th>4</th>\n",
       "      <td>2021</td>\n",
       "      <td>7</td>\n",
       "      <td>24742</td>\n",
       "      <td>5672</td>\n",
       "      <td>4.362130</td>\n",
       "    </tr>\n",
       "    <tr>\n",
       "      <th>5</th>\n",
       "      <td>2021</td>\n",
       "      <td>8</td>\n",
       "      <td>25659</td>\n",
       "      <td>5642</td>\n",
       "      <td>4.547855</td>\n",
       "    </tr>\n",
       "    <tr>\n",
       "      <th>6</th>\n",
       "      <td>2021</td>\n",
       "      <td>9</td>\n",
       "      <td>33326</td>\n",
       "      <td>5693</td>\n",
       "      <td>5.853856</td>\n",
       "    </tr>\n",
       "    <tr>\n",
       "      <th>7</th>\n",
       "      <td>2021</td>\n",
       "      <td>10</td>\n",
       "      <td>21606</td>\n",
       "      <td>5094</td>\n",
       "      <td>4.241461</td>\n",
       "    </tr>\n",
       "    <tr>\n",
       "      <th>8</th>\n",
       "      <td>2021</td>\n",
       "      <td>11</td>\n",
       "      <td>28321</td>\n",
       "      <td>5875</td>\n",
       "      <td>4.820596</td>\n",
       "    </tr>\n",
       "    <tr>\n",
       "      <th>9</th>\n",
       "      <td>2021</td>\n",
       "      <td>12</td>\n",
       "      <td>32464</td>\n",
       "      <td>5867</td>\n",
       "      <td>5.533322</td>\n",
       "    </tr>\n",
       "    <tr>\n",
       "      <th>10</th>\n",
       "      <td>2022</td>\n",
       "      <td>1</td>\n",
       "      <td>29348</td>\n",
       "      <td>5809</td>\n",
       "      <td>5.052160</td>\n",
       "    </tr>\n",
       "    <tr>\n",
       "      <th>11</th>\n",
       "      <td>2022</td>\n",
       "      <td>2</td>\n",
       "      <td>29605</td>\n",
       "      <td>5729</td>\n",
       "      <td>5.167569</td>\n",
       "    </tr>\n",
       "    <tr>\n",
       "      <th>12</th>\n",
       "      <td>2022</td>\n",
       "      <td>3</td>\n",
       "      <td>29707</td>\n",
       "      <td>5835</td>\n",
       "      <td>5.091174</td>\n",
       "    </tr>\n",
       "    <tr>\n",
       "      <th>13</th>\n",
       "      <td>2022</td>\n",
       "      <td>4</td>\n",
       "      <td>27616</td>\n",
       "      <td>5695</td>\n",
       "      <td>4.849166</td>\n",
       "    </tr>\n",
       "    <tr>\n",
       "      <th>14</th>\n",
       "      <td>2022</td>\n",
       "      <td>5</td>\n",
       "      <td>29991</td>\n",
       "      <td>5845</td>\n",
       "      <td>5.131052</td>\n",
       "    </tr>\n",
       "    <tr>\n",
       "      <th>15</th>\n",
       "      <td>2022</td>\n",
       "      <td>6</td>\n",
       "      <td>28511</td>\n",
       "      <td>5717</td>\n",
       "      <td>4.987056</td>\n",
       "    </tr>\n",
       "    <tr>\n",
       "      <th>16</th>\n",
       "      <td>2022</td>\n",
       "      <td>7</td>\n",
       "      <td>28682</td>\n",
       "      <td>5779</td>\n",
       "      <td>4.963142</td>\n",
       "    </tr>\n",
       "    <tr>\n",
       "      <th>17</th>\n",
       "      <td>2022</td>\n",
       "      <td>8</td>\n",
       "      <td>28552</td>\n",
       "      <td>5805</td>\n",
       "      <td>4.918519</td>\n",
       "    </tr>\n",
       "    <tr>\n",
       "      <th>18</th>\n",
       "      <td>2022</td>\n",
       "      <td>9</td>\n",
       "      <td>28315</td>\n",
       "      <td>5738</td>\n",
       "      <td>4.934646</td>\n",
       "    </tr>\n",
       "    <tr>\n",
       "      <th>19</th>\n",
       "      <td>2022</td>\n",
       "      <td>10</td>\n",
       "      <td>28974</td>\n",
       "      <td>5755</td>\n",
       "      <td>5.034579</td>\n",
       "    </tr>\n",
       "    <tr>\n",
       "      <th>20</th>\n",
       "      <td>2022</td>\n",
       "      <td>11</td>\n",
       "      <td>28574</td>\n",
       "      <td>5749</td>\n",
       "      <td>4.970256</td>\n",
       "    </tr>\n",
       "    <tr>\n",
       "      <th>21</th>\n",
       "      <td>2022</td>\n",
       "      <td>12</td>\n",
       "      <td>28625</td>\n",
       "      <td>5766</td>\n",
       "      <td>4.964447</td>\n",
       "    </tr>\n",
       "    <tr>\n",
       "      <th>22</th>\n",
       "      <td>2023</td>\n",
       "      <td>1</td>\n",
       "      <td>28945</td>\n",
       "      <td>5828</td>\n",
       "      <td>4.966541</td>\n",
       "    </tr>\n",
       "    <tr>\n",
       "      <th>23</th>\n",
       "      <td>2023</td>\n",
       "      <td>2</td>\n",
       "      <td>25552</td>\n",
       "      <td>5588</td>\n",
       "      <td>4.572656</td>\n",
       "    </tr>\n",
       "  </tbody>\n",
       "</table>\n",
       "</div>"
      ],
      "text/plain": [
       "    year  month  session_id  client_id  frequence_achat\n",
       "0   2021      3       28610       5676         5.040521\n",
       "1   2021      4       28457       5674         5.015333\n",
       "2   2021      5       28293       5644         5.012934\n",
       "3   2021      6       26857       5659         4.745892\n",
       "4   2021      7       24742       5672         4.362130\n",
       "5   2021      8       25659       5642         4.547855\n",
       "6   2021      9       33326       5693         5.853856\n",
       "7   2021     10       21606       5094         4.241461\n",
       "8   2021     11       28321       5875         4.820596\n",
       "9   2021     12       32464       5867         5.533322\n",
       "10  2022      1       29348       5809         5.052160\n",
       "11  2022      2       29605       5729         5.167569\n",
       "12  2022      3       29707       5835         5.091174\n",
       "13  2022      4       27616       5695         4.849166\n",
       "14  2022      5       29991       5845         5.131052\n",
       "15  2022      6       28511       5717         4.987056\n",
       "16  2022      7       28682       5779         4.963142\n",
       "17  2022      8       28552       5805         4.918519\n",
       "18  2022      9       28315       5738         4.934646\n",
       "19  2022     10       28974       5755         5.034579\n",
       "20  2022     11       28574       5749         4.970256\n",
       "21  2022     12       28625       5766         4.964447\n",
       "22  2023      1       28945       5828         4.966541\n",
       "23  2023      2       25552       5588         4.572656"
      ]
     },
     "execution_count": 99,
     "metadata": {},
     "output_type": "execute_result"
    }
   ],
   "source": [
    "data_client"
   ]
  },
  {
   "cell_type": "code",
   "execution_count": 100,
   "metadata": {},
   "outputs": [
    {
     "data": {
      "text/html": [
       "<div>\n",
       "<style scoped>\n",
       "    .dataframe tbody tr th:only-of-type {\n",
       "        vertical-align: middle;\n",
       "    }\n",
       "\n",
       "    .dataframe tbody tr th {\n",
       "        vertical-align: top;\n",
       "    }\n",
       "\n",
       "    .dataframe thead th {\n",
       "        text-align: right;\n",
       "    }\n",
       "</style>\n",
       "<table border=\"1\" class=\"dataframe\">\n",
       "  <thead>\n",
       "    <tr style=\"text-align: right;\">\n",
       "      <th></th>\n",
       "      <th>year</th>\n",
       "      <th>month</th>\n",
       "      <th>session_id</th>\n",
       "      <th>client_id</th>\n",
       "      <th>frequence_achat</th>\n",
       "    </tr>\n",
       "  </thead>\n",
       "  <tbody>\n",
       "    <tr>\n",
       "      <th>count</th>\n",
       "      <td>24.000000</td>\n",
       "      <td>24.000000</td>\n",
       "      <td>24.000000</td>\n",
       "      <td>24.000000</td>\n",
       "      <td>24.000000</td>\n",
       "    </tr>\n",
       "    <tr>\n",
       "      <th>mean</th>\n",
       "      <td>2021.666667</td>\n",
       "      <td>6.500000</td>\n",
       "      <td>28305.500000</td>\n",
       "      <td>5713.916667</td>\n",
       "      <td>4.949036</td>\n",
       "    </tr>\n",
       "    <tr>\n",
       "      <th>std</th>\n",
       "      <td>0.637022</td>\n",
       "      <td>3.526299</td>\n",
       "      <td>2342.529384</td>\n",
       "      <td>153.378451</td>\n",
       "      <td>0.330693</td>\n",
       "    </tr>\n",
       "    <tr>\n",
       "      <th>min</th>\n",
       "      <td>2021.000000</td>\n",
       "      <td>1.000000</td>\n",
       "      <td>21606.000000</td>\n",
       "      <td>5094.000000</td>\n",
       "      <td>4.241461</td>\n",
       "    </tr>\n",
       "    <tr>\n",
       "      <th>25%</th>\n",
       "      <td>2021.000000</td>\n",
       "      <td>3.750000</td>\n",
       "      <td>28123.750000</td>\n",
       "      <td>5673.500000</td>\n",
       "      <td>4.842023</td>\n",
       "    </tr>\n",
       "    <tr>\n",
       "      <th>50%</th>\n",
       "      <td>2022.000000</td>\n",
       "      <td>6.500000</td>\n",
       "      <td>28563.000000</td>\n",
       "      <td>5733.500000</td>\n",
       "      <td>4.968398</td>\n",
       "    </tr>\n",
       "    <tr>\n",
       "      <th>75%</th>\n",
       "      <td>2022.000000</td>\n",
       "      <td>9.250000</td>\n",
       "      <td>29067.500000</td>\n",
       "      <td>5806.000000</td>\n",
       "      <td>5.043431</td>\n",
       "    </tr>\n",
       "    <tr>\n",
       "      <th>max</th>\n",
       "      <td>2023.000000</td>\n",
       "      <td>12.000000</td>\n",
       "      <td>33326.000000</td>\n",
       "      <td>5875.000000</td>\n",
       "      <td>5.853856</td>\n",
       "    </tr>\n",
       "  </tbody>\n",
       "</table>\n",
       "</div>"
      ],
      "text/plain": [
       "              year      month    session_id    client_id  frequence_achat\n",
       "count    24.000000  24.000000     24.000000    24.000000        24.000000\n",
       "mean   2021.666667   6.500000  28305.500000  5713.916667         4.949036\n",
       "std       0.637022   3.526299   2342.529384   153.378451         0.330693\n",
       "min    2021.000000   1.000000  21606.000000  5094.000000         4.241461\n",
       "25%    2021.000000   3.750000  28123.750000  5673.500000         4.842023\n",
       "50%    2022.000000   6.500000  28563.000000  5733.500000         4.968398\n",
       "75%    2022.000000   9.250000  29067.500000  5806.000000         5.043431\n",
       "max    2023.000000  12.000000  33326.000000  5875.000000         5.853856"
      ]
     },
     "execution_count": 100,
     "metadata": {},
     "output_type": "execute_result"
    }
   ],
   "source": [
    "data_client.describe()"
   ]
  },
  {
   "cell_type": "markdown",
   "metadata": {},
   "source": [
    "**Conclusion:** En moyenne, les clients effectuent **5 commandes par mois**."
   ]
  },
  {
   "cell_type": "markdown",
   "metadata": {},
   "source": [
    "### Etude des correlations"
   ]
  },
  {
   "cell_type": "code",
   "execution_count": 101,
   "metadata": {},
   "outputs": [
    {
     "data": {
      "text/html": [
       "<div>\n",
       "<style scoped>\n",
       "    .dataframe tbody tr th:only-of-type {\n",
       "        vertical-align: middle;\n",
       "    }\n",
       "\n",
       "    .dataframe tbody tr th {\n",
       "        vertical-align: top;\n",
       "    }\n",
       "\n",
       "    .dataframe thead th {\n",
       "        text-align: right;\n",
       "    }\n",
       "</style>\n",
       "<table border=\"1\" class=\"dataframe\">\n",
       "  <thead>\n",
       "    <tr style=\"text-align: right;\">\n",
       "      <th></th>\n",
       "      <th>price</th>\n",
       "      <th>categ</th>\n",
       "      <th>birth</th>\n",
       "      <th>age</th>\n",
       "      <th>year</th>\n",
       "      <th>month</th>\n",
       "    </tr>\n",
       "  </thead>\n",
       "  <tbody>\n",
       "    <tr>\n",
       "      <th>price</th>\n",
       "      <td>1.000000</td>\n",
       "      <td>0.671767</td>\n",
       "      <td>0.209439</td>\n",
       "      <td>-0.209439</td>\n",
       "      <td>0.014198</td>\n",
       "      <td>-0.012301</td>\n",
       "    </tr>\n",
       "    <tr>\n",
       "      <th>categ</th>\n",
       "      <td>0.671767</td>\n",
       "      <td>1.000000</td>\n",
       "      <td>0.099222</td>\n",
       "      <td>-0.099222</td>\n",
       "      <td>0.033494</td>\n",
       "      <td>-0.019239</td>\n",
       "    </tr>\n",
       "    <tr>\n",
       "      <th>birth</th>\n",
       "      <td>0.209439</td>\n",
       "      <td>0.099222</td>\n",
       "      <td>1.000000</td>\n",
       "      <td>-1.000000</td>\n",
       "      <td>-0.002629</td>\n",
       "      <td>-0.002310</td>\n",
       "    </tr>\n",
       "    <tr>\n",
       "      <th>age</th>\n",
       "      <td>-0.209439</td>\n",
       "      <td>-0.099222</td>\n",
       "      <td>-1.000000</td>\n",
       "      <td>1.000000</td>\n",
       "      <td>0.002629</td>\n",
       "      <td>0.002310</td>\n",
       "    </tr>\n",
       "    <tr>\n",
       "      <th>year</th>\n",
       "      <td>0.014198</td>\n",
       "      <td>0.033494</td>\n",
       "      <td>-0.002629</td>\n",
       "      <td>0.002629</td>\n",
       "      <td>1.000000</td>\n",
       "      <td>-0.384767</td>\n",
       "    </tr>\n",
       "    <tr>\n",
       "      <th>month</th>\n",
       "      <td>-0.012301</td>\n",
       "      <td>-0.019239</td>\n",
       "      <td>-0.002310</td>\n",
       "      <td>0.002310</td>\n",
       "      <td>-0.384767</td>\n",
       "      <td>1.000000</td>\n",
       "    </tr>\n",
       "  </tbody>\n",
       "</table>\n",
       "</div>"
      ],
      "text/plain": [
       "          price     categ     birth       age      year     month\n",
       "price  1.000000  0.671767  0.209439 -0.209439  0.014198 -0.012301\n",
       "categ  0.671767  1.000000  0.099222 -0.099222  0.033494 -0.019239\n",
       "birth  0.209439  0.099222  1.000000 -1.000000 -0.002629 -0.002310\n",
       "age   -0.209439 -0.099222 -1.000000  1.000000  0.002629  0.002310\n",
       "year   0.014198  0.033494 -0.002629  0.002629  1.000000 -0.384767\n",
       "month -0.012301 -0.019239 -0.002310  0.002310 -0.384767  1.000000"
      ]
     },
     "execution_count": 101,
     "metadata": {},
     "output_type": "execute_result"
    }
   ],
   "source": [
    "transaction_df.corr()"
   ]
  },
  {
   "cell_type": "code",
   "execution_count": 102,
   "metadata": {},
   "outputs": [
    {
     "data": {
      "text/plain": [
       "<matplotlib.axes._subplots.AxesSubplot at 0x7f06888f6950>"
      ]
     },
     "execution_count": 102,
     "metadata": {},
     "output_type": "execute_result"
    },
    {
     "data": {
      "image/png": "[encoded data removed]",
      "text/plain": [
       "<Figure size 432x288 with 2 Axes>"
      ]
     },
     "metadata": {
      "needs_background": "light"
     },
     "output_type": "display_data"
    }
   ],
   "source": [
    "sns.heatmap(transaction_df.corr(), annot=True)"
   ]
  },
  {
   "cell_type": "markdown",
   "metadata": {},
   "source": [
    "**Conclusion:** Il esixte une correlation positive entre la catégorie et le prix des produits"
   ]
  },
  {
   "cell_type": "markdown",
   "metadata": {},
   "source": [
    "### Le lien entre le genre d’un client et les catégories des livres achetés"
   ]
  },
  {
   "cell_type": "code",
   "execution_count": 103,
   "metadata": {},
   "outputs": [
    {
     "data": {
      "text/html": [
       "<div>\n",
       "<style scoped>\n",
       "    .dataframe tbody tr th:only-of-type {\n",
       "        vertical-align: middle;\n",
       "    }\n",
       "\n",
       "    .dataframe tbody tr th {\n",
       "        vertical-align: top;\n",
       "    }\n",
       "\n",
       "    .dataframe thead th {\n",
       "        text-align: right;\n",
       "    }\n",
       "</style>\n",
       "<table border=\"1\" class=\"dataframe\">\n",
       "  <thead>\n",
       "    <tr style=\"text-align: right;\">\n",
       "      <th>categ</th>\n",
       "      <th>0.0</th>\n",
       "      <th>1.0</th>\n",
       "      <th>2.0</th>\n",
       "      <th>Total</th>\n",
       "    </tr>\n",
       "    <tr>\n",
       "      <th>sex</th>\n",
       "      <th></th>\n",
       "      <th></th>\n",
       "      <th></th>\n",
       "      <th></th>\n",
       "    </tr>\n",
       "  </thead>\n",
       "  <tbody>\n",
       "    <tr>\n",
       "      <th>f</th>\n",
       "      <td>206220</td>\n",
       "      <td>114899</td>\n",
       "      <td>17283</td>\n",
       "      <td>338402</td>\n",
       "    </tr>\n",
       "    <tr>\n",
       "      <th>m</th>\n",
       "      <td>209460</td>\n",
       "      <td>112270</td>\n",
       "      <td>19200</td>\n",
       "      <td>340930</td>\n",
       "    </tr>\n",
       "    <tr>\n",
       "      <th>Total</th>\n",
       "      <td>415680</td>\n",
       "      <td>227169</td>\n",
       "      <td>36483</td>\n",
       "      <td>679332</td>\n",
       "    </tr>\n",
       "  </tbody>\n",
       "</table>\n",
       "</div>"
      ],
      "text/plain": [
       "categ     0.0     1.0    2.0   Total\n",
       "sex                                 \n",
       "f      206220  114899  17283  338402\n",
       "m      209460  112270  19200  340930\n",
       "Total  415680  227169  36483  679332"
      ]
     },
     "execution_count": 103,
     "metadata": {},
     "output_type": "execute_result"
    }
   ],
   "source": [
    "X='sex'\n",
    "Y='categ'\n",
    "\n",
    "cont = transaction_df[[X,Y]].pivot_table(index=X, columns=Y, aggfunc=len, margins=True, margins_name='Total')\n",
    "cont"
   ]
  },
  {
   "cell_type": "markdown",
   "metadata": {},
   "source": [
    "- **Les effectifs observés de Sex f** sont  de 206 220 (categ 0.0), 114 899 (categ 1.0)et 17 283 (categ 2.0) et **sa distribution conditionnelle obervée** est de 338 402.\n",
    "- **Les effectifs observés de Sex m** effectifs sont de 209 460 (categ 0.0), 112 270 (categ 1.0) et 19 200 (categ 2.0) et **sa distribution conditionnelle obervée** est de 340 930 "
   ]
  },
  {
   "cell_type": "markdown",
   "metadata": {},
   "source": [
    "* Visualisation du tableau de contingence"
   ]
  },
  {
   "cell_type": "code",
   "execution_count": 104,
   "metadata": {},
   "outputs": [
    {
     "data": {
      "image/png": "[encoded data removed]",
      "text/plain": [
       "<Figure size 432x288 with 2 Axes>"
      ]
     },
     "metadata": {
      "needs_background": "light"
     },
     "output_type": "display_data"
    }
   ],
   "source": [
    "tx = cont.loc[:,['Total']]\n",
    "ty = cont.loc[['Total'],:]\n",
    "n = len(transaction_df)\n",
    "indep = tx.dot(ty) / n\n",
    "c = cont.fillna(0)\n",
    "measure = (c-indep)**2 / indep\n",
    "xi_n = measure.sum().sum()\n",
    "table = measure / xi_n\n",
    "sns.heatmap(table.iloc[:-1,:-1], annot=c.iloc[:-1,:-1])\n",
    "plt.show()"
   ]
  },
  {
   "cell_type": "markdown",
   "metadata": {},
   "source": [
    "**Conclusion**: Les produits des categ 0.0 et 1.0 sont achetés par les clients de tout genre. Les produits de catégorie 2.0 par contre sont plus achetés par les clients de sex masculin."
   ]
  },
  {
   "cell_type": "markdown",
   "metadata": {},
   "source": [
    "### Le test de Chi-2 "
   ]
  },
  {
   "cell_type": "markdown",
   "metadata": {},
   "source": [
    "Nous avons deux variables qualitatives:\n",
    "\n",
    "- **le sexe d'un client** (2 modalités): m et f\n",
    "- **les categoeries des livres** (3 modalités): 0.0;1.0 et 2.0"
   ]
  },
  {
   "cell_type": "markdown",
   "metadata": {},
   "source": [
    "Le test de khi2 s'applique à partir du tableau de contingence qui permet de croiser les modalités des deux variables qualitatives. "
   ]
  },
  {
   "cell_type": "markdown",
   "metadata": {},
   "source": [
    "**soit l'hypothèse H0: Le genre des clients depend des catégories de livres achetés.**"
   ]
  },
  {
   "cell_type": "markdown",
   "metadata": {},
   "source": [
    "* Calcul des effectifs observés"
   ]
  },
  {
   "cell_type": "code",
   "execution_count": null,
   "metadata": {},
   "outputs": [],
   "source": []
  },
  {
   "cell_type": "code",
   "execution_count": null,
   "metadata": {},
   "outputs": [],
   "source": []
  },
  {
   "cell_type": "code",
   "execution_count": 105,
   "metadata": {},
   "outputs": [
    {
     "data": {
      "text/html": [
       "<div>\n",
       "<style scoped>\n",
       "    .dataframe tbody tr th:only-of-type {\n",
       "        vertical-align: middle;\n",
       "    }\n",
       "\n",
       "    .dataframe tbody tr th {\n",
       "        vertical-align: top;\n",
       "    }\n",
       "\n",
       "    .dataframe thead th {\n",
       "        text-align: right;\n",
       "    }\n",
       "</style>\n",
       "<table border=\"1\" class=\"dataframe\">\n",
       "  <thead>\n",
       "    <tr style=\"text-align: right;\">\n",
       "      <th>categ</th>\n",
       "      <th>0.0</th>\n",
       "      <th>1.0</th>\n",
       "      <th>2.0</th>\n",
       "      <th>Total</th>\n",
       "    </tr>\n",
       "    <tr>\n",
       "      <th>sex</th>\n",
       "      <th></th>\n",
       "      <th></th>\n",
       "      <th></th>\n",
       "      <th></th>\n",
       "    </tr>\n",
       "  </thead>\n",
       "  <tbody>\n",
       "    <tr>\n",
       "      <th>f</th>\n",
       "      <td>206220</td>\n",
       "      <td>114899</td>\n",
       "      <td>17283</td>\n",
       "      <td>338402</td>\n",
       "    </tr>\n",
       "    <tr>\n",
       "      <th>m</th>\n",
       "      <td>209460</td>\n",
       "      <td>112270</td>\n",
       "      <td>19200</td>\n",
       "      <td>340930</td>\n",
       "    </tr>\n",
       "    <tr>\n",
       "      <th>Total</th>\n",
       "      <td>415680</td>\n",
       "      <td>227169</td>\n",
       "      <td>36483</td>\n",
       "      <td>679332</td>\n",
       "    </tr>\n",
       "  </tbody>\n",
       "</table>\n",
       "</div>"
      ],
      "text/plain": [
       "categ     0.0     1.0    2.0   Total\n",
       "sex                                 \n",
       "f      206220  114899  17283  338402\n",
       "m      209460  112270  19200  340930\n",
       "Total  415680  227169  36483  679332"
      ]
     },
     "execution_count": 105,
     "metadata": {},
     "output_type": "execute_result"
    }
   ],
   "source": [
    "obs = cont\n",
    "obs"
   ]
  },
  {
   "cell_type": "markdown",
   "metadata": {},
   "source": [
    "* La population "
   ]
  },
  {
   "cell_type": "code",
   "execution_count": 106,
   "metadata": {},
   "outputs": [
    {
     "data": {
      "text/plain": [
       "679332"
      ]
     },
     "execution_count": 106,
     "metadata": {},
     "output_type": "execute_result"
    }
   ],
   "source": [
    "n = len(transaction_df)\n",
    "n"
   ]
  },
  {
   "cell_type": "markdown",
   "metadata": {},
   "source": [
    "* Calcul des effectifs attendus "
   ]
  },
  {
   "cell_type": "code",
   "execution_count": 107,
   "metadata": {},
   "outputs": [],
   "source": [
    "indep = tx.dot(ty) / len(transaction_df)"
   ]
  },
  {
   "cell_type": "code",
   "execution_count": 108,
   "metadata": {},
   "outputs": [
    {
     "data": {
      "text/html": [
       "<div>\n",
       "<style scoped>\n",
       "    .dataframe tbody tr th:only-of-type {\n",
       "        vertical-align: middle;\n",
       "    }\n",
       "\n",
       "    .dataframe tbody tr th {\n",
       "        vertical-align: top;\n",
       "    }\n",
       "\n",
       "    .dataframe thead th {\n",
       "        text-align: right;\n",
       "    }\n",
       "</style>\n",
       "<table border=\"1\" class=\"dataframe\">\n",
       "  <thead>\n",
       "    <tr style=\"text-align: right;\">\n",
       "      <th>categ</th>\n",
       "      <th>0.0</th>\n",
       "      <th>1.0</th>\n",
       "      <th>2.0</th>\n",
       "      <th>Total</th>\n",
       "    </tr>\n",
       "    <tr>\n",
       "      <th>sex</th>\n",
       "      <th></th>\n",
       "      <th></th>\n",
       "      <th></th>\n",
       "      <th></th>\n",
       "    </tr>\n",
       "  </thead>\n",
       "  <tbody>\n",
       "    <tr>\n",
       "      <th>f</th>\n",
       "      <td>207066.564449</td>\n",
       "      <td>113161.817694</td>\n",
       "      <td>18173.617857</td>\n",
       "      <td>338402.0</td>\n",
       "    </tr>\n",
       "    <tr>\n",
       "      <th>m</th>\n",
       "      <td>208613.435551</td>\n",
       "      <td>114007.182306</td>\n",
       "      <td>18309.382143</td>\n",
       "      <td>340930.0</td>\n",
       "    </tr>\n",
       "    <tr>\n",
       "      <th>Total</th>\n",
       "      <td>415680.000000</td>\n",
       "      <td>227169.000000</td>\n",
       "      <td>36483.000000</td>\n",
       "      <td>679332.0</td>\n",
       "    </tr>\n",
       "  </tbody>\n",
       "</table>\n",
       "</div>"
      ],
      "text/plain": [
       "categ            0.0            1.0           2.0     Total\n",
       "sex                                                        \n",
       "f      207066.564449  113161.817694  18173.617857  338402.0\n",
       "m      208613.435551  114007.182306  18309.382143  340930.0\n",
       "Total  415680.000000  227169.000000  36483.000000  679332.0"
      ]
     },
     "execution_count": 108,
     "metadata": {},
     "output_type": "execute_result"
    }
   ],
   "source": [
    "indep"
   ]
  },
  {
   "cell_type": "markdown",
   "metadata": {},
   "source": [
    "* Calcul de la mesure des écarts"
   ]
  },
  {
   "cell_type": "code",
   "execution_count": 109,
   "metadata": {},
   "outputs": [
    {
     "data": {
      "text/html": [
       "<div>\n",
       "<style scoped>\n",
       "    .dataframe tbody tr th:only-of-type {\n",
       "        vertical-align: middle;\n",
       "    }\n",
       "\n",
       "    .dataframe tbody tr th {\n",
       "        vertical-align: top;\n",
       "    }\n",
       "\n",
       "    .dataframe thead th {\n",
       "        text-align: right;\n",
       "    }\n",
       "</style>\n",
       "<table border=\"1\" class=\"dataframe\">\n",
       "  <thead>\n",
       "    <tr style=\"text-align: right;\">\n",
       "      <th>categ</th>\n",
       "      <th>0.0</th>\n",
       "      <th>1.0</th>\n",
       "      <th>2.0</th>\n",
       "      <th>Total</th>\n",
       "    </tr>\n",
       "    <tr>\n",
       "      <th>sex</th>\n",
       "      <th></th>\n",
       "      <th></th>\n",
       "      <th></th>\n",
       "      <th></th>\n",
       "    </tr>\n",
       "  </thead>\n",
       "  <tbody>\n",
       "    <tr>\n",
       "      <th>f</th>\n",
       "      <td>3.461068</td>\n",
       "      <td>26.668027</td>\n",
       "      <td>43.645694</td>\n",
       "      <td>0.0</td>\n",
       "    </tr>\n",
       "    <tr>\n",
       "      <th>m</th>\n",
       "      <td>3.435404</td>\n",
       "      <td>26.470283</td>\n",
       "      <td>43.322061</td>\n",
       "      <td>0.0</td>\n",
       "    </tr>\n",
       "    <tr>\n",
       "      <th>Total</th>\n",
       "      <td>0.000000</td>\n",
       "      <td>0.000000</td>\n",
       "      <td>0.000000</td>\n",
       "      <td>0.0</td>\n",
       "    </tr>\n",
       "  </tbody>\n",
       "</table>\n",
       "</div>"
      ],
      "text/plain": [
       "categ       0.0        1.0        2.0  Total\n",
       "sex                                         \n",
       "f      3.461068  26.668027  43.645694    0.0\n",
       "m      3.435404  26.470283  43.322061    0.0\n",
       "Total  0.000000   0.000000   0.000000    0.0"
      ]
     },
     "execution_count": 109,
     "metadata": {},
     "output_type": "execute_result"
    }
   ],
   "source": [
    "measure = (cont-indep)**2 / indep\n",
    "measure"
   ]
  },
  {
   "cell_type": "markdown",
   "metadata": {},
   "source": [
    "* Calcu de la statistique du khi2 "
   ]
  },
  {
   "cell_type": "code",
   "execution_count": 110,
   "metadata": {},
   "outputs": [
    {
     "name": "stdout",
     "output_type": "stream",
     "text": [
      "Le chi2 statistique est de:\n"
     ]
    },
    {
     "data": {
      "text/plain": [
       "147.00253568681114"
      ]
     },
     "execution_count": 110,
     "metadata": {},
     "output_type": "execute_result"
    }
   ],
   "source": [
    "chi_square_stat = measure.sum().sum()\n",
    "print(f\"Le chi2 statistique est de:\")\n",
    "chi_square_stat"
   ]
  },
  {
   "cell_type": "markdown",
   "metadata": {},
   "source": [
    "* Calcul des fréquences attendus "
   ]
  },
  {
   "cell_type": "code",
   "execution_count": 111,
   "metadata": {},
   "outputs": [
    {
     "data": {
      "text/html": [
       "<div>\n",
       "<style scoped>\n",
       "    .dataframe tbody tr th:only-of-type {\n",
       "        vertical-align: middle;\n",
       "    }\n",
       "\n",
       "    .dataframe tbody tr th {\n",
       "        vertical-align: top;\n",
       "    }\n",
       "\n",
       "    .dataframe thead th {\n",
       "        text-align: right;\n",
       "    }\n",
       "</style>\n",
       "<table border=\"1\" class=\"dataframe\">\n",
       "  <thead>\n",
       "    <tr style=\"text-align: right;\">\n",
       "      <th>categ</th>\n",
       "      <th>0.0</th>\n",
       "      <th>1.0</th>\n",
       "      <th>2.0</th>\n",
       "      <th>Total</th>\n",
       "    </tr>\n",
       "    <tr>\n",
       "      <th>sex</th>\n",
       "      <th></th>\n",
       "      <th></th>\n",
       "      <th></th>\n",
       "      <th></th>\n",
       "    </tr>\n",
       "  </thead>\n",
       "  <tbody>\n",
       "    <tr>\n",
       "      <th>f</th>\n",
       "      <td>0.023544</td>\n",
       "      <td>0.181412</td>\n",
       "      <td>0.296904</td>\n",
       "      <td>0.0</td>\n",
       "    </tr>\n",
       "    <tr>\n",
       "      <th>m</th>\n",
       "      <td>0.023370</td>\n",
       "      <td>0.180067</td>\n",
       "      <td>0.294703</td>\n",
       "      <td>0.0</td>\n",
       "    </tr>\n",
       "    <tr>\n",
       "      <th>Total</th>\n",
       "      <td>0.000000</td>\n",
       "      <td>0.000000</td>\n",
       "      <td>0.000000</td>\n",
       "      <td>0.0</td>\n",
       "    </tr>\n",
       "  </tbody>\n",
       "</table>\n",
       "</div>"
      ],
      "text/plain": [
       "categ       0.0       1.0       2.0  Total\n",
       "sex                                       \n",
       "f      0.023544  0.181412  0.296904    0.0\n",
       "m      0.023370  0.180067  0.294703    0.0\n",
       "Total  0.000000  0.000000  0.000000    0.0"
      ]
     },
     "execution_count": 111,
     "metadata": {},
     "output_type": "execute_result"
    }
   ],
   "source": [
    "table = measure /chi_square_stat\n",
    "table"
   ]
  },
  {
   "cell_type": "markdown",
   "metadata": {},
   "source": [
    "* Le seuil critique "
   ]
  },
  {
   "cell_type": "code",
   "execution_count": 112,
   "metadata": {},
   "outputs": [
    {
     "name": "stdout",
     "output_type": "stream",
     "text": [
      "critical value\n",
      "5.991464547107979\n",
      "p_value\n",
      "0.0\n"
     ]
    }
   ],
   "source": [
    "from scipy.stats import chi2\n",
    "crit = st.chi2.ppf(q = 0.95, # valeur critique de 95% de confiance\n",
    "                df = 2) # DF = (2-1)*(3-1) = 2)\n",
    "print('critical value')\n",
    "print(crit)\n",
    "\n",
    "p_value = 1-st.chi2.cdf(x = chi_square_stat, #find the p_value\n",
    "                       df = 2)\n",
    "print('p_value')\n",
    "print(p_value)"
   ]
  },
  {
   "cell_type": "markdown",
   "metadata": {},
   "source": [
    "####  Autre méthode de calcul du chi2 avec **Scipy**"
   ]
  },
  {
   "cell_type": "code",
   "execution_count": 113,
   "metadata": {},
   "outputs": [],
   "source": [
    "df1 = transaction_df['categ']\n",
    "df2 = transaction_df['sex']"
   ]
  },
  {
   "cell_type": "code",
   "execution_count": 114,
   "metadata": {},
   "outputs": [
    {
     "data": {
      "text/html": [
       "<div>\n",
       "<style scoped>\n",
       "    .dataframe tbody tr th:only-of-type {\n",
       "        vertical-align: middle;\n",
       "    }\n",
       "\n",
       "    .dataframe tbody tr th {\n",
       "        vertical-align: top;\n",
       "    }\n",
       "\n",
       "    .dataframe thead th {\n",
       "        text-align: right;\n",
       "    }\n",
       "</style>\n",
       "<table border=\"1\" class=\"dataframe\">\n",
       "  <thead>\n",
       "    <tr style=\"text-align: right;\">\n",
       "      <th>categ</th>\n",
       "      <th>0.0</th>\n",
       "      <th>1.0</th>\n",
       "      <th>2.0</th>\n",
       "    </tr>\n",
       "    <tr>\n",
       "      <th>sex</th>\n",
       "      <th></th>\n",
       "      <th></th>\n",
       "      <th></th>\n",
       "    </tr>\n",
       "  </thead>\n",
       "  <tbody>\n",
       "    <tr>\n",
       "      <th>f</th>\n",
       "      <td>206220</td>\n",
       "      <td>114899</td>\n",
       "      <td>17283</td>\n",
       "    </tr>\n",
       "    <tr>\n",
       "      <th>m</th>\n",
       "      <td>209460</td>\n",
       "      <td>112270</td>\n",
       "      <td>19200</td>\n",
       "    </tr>\n",
       "  </tbody>\n",
       "</table>\n",
       "</div>"
      ],
      "text/plain": [
       "categ     0.0     1.0    2.0\n",
       "sex                         \n",
       "f      206220  114899  17283\n",
       "m      209460  112270  19200"
      ]
     },
     "execution_count": 114,
     "metadata": {},
     "output_type": "execute_result"
    }
   ],
   "source": [
    "tab_cont = pd.crosstab(df2,df1)\n",
    "tab_cont"
   ]
  },
  {
   "cell_type": "code",
   "execution_count": 115,
   "metadata": {},
   "outputs": [
    {
     "data": {
      "text/plain": [
       "(147.00253568681114,\n",
       " 1.1989607410166063e-32,\n",
       " 2,\n",
       " array([[207066.56444861, 113161.81769444,  18173.61785695],\n",
       "        [208613.43555139, 114007.18230556,  18309.38214305]]))"
      ]
     },
     "execution_count": 115,
     "metadata": {},
     "output_type": "execute_result"
    }
   ],
   "source": [
    "from scipy.stats import chi2_contingency\n",
    "\n",
    "chi2, p_value, df, indep = chi2_contingency(tab_cont)\n",
    "chi2, p_value, df, indep"
   ]
  },
  {
   "cell_type": "markdown",
   "metadata": {},
   "source": [
    "- La ligne 1 est la valeur du chi2 = 147.0025, \n",
    "- La ligne 2 celle de la p_value=1.1989607410166063e-32. On parle de **significativité** si la valeur de la pvalue est inférieur à 0.05 \n",
    "- La ligne 3 est le degré de liberté df = 2. \n",
    "- La ligne 4 correspond au valeurs attendues.  "
   ]
  },
  {
   "cell_type": "markdown",
   "metadata": {},
   "source": [
    "**Conclusion:** Le chi2 statistique est supérieure à la valeur critique donc l'hypothèse H0 est rejetée.Il exite un indépendance significative entre les deux variables."
   ]
  },
  {
   "cell_type": "markdown",
   "metadata": {},
   "source": [
    "### Repartition des catégories des produits en fonction l'age des clients"
   ]
  },
  {
   "cell_type": "code",
   "execution_count": 116,
   "metadata": {},
   "outputs": [
    {
     "data": {
      "text/html": [
       "<div>\n",
       "<style scoped>\n",
       "    .dataframe tbody tr th:only-of-type {\n",
       "        vertical-align: middle;\n",
       "    }\n",
       "\n",
       "    .dataframe tbody tr th {\n",
       "        vertical-align: top;\n",
       "    }\n",
       "\n",
       "    .dataframe thead th {\n",
       "        text-align: right;\n",
       "    }\n",
       "</style>\n",
       "<table border=\"1\" class=\"dataframe\">\n",
       "  <thead>\n",
       "    <tr style=\"text-align: right;\">\n",
       "      <th></th>\n",
       "      <th>id_prod</th>\n",
       "      <th>session_id</th>\n",
       "      <th>client_id</th>\n",
       "      <th>price</th>\n",
       "      <th>categ</th>\n",
       "      <th>sex</th>\n",
       "      <th>birth</th>\n",
       "      <th>age</th>\n",
       "      <th>year</th>\n",
       "      <th>month</th>\n",
       "    </tr>\n",
       "    <tr>\n",
       "      <th>date</th>\n",
       "      <th></th>\n",
       "      <th></th>\n",
       "      <th></th>\n",
       "      <th></th>\n",
       "      <th></th>\n",
       "      <th></th>\n",
       "      <th></th>\n",
       "      <th></th>\n",
       "      <th></th>\n",
       "      <th></th>\n",
       "    </tr>\n",
       "  </thead>\n",
       "  <tbody>\n",
       "    <tr>\n",
       "      <th>2021-03-01 00:01:07.843138</th>\n",
       "      <td>0_1259</td>\n",
       "      <td>s_1</td>\n",
       "      <td>c_329</td>\n",
       "      <td>11.99</td>\n",
       "      <td>0.0</td>\n",
       "      <td>f</td>\n",
       "      <td>1967</td>\n",
       "      <td>54</td>\n",
       "      <td>2021</td>\n",
       "      <td>3</td>\n",
       "    </tr>\n",
       "    <tr>\n",
       "      <th>2021-03-01 00:02:26.047414</th>\n",
       "      <td>0_1390</td>\n",
       "      <td>s_2</td>\n",
       "      <td>c_664</td>\n",
       "      <td>19.37</td>\n",
       "      <td>0.0</td>\n",
       "      <td>m</td>\n",
       "      <td>1960</td>\n",
       "      <td>61</td>\n",
       "      <td>2021</td>\n",
       "      <td>3</td>\n",
       "    </tr>\n",
       "    <tr>\n",
       "      <th>2021-03-01 00:02:38.311413</th>\n",
       "      <td>0_1352</td>\n",
       "      <td>s_3</td>\n",
       "      <td>c_580</td>\n",
       "      <td>4.50</td>\n",
       "      <td>0.0</td>\n",
       "      <td>m</td>\n",
       "      <td>1988</td>\n",
       "      <td>33</td>\n",
       "      <td>2021</td>\n",
       "      <td>3</td>\n",
       "    </tr>\n",
       "    <tr>\n",
       "      <th>2021-03-01 00:04:54.559692</th>\n",
       "      <td>0_1458</td>\n",
       "      <td>s_4</td>\n",
       "      <td>c_7912</td>\n",
       "      <td>6.55</td>\n",
       "      <td>0.0</td>\n",
       "      <td>f</td>\n",
       "      <td>1989</td>\n",
       "      <td>32</td>\n",
       "      <td>2021</td>\n",
       "      <td>3</td>\n",
       "    </tr>\n",
       "    <tr>\n",
       "      <th>2021-03-01 00:05:18.801198</th>\n",
       "      <td>0_1358</td>\n",
       "      <td>s_5</td>\n",
       "      <td>c_2033</td>\n",
       "      <td>16.49</td>\n",
       "      <td>0.0</td>\n",
       "      <td>f</td>\n",
       "      <td>1956</td>\n",
       "      <td>65</td>\n",
       "      <td>2021</td>\n",
       "      <td>3</td>\n",
       "    </tr>\n",
       "  </tbody>\n",
       "</table>\n",
       "</div>"
      ],
      "text/plain": [
       "                           id_prod session_id client_id  price  categ sex  \\\n",
       "date                                                                        \n",
       "2021-03-01 00:01:07.843138  0_1259        s_1     c_329  11.99    0.0   f   \n",
       "2021-03-01 00:02:26.047414  0_1390        s_2     c_664  19.37    0.0   m   \n",
       "2021-03-01 00:02:38.311413  0_1352        s_3     c_580   4.50    0.0   m   \n",
       "2021-03-01 00:04:54.559692  0_1458        s_4    c_7912   6.55    0.0   f   \n",
       "2021-03-01 00:05:18.801198  0_1358        s_5    c_2033  16.49    0.0   f   \n",
       "\n",
       "                            birth  age  year  month  \n",
       "date                                                 \n",
       "2021-03-01 00:01:07.843138   1967   54  2021      3  \n",
       "2021-03-01 00:02:26.047414   1960   61  2021      3  \n",
       "2021-03-01 00:02:38.311413   1988   33  2021      3  \n",
       "2021-03-01 00:04:54.559692   1989   32  2021      3  \n",
       "2021-03-01 00:05:18.801198   1956   65  2021      3  "
      ]
     },
     "execution_count": 116,
     "metadata": {},
     "output_type": "execute_result"
    }
   ],
   "source": [
    "transaction_df.head()"
   ]
  },
  {
   "cell_type": "code",
   "execution_count": 117,
   "metadata": {},
   "outputs": [
    {
     "data": {
      "image/png": "[encoded data removed]",
      "text/plain": [
       "<Figure size 432x288 with 1 Axes>"
      ]
     },
     "metadata": {
      "needs_background": "light"
     },
     "output_type": "display_data"
    }
   ],
   "source": [
    "sns.violinplot(x='categ', y='age', data=transaction_df, figsize=(12,6))\n",
    "plt.title('Repartition de l\\'age en fonction des catégories de produits')\n",
    "plt.show()"
   ]
  },
  {
   "cell_type": "markdown",
   "metadata": {},
   "source": [
    "- La repartition de l'age est homogène chez les clients de catégorie 1.0.\n",
    "- Les produits de catégorie 0.0 sont achétés par plupart des clients qui ont l'age compris entre 35 et 45 ans. \n",
    "- Les produits de catégorie 1.0 sont achétés les clients qui ont l'age compris entre 35 et 55 ans.\n",
    "- Les produits de catégorie 2.0 sont achetés par les clients qui ont l'age compris entre 17 et 25 ans."
   ]
  },
  {
   "cell_type": "markdown",
   "metadata": {},
   "source": [
    "### Test d'ANOVA "
   ]
  },
  {
   "cell_type": "code",
   "execution_count": 118,
   "metadata": {},
   "outputs": [
    {
     "data": {
      "image/png": "[encoded data removed]",
      "text/plain": [
       "<Figure size 864x432 with 1 Axes>"
      ]
     },
     "metadata": {
      "needs_background": "light"
     },
     "output_type": "display_data"
    }
   ],
   "source": [
    "X = \"categ\" # qualitative\n",
    "Y = \"age\" # quantitative\n",
    "\n",
    "modalites = transaction_df[X].unique()\n",
    "groupes = []\n",
    "for m in modalites:\n",
    "    groupes.append(transaction_df[transaction_df[X]==m][Y])\n",
    "medianprops = {'color':\"black\"}\n",
    "meanprops = {'marker':'o', 'markeredgecolor':'black',\n",
    "         'markerfacecolor':'firebrick'}\n",
    "plt.figure(figsize=(12,6))\n",
    "plt.boxplot(groupes, labels=modalites, showfliers=False, medianprops=medianprops, \n",
    "            vert=False, patch_artist=True, showmeans=True, meanprops=meanprops)\n",
    "plt.title('Repartition de l\\'age en fonction des catégories de produits')\n",
    "plt.xlabel('age')\n",
    "plt.ylabel('categorie')\n",
    "plt.show()"
   ]
  },
  {
   "cell_type": "markdown",
   "metadata": {},
   "source": [
    "Les points rouge representent la moyenne des valeurs."
   ]
  },
  {
   "cell_type": "code",
   "execution_count": 119,
   "metadata": {},
   "outputs": [
    {
     "data": {
      "text/plain": [
       "0.11900916927611803"
      ]
     },
     "execution_count": 119,
     "metadata": {},
     "output_type": "execute_result"
    }
   ],
   "source": [
    "X = \"categ\" # qualitative\n",
    "Y = \"age\" # quantitative\n",
    "\n",
    "\n",
    "def eta_squared(x,y):\n",
    "    moyenne_y = y.mean() #calcul de la moyenne de tous les ages\n",
    "    classes = []\n",
    "    for classe in x.unique():\n",
    "        yi_classe = y[x==classe] \n",
    "        classes.append({'ni': len(yi_classe),\n",
    "                        'moyenne_classe': yi_classe.mean()})\n",
    "    SCT = sum([(yj-moyenne_y)**2 for yj in y]) # calcul de la variation totale\n",
    "    SCE = sum([c['ni']*(c['moyenne_classe']-moyenne_y)**2 for c in classes]) # calcul de la varitation interclasse\n",
    "    return SCE/SCT\n",
    "    \n",
    "eta_squared(transaction_df[X],transaction_df[Y])"
   ]
  },
  {
   "cell_type": "markdown",
   "metadata": {},
   "source": [
    "**Conclusion**: eta_squared > 0 donc Il existe une correlation entre l'âge des clients et les catégories de produits. "
   ]
  },
  {
   "cell_type": "markdown",
   "metadata": {},
   "source": [
    "### Repartiton des prix en fonction de l'age des clients "
   ]
  },
  {
   "cell_type": "code",
   "execution_count": 120,
   "metadata": {},
   "outputs": [
    {
     "data": {
      "image/png": "[encoded data removed]",
      "text/plain": [
       "<Figure size 720x576 with 1 Axes>"
      ]
     },
     "metadata": {
      "needs_background": "light"
     },
     "output_type": "display_data"
    }
   ],
   "source": [
    "transaction_df.plot(kind='scatter', x='age', y='price', figsize=(10,8))\n",
    "plt.title('Age des clients en fonction du montant total des achats')\n",
    "plt.show()"
   ]
  },
  {
   "cell_type": "markdown",
   "metadata": {},
   "source": [
    "Les prix compris entre 0 et 25 EURO sont repartis à tous les clients de tout age. Les clients ayant l'âge compris entre 17 et 30 ans ont un pouvoir d'achat plus élévé que les autres. "
   ]
  },
  {
   "cell_type": "markdown",
   "metadata": {},
   "source": [
    "* Calcul du coefficient de correlation de Pearson"
   ]
  },
  {
   "cell_type": "code",
   "execution_count": 121,
   "metadata": {},
   "outputs": [
    {
     "name": "stdout",
     "output_type": "stream",
     "text": [
      "-0.20943870186601704\n",
      "-52.10263370239436\n"
     ]
    }
   ],
   "source": [
    "print(st.pearsonr(transaction_df['age'], transaction_df['price'])[0])\n",
    "print(np.cov(transaction_df['age'], transaction_df['price'], ddof=0)[1,0])"
   ]
  },
  {
   "cell_type": "markdown",
   "metadata": {},
   "source": [
    "Il n'ya pas de correlation linéaire entre l'age et le prix des produits"
   ]
  },
  {
   "cell_type": "code",
   "execution_count": 122,
   "metadata": {},
   "outputs": [
    {
     "data": {
      "text/html": [
       "<div>\n",
       "<style scoped>\n",
       "    .dataframe tbody tr th:only-of-type {\n",
       "        vertical-align: middle;\n",
       "    }\n",
       "\n",
       "    .dataframe tbody tr th {\n",
       "        vertical-align: top;\n",
       "    }\n",
       "\n",
       "    .dataframe thead th {\n",
       "        text-align: right;\n",
       "    }\n",
       "</style>\n",
       "<table border=\"1\" class=\"dataframe\">\n",
       "  <thead>\n",
       "    <tr style=\"text-align: right;\">\n",
       "      <th></th>\n",
       "      <th>age</th>\n",
       "      <th>price</th>\n",
       "    </tr>\n",
       "  </thead>\n",
       "  <tbody>\n",
       "    <tr>\n",
       "      <th>0</th>\n",
       "      <td>17</td>\n",
       "      <td>609013.690000</td>\n",
       "    </tr>\n",
       "    <tr>\n",
       "      <th>1</th>\n",
       "      <td>18</td>\n",
       "      <td>178195.780000</td>\n",
       "    </tr>\n",
       "    <tr>\n",
       "      <th>2</th>\n",
       "      <td>19</td>\n",
       "      <td>184209.264989</td>\n",
       "    </tr>\n",
       "    <tr>\n",
       "      <th>3</th>\n",
       "      <td>20</td>\n",
       "      <td>178497.700000</td>\n",
       "    </tr>\n",
       "    <tr>\n",
       "      <th>4</th>\n",
       "      <td>21</td>\n",
       "      <td>165029.256659</td>\n",
       "    </tr>\n",
       "  </tbody>\n",
       "</table>\n",
       "</div>"
      ],
      "text/plain": [
       "   age          price\n",
       "0   17  609013.690000\n",
       "1   18  178195.780000\n",
       "2   19  184209.264989\n",
       "3   20  178497.700000\n",
       "4   21  165029.256659"
      ]
     },
     "execution_count": 122,
     "metadata": {},
     "output_type": "execute_result"
    }
   ],
   "source": [
    "CA_age = transaction_df[['age','price']].groupby(['age']).sum().reset_index()\n",
    "CA_age.head()"
   ]
  },
  {
   "cell_type": "code",
   "execution_count": 123,
   "metadata": {},
   "outputs": [
    {
     "data": {
      "image/png": "[encoded data removed]",
      "text/plain": [
       "<Figure size 720x576 with 1 Axes>"
      ]
     },
     "metadata": {
      "needs_background": "light"
     },
     "output_type": "display_data"
    }
   ],
   "source": [
    "CA_age.plot(kind='scatter', x='age', y='price', figsize=(10,8))\n",
    "plt.title('Age des clients en fonction du montant total des achats')\n",
    "plt.show()"
   ]
  },
  {
   "cell_type": "code",
   "execution_count": 124,
   "metadata": {},
   "outputs": [
    {
     "name": "stdout",
     "output_type": "stream",
     "text": [
      "-0.7788603103339341\n",
      "-2230273.131777334\n"
     ]
    }
   ],
   "source": [
    "print(st.pearsonr(CA_age['age'], CA_age['price'])[0])\n",
    "print(np.cov(CA_age['age'], CA_age['price'], ddof=0)[1,0])"
   ]
  },
  {
   "cell_type": "markdown",
   "metadata": {},
   "source": [
    "Il ya une corrélation polynomiale entre l'âge et le CA. On a une parabole avec un sommet à 40 ans. Entre 17 et 40 le CA augmente. Les clients de autour de 40 ans participent plus au CA. Les clients qui ont 40 ans ont un CA faible. "
   ]
  },
  {
   "cell_type": "markdown",
   "metadata": {},
   "source": [
    "###  La regression linéeaire "
   ]
  },
  {
   "cell_type": "code",
   "execution_count": 125,
   "metadata": {},
   "outputs": [],
   "source": [
    "import statsmodels.api as sm\n",
    "\n",
    "Y = CA_age['price'] # premier argument\n",
    "X = CA_age[['age']] # deuxième argument\n",
    "X = X.copy() # On modifiera X, on en crée donc une copie\n",
    "X['intercept'] = 1.\n",
    "result = sm.OLS(Y, X).fit() # OLS = Ordinary Least Square (Moindres Carrés Ordinaire)\n",
    "a,b = result.params['age'],result.params['intercept']\n"
   ]
  },
  {
   "cell_type": "code",
   "execution_count": 126,
   "metadata": {},
   "outputs": [
    {
     "data": {
      "text/plain": [
       "(-4634.333780316537, 408572.24038069416)"
      ]
     },
     "execution_count": 126,
     "metadata": {},
     "output_type": "execute_result"
    }
   ],
   "source": [
    "a,b = result.params['age'],result.params['intercept']\n",
    "a,b"
   ]
  },
  {
   "cell_type": "code",
   "execution_count": 127,
   "metadata": {},
   "outputs": [
    {
     "data": {
      "image/png": "[encoded data removed]",
      "text/plain": [
       "<Figure size 864x432 with 1 Axes>"
      ]
     },
     "metadata": {
      "needs_background": "light"
     },
     "output_type": "display_data"
    }
   ],
   "source": [
    "plt.figure(figsize=(12,6))\n",
    "plt.plot(CA_age.age,CA_age.price, \"o\")\n",
    "plt.plot(np.arange(95),[a*x+b for x in np.arange(95)])\n",
    "plt.xlabel(\"age\")\n",
    "plt.ylabel(\"price\")\n",
    "plt.show()"
   ]
  },
  {
   "cell_type": "markdown",
   "metadata": {},
   "source": [
    "l'équation de la droite est de la forme **y = -4634.333780316537x + 408572.24038069416**. Donc il ya un lien entre l'age des clients et le CA. Le coefficient de regression est négative."
   ]
  },
  {
   "cell_type": "markdown",
   "metadata": {},
   "source": [
    "**Conclusion**: Les clients qui ont un age autour de 40 ans participe plus au CA."
   ]
  },
  {
   "cell_type": "code",
   "execution_count": null,
   "metadata": {},
   "outputs": [],
   "source": []
  }
 ],
 "metadata": {
  "kernelspec": {
   "display_name": "Python 3",
   "language": "python",
   "name": "python3"
  },
  "language_info": {
   "codemirror_mode": {
    "name": "ipython",
    "version": 3
   },
   "file_extension": ".py",
   "mimetype": "text/x-python",
   "name": "python",
   "nbconvert_exporter": "python",
   "pygments_lexer": "ipython3",
   "version": "3.7.6"
  }
 },
 "nbformat": 4,
 "nbformat_minor": 4
}
